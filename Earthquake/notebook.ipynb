{
  "nbformat": 4,
  "nbformat_minor": 0,
  "metadata": {
    "colab": {
      "name": "Data.ipynb",
      "provenance": []
    },
    "kernelspec": {
      "name": "python3",
      "display_name": "Python 3"
    },
    "language_info": {
      "name": "python"
    }
  },
  "cells": [
    {
      "cell_type": "markdown",
      "source": [
        "<img src=\"https://images.newscientist.com/wp-content/uploads/2015/10/mg22830412.800-1_800.jpg?width=800\" >"
      ],
      "metadata": {
        "id": "PQzKuTEgWlt-"
      }
    },
    {
      "cell_type": "markdown",
      "source": [
        "# **Predicting Earthquake Damage**\n",
        "\n",
        "- **Nokulunga Twala**\n",
        "- **Kwanda Mazibuko**"
      ],
      "metadata": {
        "id": "Bno0kq00Xfpu"
      }
    },
    {
      "cell_type": "markdown",
      "source": [
        "## Table of contents\n",
        "1. [Introduction](#intro)\n",
        "2. [Data Collection](#data)\n",
        "3. [Data Preprocessing](#cleaning)\n",
        "4. [Exploratory Data Analysis](#EDA)\n",
        "5. [Feature Engineering And Selection](#features)\n",
        "6. [Model Building And Evaluation](#model)\n",
        "7. [Model Hyperparameter Tuning](#tuning)\n",
        "8. [Conclusion](#conclusion)\n",
        "9. [References](#references)"
      ],
      "metadata": {
        "id": "T7AaGKnkc_AX"
      }
    },
    {
      "cell_type": "markdown",
      "source": [
        "<a id=\"intro\"></a>\n",
        "# 1. **Introduction**"
      ],
      "metadata": {
        "id": "vBv9CKKjdBU-"
      }
    },
    {
      "cell_type": "markdown",
      "source": [
        "####**Problem Statement**\n",
        "\n",
        "As we are diving deep into the field of artificial intelligence, we are coming across ways in which AI can leverage human life and potentially save them from disasters in the coming future. One such small step towards this far but promising future is to use data from past and find some patterns which are universal in nature and which can promise some accurate prediction thereby helping humans minimize the effects of disaster.\n",
        "\n",
        "\n"
      ],
      "metadata": {
        "id": "hfPPOHmuks2M"
      }
    },
    {
      "cell_type": "markdown",
      "source": [
        "####**Objective**\n",
        "\n",
        "We're trying to predict the ordinal varibale damage_grade, which represents a level of damage to the building that was hit by the earthquake. "
      ],
      "metadata": {
        "id": "ocML0k3jlB7m"
      }
    },
    {
      "cell_type": "markdown",
      "source": [
        "####**Literature Review**\n",
        "\n",
        "An earthquake is caused by a sudden slip on a fault. The tectonic plates are always slowly moving, but they get stuck at their edges due to friction. When the stress on the edge overcomes the friction, there is an earthquake that releases energy in waves that travel through the earth's crust and cause the shaking that we feel.\n",
        "\n",
        " Earthquakes occur most often along geologic faults, narrow zones where rock masses move in relation to one another. The major fault lines of the world are located at the fringes of the huge tectonic plates that make up Earth’s crust.\n",
        "\n",
        "**Causes of earthquakes**\n",
        "\n",
        "Earth’s major earthquakes occur mainly in belts coinciding with the margins of tectonic plates. This has long been apparent from early catalogs of felt earthquakes and is even more readily discernible in modern seismicity maps, which show instrumentally determined epicentres. The most important earthquake belt is the Circum-Pacific Belt, which affects many populated coastal regions around the Pacific Ocean—for example, those of New Zealand, New Guinea, Japan, the Aleutian Islands, Alaska, and the western coasts of North and South America. It is estimated that 80 percent of the energy presently released in earthquakes comes from those whose epicentres are in this belt. The seismic activity is by no means uniform throughout the belt, and there are a number of branches at various points. Because at many places the Circum-Pacific Belt is associated with volcanic activity, it has been popularly dubbed the “Pacific Ring of Fire.”\n",
        "\n",
        "Earthquakes are caused by the sudden release of energy within some limited region of the rocks of the Earth. The energy can be released by elastic strain, gravity, chemical reactions, or even the motion of massive bodies. Of all these the release of elastic strain is the most important cause, because this form of energy is the only kind that can be stored in sufficient quantity in the Earth to produce major disturbances. Earthquakes associated with this type of energy release are called tectonic earthquakes."
      ],
      "metadata": {
        "id": "o-KKfU_Nk114"
      }
    },
    {
      "cell_type": "markdown",
      "source": [
        "<a id=\"data\"></a>\n",
        "# 2. **Data Collection**"
      ],
      "metadata": {
        "id": "x3FuUteAdTxo"
      }
    },
    {
      "cell_type": "markdown",
      "source": [
        "The data comes from the 2015 Nepal Earthquake Open Data Portal, and mainly consists of information on the buildings' structure and their legal ownership. Each row in the dataset represents a specific building in the region that was hit by Gorkha earthquake."
      ],
      "metadata": {
        "id": "BkKUyWMwddmN"
      }
    },
    {
      "cell_type": "markdown",
      "source": [
        "# **Importing Libraries**"
      ],
      "metadata": {
        "id": "r1THQygzeOG6"
      }
    },
    {
      "cell_type": "code",
      "source": [
        "# Libraries for data loading, data manipulation and data visulisation\n",
        "import numpy as np\n",
        "import pandas as pd\n",
        "#\n",
        "import matplotlib.pyplot as plt\n",
        "from matplotlib import rc\n",
        "import seaborn as sns\n",
        "from statsmodels.graphics.correlation import plot_corr\n",
        "from scipy.stats import skew\n",
        "from scipy.stats import kurtosis\n",
        "import statistics\n",
        "\n",
        "# datetime\n",
        "import datetime\n",
        "\n",
        "# Libraries for data preparation and model building\n",
        "from sklearn.utils import resample\n",
        "from sklearn.preprocessing import LabelEncoder\n",
        "import statsmodels.formula.api as sm\n",
        "from statsmodels.formula.api import ols\n",
        "from sklearn import metrics\n",
        "from sklearn.svm import SVR\n",
        "from xgboost.sklearn import XGBRegressor\n",
        "from sklearn.feature_selection import RFE\n",
        "from sklearn.feature_selection import RFECV\n",
        "from sklearn.feature_selection import SelectKBest, chi2\n",
        "from scipy.stats import boxcox, zscore\n",
        "from sklearn.metrics import mean_squared_error\n",
        "from sklearn.tree import DecisionTreeRegressor\n",
        "from sklearn.compose import ColumnTransformer\n",
        "from sklearn.ensemble import RandomForestRegressor, VotingRegressor, StackingRegressor, BaggingRegressor, AdaBoostRegressor\n",
        "from sklearn.linear_model import Lasso, Ridge, LinearRegression\n",
        "from sklearn.model_selection import train_test_split, KFold, cross_val_score, GridSearchCV\n",
        "from sklearn.preprocessing import LabelEncoder, OneHotEncoder, StandardScaler, PolynomialFeatures\n",
        "\n",
        "# Deep Learning\n",
        "\n",
        "# for operating system\n",
        "import os\n",
        "\n",
        "#tensorflow\n",
        "import tensorflow as tf\n",
        "\n",
        "from tensorflow import keras\n",
        "from tensorflow.keras.models import Sequential\n",
        "from tensorflow.keras.layers import Activation, Dense, BatchNormalization, Dropout\n",
        "from tensorflow.keras import optimizers\n",
        "\n",
        "# saving my model\n",
        "import pickle\n",
        "\n",
        "#ignoring warnings\n",
        "import warnings\n",
        "warnings.filterwarnings('ignore')\n",
        "\n",
        "#ignoring warnings\n",
        "import warnings\n",
        "warnings.filterwarnings('ignore')\n",
        "%matplotlib inline\n",
        "\n",
        "#making sure that we can see all rows and cols\n",
        "pd.set_option('display.max_columns', None)\n",
        "\n",
        "pd.set_option('display.max_rows', None)"
      ],
      "metadata": {
        "id": "l9VoHFjfdUyJ",
        "outputId": "632f0195-2ffe-41f5-9c96-b83aa246304a",
        "colab": {
          "base_uri": "https://localhost:8080/"
        }
      },
      "execution_count": null,
      "outputs": [
        {
          "output_type": "stream",
          "name": "stderr",
          "text": [
            "/usr/local/lib/python3.7/dist-packages/statsmodels/tools/_testing.py:19: FutureWarning: pandas.util.testing is deprecated. Use the functions in the public API at pandas.testing instead.\n",
            "  import pandas.util.testing as tm\n"
          ]
        }
      ]
    },
    {
      "cell_type": "markdown",
      "source": [
        "### **Loading Data**"
      ],
      "metadata": {
        "id": "3bMdhPArfa7X"
      }
    },
    {
      "cell_type": "code",
      "source": [
        "from google.colab import drive\n",
        "drive.mount('/content/drive')"
      ],
      "metadata": {
        "id": "_WuGnw6vrgVa",
        "outputId": "a42f7f8f-401a-4401-eb5e-d04db8448bfd",
        "colab": {
          "base_uri": "https://localhost:8080/"
        }
      },
      "execution_count": null,
      "outputs": [
        {
          "output_type": "stream",
          "name": "stdout",
          "text": [
            "Mounted at /content/drive\n"
          ]
        }
      ]
    },
    {
      "cell_type": "code",
      "source": [
        "train_values = pd.read_csv('/content/drive/MyDrive/data/earth_comp_data/train_values.csv')\n",
        "train_labels = pd.read_csv('/content/drive/MyDrive/data/earth_comp_data/train_labels.csv')\n",
        "test_values = pd.read_csv('/content/drive/MyDrive/data/earth_comp_data/test_values.csv')"
      ],
      "metadata": {
        "id": "3BWuLxb1fpBw"
      },
      "execution_count": null,
      "outputs": []
    },
    {
      "cell_type": "code",
      "source": [
        "df_train = train_values.merge(train_labels, on = 'building_id')"
      ],
      "metadata": {
        "id": "XSDyAkefsjm-"
      },
      "execution_count": null,
      "outputs": []
    },
    {
      "cell_type": "code",
      "source": [
        "df_train.head()"
      ],
      "metadata": {
        "id": "NcnPKmibuHSH",
        "outputId": "142966e7-f779-4a42-cfae-117afbb06d5a",
        "colab": {
          "base_uri": "https://localhost:8080/",
          "height": 270
        }
      },
      "execution_count": null,
      "outputs": [
        {
          "output_type": "execute_result",
          "data": {
            "text/plain": [
              "   building_id  geo_level_1_id  geo_level_2_id  geo_level_3_id  \\\n",
              "0       802906               6             487           12198   \n",
              "1        28830               8             900            2812   \n",
              "2        94947              21             363            8973   \n",
              "3       590882              22             418           10694   \n",
              "4       201944              11             131            1488   \n",
              "\n",
              "   count_floors_pre_eq  age  area_percentage  height_percentage  \\\n",
              "0                    2   30                6                  5   \n",
              "1                    2   10                8                  7   \n",
              "2                    2   10                5                  5   \n",
              "3                    2   10                6                  5   \n",
              "4                    3   30                8                  9   \n",
              "\n",
              "  land_surface_condition foundation_type roof_type ground_floor_type  \\\n",
              "0                      t               r         n                 f   \n",
              "1                      o               r         n                 x   \n",
              "2                      t               r         n                 f   \n",
              "3                      t               r         n                 f   \n",
              "4                      t               r         n                 f   \n",
              "\n",
              "  other_floor_type position plan_configuration  has_superstructure_adobe_mud  \\\n",
              "0                q        t                  d                             1   \n",
              "1                q        s                  d                             0   \n",
              "2                x        t                  d                             0   \n",
              "3                x        s                  d                             0   \n",
              "4                x        s                  d                             1   \n",
              "\n",
              "   has_superstructure_mud_mortar_stone  has_superstructure_stone_flag  \\\n",
              "0                                    1                              0   \n",
              "1                                    1                              0   \n",
              "2                                    1                              0   \n",
              "3                                    1                              0   \n",
              "4                                    0                              0   \n",
              "\n",
              "   has_superstructure_cement_mortar_stone  \\\n",
              "0                                       0   \n",
              "1                                       0   \n",
              "2                                       0   \n",
              "3                                       0   \n",
              "4                                       0   \n",
              "\n",
              "   has_superstructure_mud_mortar_brick  \\\n",
              "0                                    0   \n",
              "1                                    0   \n",
              "2                                    0   \n",
              "3                                    0   \n",
              "4                                    0   \n",
              "\n",
              "   has_superstructure_cement_mortar_brick  has_superstructure_timber  \\\n",
              "0                                       0                          0   \n",
              "1                                       0                          0   \n",
              "2                                       0                          0   \n",
              "3                                       0                          1   \n",
              "4                                       0                          0   \n",
              "\n",
              "   has_superstructure_bamboo  has_superstructure_rc_non_engineered  \\\n",
              "0                          0                                     0   \n",
              "1                          0                                     0   \n",
              "2                          0                                     0   \n",
              "3                          1                                     0   \n",
              "4                          0                                     0   \n",
              "\n",
              "   has_superstructure_rc_engineered  has_superstructure_other  \\\n",
              "0                                 0                         0   \n",
              "1                                 0                         0   \n",
              "2                                 0                         0   \n",
              "3                                 0                         0   \n",
              "4                                 0                         0   \n",
              "\n",
              "  legal_ownership_status  count_families  has_secondary_use  \\\n",
              "0                      v               1                  0   \n",
              "1                      v               1                  0   \n",
              "2                      v               1                  0   \n",
              "3                      v               1                  0   \n",
              "4                      v               1                  0   \n",
              "\n",
              "   has_secondary_use_agriculture  has_secondary_use_hotel  \\\n",
              "0                              0                        0   \n",
              "1                              0                        0   \n",
              "2                              0                        0   \n",
              "3                              0                        0   \n",
              "4                              0                        0   \n",
              "\n",
              "   has_secondary_use_rental  has_secondary_use_institution  \\\n",
              "0                         0                              0   \n",
              "1                         0                              0   \n",
              "2                         0                              0   \n",
              "3                         0                              0   \n",
              "4                         0                              0   \n",
              "\n",
              "   has_secondary_use_school  has_secondary_use_industry  \\\n",
              "0                         0                           0   \n",
              "1                         0                           0   \n",
              "2                         0                           0   \n",
              "3                         0                           0   \n",
              "4                         0                           0   \n",
              "\n",
              "   has_secondary_use_health_post  has_secondary_use_gov_office  \\\n",
              "0                              0                             0   \n",
              "1                              0                             0   \n",
              "2                              0                             0   \n",
              "3                              0                             0   \n",
              "4                              0                             0   \n",
              "\n",
              "   has_secondary_use_use_police  has_secondary_use_other  damage_grade  \n",
              "0                             0                        0             3  \n",
              "1                             0                        0             2  \n",
              "2                             0                        0             3  \n",
              "3                             0                        0             2  \n",
              "4                             0                        0             3  "
            ],
            "text/html": [
              "\n",
              "  <div id=\"df-4fbce225-dacd-46f6-9394-e836af2f1ece\">\n",
              "    <div class=\"colab-df-container\">\n",
              "      <div>\n",
              "<style scoped>\n",
              "    .dataframe tbody tr th:only-of-type {\n",
              "        vertical-align: middle;\n",
              "    }\n",
              "\n",
              "    .dataframe tbody tr th {\n",
              "        vertical-align: top;\n",
              "    }\n",
              "\n",
              "    .dataframe thead th {\n",
              "        text-align: right;\n",
              "    }\n",
              "</style>\n",
              "<table border=\"1\" class=\"dataframe\">\n",
              "  <thead>\n",
              "    <tr style=\"text-align: right;\">\n",
              "      <th></th>\n",
              "      <th>building_id</th>\n",
              "      <th>geo_level_1_id</th>\n",
              "      <th>geo_level_2_id</th>\n",
              "      <th>geo_level_3_id</th>\n",
              "      <th>count_floors_pre_eq</th>\n",
              "      <th>age</th>\n",
              "      <th>area_percentage</th>\n",
              "      <th>height_percentage</th>\n",
              "      <th>land_surface_condition</th>\n",
              "      <th>foundation_type</th>\n",
              "      <th>roof_type</th>\n",
              "      <th>ground_floor_type</th>\n",
              "      <th>other_floor_type</th>\n",
              "      <th>position</th>\n",
              "      <th>plan_configuration</th>\n",
              "      <th>has_superstructure_adobe_mud</th>\n",
              "      <th>has_superstructure_mud_mortar_stone</th>\n",
              "      <th>has_superstructure_stone_flag</th>\n",
              "      <th>has_superstructure_cement_mortar_stone</th>\n",
              "      <th>has_superstructure_mud_mortar_brick</th>\n",
              "      <th>has_superstructure_cement_mortar_brick</th>\n",
              "      <th>has_superstructure_timber</th>\n",
              "      <th>has_superstructure_bamboo</th>\n",
              "      <th>has_superstructure_rc_non_engineered</th>\n",
              "      <th>has_superstructure_rc_engineered</th>\n",
              "      <th>has_superstructure_other</th>\n",
              "      <th>legal_ownership_status</th>\n",
              "      <th>count_families</th>\n",
              "      <th>has_secondary_use</th>\n",
              "      <th>has_secondary_use_agriculture</th>\n",
              "      <th>has_secondary_use_hotel</th>\n",
              "      <th>has_secondary_use_rental</th>\n",
              "      <th>has_secondary_use_institution</th>\n",
              "      <th>has_secondary_use_school</th>\n",
              "      <th>has_secondary_use_industry</th>\n",
              "      <th>has_secondary_use_health_post</th>\n",
              "      <th>has_secondary_use_gov_office</th>\n",
              "      <th>has_secondary_use_use_police</th>\n",
              "      <th>has_secondary_use_other</th>\n",
              "      <th>damage_grade</th>\n",
              "    </tr>\n",
              "  </thead>\n",
              "  <tbody>\n",
              "    <tr>\n",
              "      <th>0</th>\n",
              "      <td>802906</td>\n",
              "      <td>6</td>\n",
              "      <td>487</td>\n",
              "      <td>12198</td>\n",
              "      <td>2</td>\n",
              "      <td>30</td>\n",
              "      <td>6</td>\n",
              "      <td>5</td>\n",
              "      <td>t</td>\n",
              "      <td>r</td>\n",
              "      <td>n</td>\n",
              "      <td>f</td>\n",
              "      <td>q</td>\n",
              "      <td>t</td>\n",
              "      <td>d</td>\n",
              "      <td>1</td>\n",
              "      <td>1</td>\n",
              "      <td>0</td>\n",
              "      <td>0</td>\n",
              "      <td>0</td>\n",
              "      <td>0</td>\n",
              "      <td>0</td>\n",
              "      <td>0</td>\n",
              "      <td>0</td>\n",
              "      <td>0</td>\n",
              "      <td>0</td>\n",
              "      <td>v</td>\n",
              "      <td>1</td>\n",
              "      <td>0</td>\n",
              "      <td>0</td>\n",
              "      <td>0</td>\n",
              "      <td>0</td>\n",
              "      <td>0</td>\n",
              "      <td>0</td>\n",
              "      <td>0</td>\n",
              "      <td>0</td>\n",
              "      <td>0</td>\n",
              "      <td>0</td>\n",
              "      <td>0</td>\n",
              "      <td>3</td>\n",
              "    </tr>\n",
              "    <tr>\n",
              "      <th>1</th>\n",
              "      <td>28830</td>\n",
              "      <td>8</td>\n",
              "      <td>900</td>\n",
              "      <td>2812</td>\n",
              "      <td>2</td>\n",
              "      <td>10</td>\n",
              "      <td>8</td>\n",
              "      <td>7</td>\n",
              "      <td>o</td>\n",
              "      <td>r</td>\n",
              "      <td>n</td>\n",
              "      <td>x</td>\n",
              "      <td>q</td>\n",
              "      <td>s</td>\n",
              "      <td>d</td>\n",
              "      <td>0</td>\n",
              "      <td>1</td>\n",
              "      <td>0</td>\n",
              "      <td>0</td>\n",
              "      <td>0</td>\n",
              "      <td>0</td>\n",
              "      <td>0</td>\n",
              "      <td>0</td>\n",
              "      <td>0</td>\n",
              "      <td>0</td>\n",
              "      <td>0</td>\n",
              "      <td>v</td>\n",
              "      <td>1</td>\n",
              "      <td>0</td>\n",
              "      <td>0</td>\n",
              "      <td>0</td>\n",
              "      <td>0</td>\n",
              "      <td>0</td>\n",
              "      <td>0</td>\n",
              "      <td>0</td>\n",
              "      <td>0</td>\n",
              "      <td>0</td>\n",
              "      <td>0</td>\n",
              "      <td>0</td>\n",
              "      <td>2</td>\n",
              "    </tr>\n",
              "    <tr>\n",
              "      <th>2</th>\n",
              "      <td>94947</td>\n",
              "      <td>21</td>\n",
              "      <td>363</td>\n",
              "      <td>8973</td>\n",
              "      <td>2</td>\n",
              "      <td>10</td>\n",
              "      <td>5</td>\n",
              "      <td>5</td>\n",
              "      <td>t</td>\n",
              "      <td>r</td>\n",
              "      <td>n</td>\n",
              "      <td>f</td>\n",
              "      <td>x</td>\n",
              "      <td>t</td>\n",
              "      <td>d</td>\n",
              "      <td>0</td>\n",
              "      <td>1</td>\n",
              "      <td>0</td>\n",
              "      <td>0</td>\n",
              "      <td>0</td>\n",
              "      <td>0</td>\n",
              "      <td>0</td>\n",
              "      <td>0</td>\n",
              "      <td>0</td>\n",
              "      <td>0</td>\n",
              "      <td>0</td>\n",
              "      <td>v</td>\n",
              "      <td>1</td>\n",
              "      <td>0</td>\n",
              "      <td>0</td>\n",
              "      <td>0</td>\n",
              "      <td>0</td>\n",
              "      <td>0</td>\n",
              "      <td>0</td>\n",
              "      <td>0</td>\n",
              "      <td>0</td>\n",
              "      <td>0</td>\n",
              "      <td>0</td>\n",
              "      <td>0</td>\n",
              "      <td>3</td>\n",
              "    </tr>\n",
              "    <tr>\n",
              "      <th>3</th>\n",
              "      <td>590882</td>\n",
              "      <td>22</td>\n",
              "      <td>418</td>\n",
              "      <td>10694</td>\n",
              "      <td>2</td>\n",
              "      <td>10</td>\n",
              "      <td>6</td>\n",
              "      <td>5</td>\n",
              "      <td>t</td>\n",
              "      <td>r</td>\n",
              "      <td>n</td>\n",
              "      <td>f</td>\n",
              "      <td>x</td>\n",
              "      <td>s</td>\n",
              "      <td>d</td>\n",
              "      <td>0</td>\n",
              "      <td>1</td>\n",
              "      <td>0</td>\n",
              "      <td>0</td>\n",
              "      <td>0</td>\n",
              "      <td>0</td>\n",
              "      <td>1</td>\n",
              "      <td>1</td>\n",
              "      <td>0</td>\n",
              "      <td>0</td>\n",
              "      <td>0</td>\n",
              "      <td>v</td>\n",
              "      <td>1</td>\n",
              "      <td>0</td>\n",
              "      <td>0</td>\n",
              "      <td>0</td>\n",
              "      <td>0</td>\n",
              "      <td>0</td>\n",
              "      <td>0</td>\n",
              "      <td>0</td>\n",
              "      <td>0</td>\n",
              "      <td>0</td>\n",
              "      <td>0</td>\n",
              "      <td>0</td>\n",
              "      <td>2</td>\n",
              "    </tr>\n",
              "    <tr>\n",
              "      <th>4</th>\n",
              "      <td>201944</td>\n",
              "      <td>11</td>\n",
              "      <td>131</td>\n",
              "      <td>1488</td>\n",
              "      <td>3</td>\n",
              "      <td>30</td>\n",
              "      <td>8</td>\n",
              "      <td>9</td>\n",
              "      <td>t</td>\n",
              "      <td>r</td>\n",
              "      <td>n</td>\n",
              "      <td>f</td>\n",
              "      <td>x</td>\n",
              "      <td>s</td>\n",
              "      <td>d</td>\n",
              "      <td>1</td>\n",
              "      <td>0</td>\n",
              "      <td>0</td>\n",
              "      <td>0</td>\n",
              "      <td>0</td>\n",
              "      <td>0</td>\n",
              "      <td>0</td>\n",
              "      <td>0</td>\n",
              "      <td>0</td>\n",
              "      <td>0</td>\n",
              "      <td>0</td>\n",
              "      <td>v</td>\n",
              "      <td>1</td>\n",
              "      <td>0</td>\n",
              "      <td>0</td>\n",
              "      <td>0</td>\n",
              "      <td>0</td>\n",
              "      <td>0</td>\n",
              "      <td>0</td>\n",
              "      <td>0</td>\n",
              "      <td>0</td>\n",
              "      <td>0</td>\n",
              "      <td>0</td>\n",
              "      <td>0</td>\n",
              "      <td>3</td>\n",
              "    </tr>\n",
              "  </tbody>\n",
              "</table>\n",
              "</div>\n",
              "      <button class=\"colab-df-convert\" onclick=\"convertToInteractive('df-4fbce225-dacd-46f6-9394-e836af2f1ece')\"\n",
              "              title=\"Convert this dataframe to an interactive table.\"\n",
              "              style=\"display:none;\">\n",
              "        \n",
              "  <svg xmlns=\"http://www.w3.org/2000/svg\" height=\"24px\"viewBox=\"0 0 24 24\"\n",
              "       width=\"24px\">\n",
              "    <path d=\"M0 0h24v24H0V0z\" fill=\"none\"/>\n",
              "    <path d=\"M18.56 5.44l.94 2.06.94-2.06 2.06-.94-2.06-.94-.94-2.06-.94 2.06-2.06.94zm-11 1L8.5 8.5l.94-2.06 2.06-.94-2.06-.94L8.5 2.5l-.94 2.06-2.06.94zm10 10l.94 2.06.94-2.06 2.06-.94-2.06-.94-.94-2.06-.94 2.06-2.06.94z\"/><path d=\"M17.41 7.96l-1.37-1.37c-.4-.4-.92-.59-1.43-.59-.52 0-1.04.2-1.43.59L10.3 9.45l-7.72 7.72c-.78.78-.78 2.05 0 2.83L4 21.41c.39.39.9.59 1.41.59.51 0 1.02-.2 1.41-.59l7.78-7.78 2.81-2.81c.8-.78.8-2.07 0-2.86zM5.41 20L4 18.59l7.72-7.72 1.47 1.35L5.41 20z\"/>\n",
              "  </svg>\n",
              "      </button>\n",
              "      \n",
              "  <style>\n",
              "    .colab-df-container {\n",
              "      display:flex;\n",
              "      flex-wrap:wrap;\n",
              "      gap: 12px;\n",
              "    }\n",
              "\n",
              "    .colab-df-convert {\n",
              "      background-color: #E8F0FE;\n",
              "      border: none;\n",
              "      border-radius: 50%;\n",
              "      cursor: pointer;\n",
              "      display: none;\n",
              "      fill: #1967D2;\n",
              "      height: 32px;\n",
              "      padding: 0 0 0 0;\n",
              "      width: 32px;\n",
              "    }\n",
              "\n",
              "    .colab-df-convert:hover {\n",
              "      background-color: #E2EBFA;\n",
              "      box-shadow: 0px 1px 2px rgba(60, 64, 67, 0.3), 0px 1px 3px 1px rgba(60, 64, 67, 0.15);\n",
              "      fill: #174EA6;\n",
              "    }\n",
              "\n",
              "    [theme=dark] .colab-df-convert {\n",
              "      background-color: #3B4455;\n",
              "      fill: #D2E3FC;\n",
              "    }\n",
              "\n",
              "    [theme=dark] .colab-df-convert:hover {\n",
              "      background-color: #434B5C;\n",
              "      box-shadow: 0px 1px 3px 1px rgba(0, 0, 0, 0.15);\n",
              "      filter: drop-shadow(0px 1px 2px rgba(0, 0, 0, 0.3));\n",
              "      fill: #FFFFFF;\n",
              "    }\n",
              "  </style>\n",
              "\n",
              "      <script>\n",
              "        const buttonEl =\n",
              "          document.querySelector('#df-4fbce225-dacd-46f6-9394-e836af2f1ece button.colab-df-convert');\n",
              "        buttonEl.style.display =\n",
              "          google.colab.kernel.accessAllowed ? 'block' : 'none';\n",
              "\n",
              "        async function convertToInteractive(key) {\n",
              "          const element = document.querySelector('#df-4fbce225-dacd-46f6-9394-e836af2f1ece');\n",
              "          const dataTable =\n",
              "            await google.colab.kernel.invokeFunction('convertToInteractive',\n",
              "                                                     [key], {});\n",
              "          if (!dataTable) return;\n",
              "\n",
              "          const docLinkHtml = 'Like what you see? Visit the ' +\n",
              "            '<a target=\"_blank\" href=https://colab.research.google.com/notebooks/data_table.ipynb>data table notebook</a>'\n",
              "            + ' to learn more about interactive tables.';\n",
              "          element.innerHTML = '';\n",
              "          dataTable['output_type'] = 'display_data';\n",
              "          await google.colab.output.renderOutput(dataTable, element);\n",
              "          const docLink = document.createElement('div');\n",
              "          docLink.innerHTML = docLinkHtml;\n",
              "          element.appendChild(docLink);\n",
              "        }\n",
              "      </script>\n",
              "    </div>\n",
              "  </div>\n",
              "  "
            ]
          },
          "metadata": {},
          "execution_count": 5
        }
      ]
    },
    {
      "cell_type": "code",
      "source": [
        "# Checking how our training dataset looks like\n",
        "print(\"Rows    : \", df_train.shape[0])\n",
        "\n",
        "print(\"Columns : \", df_train.shape[1])\n",
        "\n",
        "print(\"\\nMissing values: \", df_train.isnull().sum().values.sum())\n",
        "\n",
        "print(\"\\nInformation about the data: \")\n",
        "print(\"  \\n\", df_train.info())\n",
        " \n",
        "print(\"\\nAbout the data: \\n\")\n",
        "\n",
        "# Check how many unique items are in each column of the dateframe\n",
        "df_columns = ['damage_grade']\n",
        "for col_name in df_columns:\n",
        "    unique_out = len(df_train[col_name].unique())\n",
        "    print(f\"Feature '{col_name}' has {unique_out} unique categories\") "
      ],
      "metadata": {
        "id": "XV5TZ_CWs6Sk",
        "outputId": "de91772b-85c2-4a0c-8a82-756ec3a4af80",
        "colab": {
          "base_uri": "https://localhost:8080/"
        }
      },
      "execution_count": null,
      "outputs": [
        {
          "output_type": "stream",
          "name": "stdout",
          "text": [
            "Rows    :  260601\n",
            "Columns :  40\n",
            "\n",
            "Missing values:  0\n",
            "\n",
            "Information about the data: \n",
            "<class 'pandas.core.frame.DataFrame'>\n",
            "Int64Index: 260601 entries, 0 to 260600\n",
            "Data columns (total 40 columns):\n",
            " #   Column                                  Non-Null Count   Dtype \n",
            "---  ------                                  --------------   ----- \n",
            " 0   building_id                             260601 non-null  int64 \n",
            " 1   geo_level_1_id                          260601 non-null  int64 \n",
            " 2   geo_level_2_id                          260601 non-null  int64 \n",
            " 3   geo_level_3_id                          260601 non-null  int64 \n",
            " 4   count_floors_pre_eq                     260601 non-null  int64 \n",
            " 5   age                                     260601 non-null  int64 \n",
            " 6   area_percentage                         260601 non-null  int64 \n",
            " 7   height_percentage                       260601 non-null  int64 \n",
            " 8   land_surface_condition                  260601 non-null  object\n",
            " 9   foundation_type                         260601 non-null  object\n",
            " 10  roof_type                               260601 non-null  object\n",
            " 11  ground_floor_type                       260601 non-null  object\n",
            " 12  other_floor_type                        260601 non-null  object\n",
            " 13  position                                260601 non-null  object\n",
            " 14  plan_configuration                      260601 non-null  object\n",
            " 15  has_superstructure_adobe_mud            260601 non-null  int64 \n",
            " 16  has_superstructure_mud_mortar_stone     260601 non-null  int64 \n",
            " 17  has_superstructure_stone_flag           260601 non-null  int64 \n",
            " 18  has_superstructure_cement_mortar_stone  260601 non-null  int64 \n",
            " 19  has_superstructure_mud_mortar_brick     260601 non-null  int64 \n",
            " 20  has_superstructure_cement_mortar_brick  260601 non-null  int64 \n",
            " 21  has_superstructure_timber               260601 non-null  int64 \n",
            " 22  has_superstructure_bamboo               260601 non-null  int64 \n",
            " 23  has_superstructure_rc_non_engineered    260601 non-null  int64 \n",
            " 24  has_superstructure_rc_engineered        260601 non-null  int64 \n",
            " 25  has_superstructure_other                260601 non-null  int64 \n",
            " 26  legal_ownership_status                  260601 non-null  object\n",
            " 27  count_families                          260601 non-null  int64 \n",
            " 28  has_secondary_use                       260601 non-null  int64 \n",
            " 29  has_secondary_use_agriculture           260601 non-null  int64 \n",
            " 30  has_secondary_use_hotel                 260601 non-null  int64 \n",
            " 31  has_secondary_use_rental                260601 non-null  int64 \n",
            " 32  has_secondary_use_institution           260601 non-null  int64 \n",
            " 33  has_secondary_use_school                260601 non-null  int64 \n",
            " 34  has_secondary_use_industry              260601 non-null  int64 \n",
            " 35  has_secondary_use_health_post           260601 non-null  int64 \n",
            " 36  has_secondary_use_gov_office            260601 non-null  int64 \n",
            " 37  has_secondary_use_use_police            260601 non-null  int64 \n",
            " 38  has_secondary_use_other                 260601 non-null  int64 \n",
            " 39  damage_grade                            260601 non-null  int64 \n",
            "dtypes: int64(32), object(8)\n",
            "memory usage: 81.5+ MB\n",
            "  \n",
            " None\n",
            "\n",
            "About the data: \n",
            "\n",
            "Feature 'damage_grade' has 3 unique categories\n"
          ]
        }
      ]
    },
    {
      "cell_type": "code",
      "source": [
        "df_train.damage_grade.value_counts()"
      ],
      "metadata": {
        "id": "J1ezu8ejWY25",
        "outputId": "26470aab-4831-4b8c-b62a-b37855d45c04",
        "colab": {
          "base_uri": "https://localhost:8080/"
        }
      },
      "execution_count": null,
      "outputs": [
        {
          "output_type": "execute_result",
          "data": {
            "text/plain": [
              "2    148259\n",
              "3     87218\n",
              "1     25124\n",
              "Name: damage_grade, dtype: int64"
            ]
          },
          "metadata": {},
          "execution_count": 40
        }
      ]
    },
    {
      "cell_type": "markdown",
      "source": [
        "<a id=\"cleaning\"></a>\n",
        "## 3. **Data Preprocessing**"
      ],
      "metadata": {
        "id": "EX32R3qddf34"
      }
    },
    {
      "cell_type": "markdown",
      "source": [
        "<a id=\"EDA\"></a>\n",
        "## 4. **Exploratory Data Analysis**"
      ],
      "metadata": {
        "id": "Wuxnoj58dkzn"
      }
    },
    {
      "cell_type": "code",
      "source": [
        "sns.countplot(x = 'damage_grade', data = df_train, palette = \"hls\")\n",
        "plt.title(\"Distribution of damage_grade\");"
      ],
      "metadata": {
        "id": "ZtHWm2S2aLgB",
        "outputId": "696b0fda-1d14-4b09-b1e5-4ad302ea2a55",
        "colab": {
          "base_uri": "https://localhost:8080/",
          "height": 296
        }
      },
      "execution_count": null,
      "outputs": [
        {
          "output_type": "display_data",
          "data": {
            "text/plain": [
              "<Figure size 432x288 with 1 Axes>"
            ],
            "image/png": "[encoded data removed]"
          },
          "metadata": {
            "needs_background": "light"
          }
        }
      ]
    },
    {
      "cell_type": "markdown",
      "source": [
        "- The data is not evenly classified. class 2 is highly represented in the data followed by class 3 and then class 1."
      ],
      "metadata": {
        "id": "P3Q7QDatpu6F"
      }
    },
    {
      "cell_type": "code",
      "source": [
        "features = df_train.columns\n",
        "\n",
        "\n",
        "df_train[features].hist(figsize = (25,20),  color = '#000354');"
      ],
      "metadata": {
        "id": "rGs1NMEedlxP",
        "outputId": "c7cd577d-db61-4933-b2b1-fe84b0adb5ef",
        "colab": {
          "base_uri": "https://localhost:8080/",
          "height": 965
        }
      },
      "execution_count": null,
      "outputs": [
        {
          "output_type": "display_data",
          "data": {
            "text/plain": [
              "<Figure size 1800x1440 with 36 Axes>"
            ],
            "image/png": "[encoded data removed]"
          },
          "metadata": {
            "needs_background": "light"
          }
        }
      ]
    },
    {
      "cell_type": "code",
      "source": [
        "df_train.columns"
      ],
      "metadata": {
        "id": "iqbAttNzdAaQ",
        "outputId": "21f03d50-cd4c-4d7f-d654-3837698da84d",
        "colab": {
          "base_uri": "https://localhost:8080/"
        }
      },
      "execution_count": null,
      "outputs": [
        {
          "output_type": "execute_result",
          "data": {
            "text/plain": [
              "Index(['building_id', 'geo_level_1_id', 'geo_level_2_id', 'geo_level_3_id',\n",
              "       'count_floors_pre_eq', 'age', 'area_percentage', 'height_percentage',\n",
              "       'land_surface_condition', 'foundation_type', 'roof_type',\n",
              "       'ground_floor_type', 'other_floor_type', 'position',\n",
              "       'plan_configuration', 'has_superstructure_adobe_mud',\n",
              "       'has_superstructure_mud_mortar_stone', 'has_superstructure_stone_flag',\n",
              "       'has_superstructure_cement_mortar_stone',\n",
              "       'has_superstructure_mud_mortar_brick',\n",
              "       'has_superstructure_cement_mortar_brick', 'has_superstructure_timber',\n",
              "       'has_superstructure_bamboo', 'has_superstructure_rc_non_engineered',\n",
              "       'has_superstructure_rc_engineered', 'has_superstructure_other',\n",
              "       'legal_ownership_status', 'count_families', 'has_secondary_use',\n",
              "       'has_secondary_use_agriculture', 'has_secondary_use_hotel',\n",
              "       'has_secondary_use_rental', 'has_secondary_use_institution',\n",
              "       'has_secondary_use_school', 'has_secondary_use_industry',\n",
              "       'has_secondary_use_health_post', 'has_secondary_use_gov_office',\n",
              "       'has_secondary_use_use_police', 'has_secondary_use_other',\n",
              "       'damage_grade'],\n",
              "      dtype='object')"
            ]
          },
          "metadata": {},
          "execution_count": 10
        }
      ]
    },
    {
      "cell_type": "code",
      "source": [
        "cols= [ 'geo_level_1_id', 'geo_level_2_id', 'geo_level_3_id',\n",
        "       'count_floors_pre_eq', 'age',\n",
        "       'land_surface_condition', 'damage_grade']"
      ],
      "metadata": {
        "id": "p-0EdWlpdr_7"
      },
      "execution_count": null,
      "outputs": []
    },
    {
      "cell_type": "code",
      "source": [
        "plt.figure(figsize=(12,8))\n",
        "sns.scatterplot(data = df_train, x=\"age\", y=\"area_percentage\", hue = \"damage_grade\", alpha=0.8, sizes=(40,200))\n",
        "plt.title(\"Damage Grade vs. Area Percentage and Age\")\n",
        "plt.show()"
      ],
      "metadata": {
        "id": "07hLyX-ctvrM",
        "outputId": "4c9b5d86-b8d6-4c98-e9bd-85439b18d16e",
        "colab": {
          "base_uri": "https://localhost:8080/",
          "height": 513
        }
      },
      "execution_count": null,
      "outputs": [
        {
          "output_type": "display_data",
          "data": {
            "text/plain": [
              "<Figure size 864x576 with 1 Axes>"
            ],
            "image/png": "[encoded data removed]"
          },
          "metadata": {}
        }
      ]
    },
    {
      "cell_type": "markdown",
      "source": [
        "<a id=\"features\"></a>\n",
        "## 5. **Feature engineering And Selection**"
      ],
      "metadata": {
        "id": "Gi9LBolpdmbK"
      }
    },
    {
      "cell_type": "code",
      "source": [
        "df_train.columns"
      ],
      "metadata": {
        "id": "XR2q1jWwYuQz",
        "outputId": "b030580a-434d-4edd-954f-cf68f7b780fb",
        "colab": {
          "base_uri": "https://localhost:8080/"
        }
      },
      "execution_count": null,
      "outputs": [
        {
          "output_type": "execute_result",
          "data": {
            "text/plain": [
              "Index(['building_id', 'geo_level_1_id', 'geo_level_2_id', 'geo_level_3_id',\n",
              "       'count_floors_pre_eq', 'age', 'area_percentage', 'height_percentage',\n",
              "       'land_surface_condition', 'foundation_type', 'roof_type',\n",
              "       'ground_floor_type', 'other_floor_type', 'position',\n",
              "       'plan_configuration', 'has_superstructure_adobe_mud',\n",
              "       'has_superstructure_mud_mortar_stone', 'has_superstructure_stone_flag',\n",
              "       'has_superstructure_cement_mortar_stone',\n",
              "       'has_superstructure_mud_mortar_brick',\n",
              "       'has_superstructure_cement_mortar_brick', 'has_superstructure_timber',\n",
              "       'has_superstructure_bamboo', 'has_superstructure_rc_non_engineered',\n",
              "       'has_superstructure_rc_engineered', 'has_superstructure_other',\n",
              "       'legal_ownership_status', 'count_families', 'has_secondary_use',\n",
              "       'has_secondary_use_agriculture', 'has_secondary_use_hotel',\n",
              "       'has_secondary_use_rental', 'has_secondary_use_institution',\n",
              "       'has_secondary_use_school', 'has_secondary_use_industry',\n",
              "       'has_secondary_use_health_post', 'has_secondary_use_gov_office',\n",
              "       'has_secondary_use_use_police', 'has_secondary_use_other',\n",
              "       'damage_grade'],\n",
              "      dtype='object')"
            ]
          },
          "metadata": {},
          "execution_count": 41
        }
      ]
    },
    {
      "cell_type": "code",
      "source": [
        "cols = ['building_id', 'geo_level_1_id', 'geo_level_2_id', 'geo_level_3_id',\n",
        "       'count_floors_pre_eq', 'age', 'area_percentage', 'height_percentage',\n",
        "       'land_surface_condition', 'foundation_type', 'roof_type',\n",
        "       'ground_floor_type', 'other_floor_type', 'position',\n",
        "       'plan_configuration', 'has_superstructure_adobe_mud',\n",
        "       'has_superstructure_mud_mortar_stone', 'has_superstructure_stone_flag',\n",
        "       'has_superstructure_cement_mortar_stone',\n",
        "       'has_superstructure_mud_mortar_brick',\n",
        "       'has_superstructure_cement_mortar_brick', 'has_superstructure_timber',\n",
        "       'has_superstructure_bamboo','has_superstructure_rc_engineered', 'has_superstructure_other','damage_grade']\n",
        "       \n",
        "train_data = df_train[cols]\n"
      ],
      "metadata": {
        "id": "6H7lZsfdds7T"
      },
      "execution_count": null,
      "outputs": []
    },
    {
      "cell_type": "code",
      "source": [
        "train_data.damage_grade.value_counts()"
      ],
      "metadata": {
        "id": "QDq68AuPZZud",
        "outputId": "365d42f4-11f2-4325-adba-d51d8644de2d",
        "colab": {
          "base_uri": "https://localhost:8080/"
        }
      },
      "execution_count": null,
      "outputs": [
        {
          "output_type": "execute_result",
          "data": {
            "text/plain": [
              "2    148259\n",
              "3     87218\n",
              "1     25124\n",
              "Name: damage_grade, dtype: int64"
            ]
          },
          "metadata": {},
          "execution_count": 8
        }
      ]
    },
    {
      "cell_type": "code",
      "source": [
        "def resample_data(df):\n",
        "    \n",
        "    # Determining the class with more tweets\n",
        "    \n",
        "    upper_class = int(len(train_data[train_data['damage_grade'] == 1]))\n",
        "    \n",
        "    # seperating the 3 classes \n",
        "    class_one = train_data[train_data['damage_grade'] == 1] \n",
        "\n",
        "    class_two = train_data[train_data['damage_grade'] == 2]\n",
        "\n",
        "    class_three = train_data[train_data['damage_grade'] == 3]\n",
        "\n",
        "    \n",
        "    # upsampling classes\n",
        "    class_1_down = resample(class_one, replace = False,n_samples = upper_class, random_state = 0)\n",
        "\n",
        "    class_2_down = resample(class_two,replace = True,n_samples = upper_class, random_state = 0)\n",
        "\n",
        "    class_3_down = resample(class_three,replace = True,n_samples = upper_class, random_state = 0) # nothing was changed \n",
        "    \n",
        "    # Creating a new DataFrame out of the balanced data\n",
        "    new_df = pd.concat([class_1_down, class_2_down, class_3_down])\n",
        "\n",
        "    return new_df"
      ],
      "metadata": {
        "id": "bJ7S87rWZndy"
      },
      "execution_count": null,
      "outputs": []
    },
    {
      "cell_type": "markdown",
      "source": [
        "- We downsample the data corresponding to class 2 and 3 to be the same as class 1."
      ],
      "metadata": {
        "id": "V6pUqE5frUIB"
      }
    },
    {
      "cell_type": "code",
      "source": [
        "# applying the resampling function to data\n",
        "new_df = resample_data(train_data)\n",
        "df = new_df.sample(frac=1).reset_index(drop=True)"
      ],
      "metadata": {
        "id": "WeC0Rdsdb5vJ"
      },
      "execution_count": null,
      "outputs": []
    },
    {
      "cell_type": "code",
      "source": [
        "df.head()"
      ],
      "metadata": {
        "id": "Bx5eLcbzcW80",
        "outputId": "0156faf1-c23e-4465-956c-7ff41d0c9e87",
        "colab": {
          "base_uri": "https://localhost:8080/",
          "height": 270
        }
      },
      "execution_count": null,
      "outputs": [
        {
          "output_type": "execute_result",
          "data": {
            "text/plain": [
              "   building_id  geo_level_1_id  geo_level_2_id  geo_level_3_id  \\\n",
              "0       453152              21             111           10866   \n",
              "1       702109               6             464           10457   \n",
              "2       599354              17             247            3997   \n",
              "3      1037150              20             826            5653   \n",
              "4       163547              21             363            9414   \n",
              "\n",
              "   count_floors_pre_eq  age  area_percentage  height_percentage  \\\n",
              "0                    2   65               10                  6   \n",
              "1                    2   10                6                  6   \n",
              "2                    1   25                7                  4   \n",
              "3                    1    0                7                  3   \n",
              "4                    3   60                9                  6   \n",
              "\n",
              "  land_surface_condition foundation_type roof_type ground_floor_type  \\\n",
              "0                      t               r         n                 f   \n",
              "1                      n               r         n                 f   \n",
              "2                      n               h         n                 x   \n",
              "3                      t               w         n                 f   \n",
              "4                      t               r         q                 f   \n",
              "\n",
              "  other_floor_type position plan_configuration  has_superstructure_adobe_mud  \\\n",
              "0                q        s                  d                             0   \n",
              "1                q        s                  d                             0   \n",
              "2                j        s                  d                             0   \n",
              "3                j        s                  a                             0   \n",
              "4                q        t                  d                             0   \n",
              "\n",
              "   has_superstructure_mud_mortar_stone  has_superstructure_stone_flag  \\\n",
              "0                                    1                              0   \n",
              "1                                    1                              0   \n",
              "2                                    0                              1   \n",
              "3                                    0                              0   \n",
              "4                                    1                              0   \n",
              "\n",
              "   has_superstructure_cement_mortar_stone  \\\n",
              "0                                       0   \n",
              "1                                       0   \n",
              "2                                       0   \n",
              "3                                       0   \n",
              "4                                       0   \n",
              "\n",
              "   has_superstructure_mud_mortar_brick  \\\n",
              "0                                    0   \n",
              "1                                    0   \n",
              "2                                    0   \n",
              "3                                    0   \n",
              "4                                    0   \n",
              "\n",
              "   has_superstructure_cement_mortar_brick  has_superstructure_timber  \\\n",
              "0                                       0                          0   \n",
              "1                                       0                          0   \n",
              "2                                       0                          1   \n",
              "3                                       0                          1   \n",
              "4                                       0                          0   \n",
              "\n",
              "   has_superstructure_bamboo  has_superstructure_rc_engineered  \\\n",
              "0                          0                                 0   \n",
              "1                          0                                 0   \n",
              "2                          0                                 0   \n",
              "3                          1                                 0   \n",
              "4                          0                                 0   \n",
              "\n",
              "   has_superstructure_other  damage_grade  \n",
              "0                         0             3  \n",
              "1                         0             2  \n",
              "2                         1             3  \n",
              "3                         0             1  \n",
              "4                         0             3  "
            ],
            "text/html": [
              "\n",
              "  <div id=\"df-2c1e7e31-9fa9-4bd0-97c8-64c8a4051f99\">\n",
              "    <div class=\"colab-df-container\">\n",
              "      <div>\n",
              "<style scoped>\n",
              "    .dataframe tbody tr th:only-of-type {\n",
              "        vertical-align: middle;\n",
              "    }\n",
              "\n",
              "    .dataframe tbody tr th {\n",
              "        vertical-align: top;\n",
              "    }\n",
              "\n",
              "    .dataframe thead th {\n",
              "        text-align: right;\n",
              "    }\n",
              "</style>\n",
              "<table border=\"1\" class=\"dataframe\">\n",
              "  <thead>\n",
              "    <tr style=\"text-align: right;\">\n",
              "      <th></th>\n",
              "      <th>building_id</th>\n",
              "      <th>geo_level_1_id</th>\n",
              "      <th>geo_level_2_id</th>\n",
              "      <th>geo_level_3_id</th>\n",
              "      <th>count_floors_pre_eq</th>\n",
              "      <th>age</th>\n",
              "      <th>area_percentage</th>\n",
              "      <th>height_percentage</th>\n",
              "      <th>land_surface_condition</th>\n",
              "      <th>foundation_type</th>\n",
              "      <th>roof_type</th>\n",
              "      <th>ground_floor_type</th>\n",
              "      <th>other_floor_type</th>\n",
              "      <th>position</th>\n",
              "      <th>plan_configuration</th>\n",
              "      <th>has_superstructure_adobe_mud</th>\n",
              "      <th>has_superstructure_mud_mortar_stone</th>\n",
              "      <th>has_superstructure_stone_flag</th>\n",
              "      <th>has_superstructure_cement_mortar_stone</th>\n",
              "      <th>has_superstructure_mud_mortar_brick</th>\n",
              "      <th>has_superstructure_cement_mortar_brick</th>\n",
              "      <th>has_superstructure_timber</th>\n",
              "      <th>has_superstructure_bamboo</th>\n",
              "      <th>has_superstructure_rc_engineered</th>\n",
              "      <th>has_superstructure_other</th>\n",
              "      <th>damage_grade</th>\n",
              "    </tr>\n",
              "  </thead>\n",
              "  <tbody>\n",
              "    <tr>\n",
              "      <th>0</th>\n",
              "      <td>453152</td>\n",
              "      <td>21</td>\n",
              "      <td>111</td>\n",
              "      <td>10866</td>\n",
              "      <td>2</td>\n",
              "      <td>65</td>\n",
              "      <td>10</td>\n",
              "      <td>6</td>\n",
              "      <td>t</td>\n",
              "      <td>r</td>\n",
              "      <td>n</td>\n",
              "      <td>f</td>\n",
              "      <td>q</td>\n",
              "      <td>s</td>\n",
              "      <td>d</td>\n",
              "      <td>0</td>\n",
              "      <td>1</td>\n",
              "      <td>0</td>\n",
              "      <td>0</td>\n",
              "      <td>0</td>\n",
              "      <td>0</td>\n",
              "      <td>0</td>\n",
              "      <td>0</td>\n",
              "      <td>0</td>\n",
              "      <td>0</td>\n",
              "      <td>3</td>\n",
              "    </tr>\n",
              "    <tr>\n",
              "      <th>1</th>\n",
              "      <td>702109</td>\n",
              "      <td>6</td>\n",
              "      <td>464</td>\n",
              "      <td>10457</td>\n",
              "      <td>2</td>\n",
              "      <td>10</td>\n",
              "      <td>6</td>\n",
              "      <td>6</td>\n",
              "      <td>n</td>\n",
              "      <td>r</td>\n",
              "      <td>n</td>\n",
              "      <td>f</td>\n",
              "      <td>q</td>\n",
              "      <td>s</td>\n",
              "      <td>d</td>\n",
              "      <td>0</td>\n",
              "      <td>1</td>\n",
              "      <td>0</td>\n",
              "      <td>0</td>\n",
              "      <td>0</td>\n",
              "      <td>0</td>\n",
              "      <td>0</td>\n",
              "      <td>0</td>\n",
              "      <td>0</td>\n",
              "      <td>0</td>\n",
              "      <td>2</td>\n",
              "    </tr>\n",
              "    <tr>\n",
              "      <th>2</th>\n",
              "      <td>599354</td>\n",
              "      <td>17</td>\n",
              "      <td>247</td>\n",
              "      <td>3997</td>\n",
              "      <td>1</td>\n",
              "      <td>25</td>\n",
              "      <td>7</td>\n",
              "      <td>4</td>\n",
              "      <td>n</td>\n",
              "      <td>h</td>\n",
              "      <td>n</td>\n",
              "      <td>x</td>\n",
              "      <td>j</td>\n",
              "      <td>s</td>\n",
              "      <td>d</td>\n",
              "      <td>0</td>\n",
              "      <td>0</td>\n",
              "      <td>1</td>\n",
              "      <td>0</td>\n",
              "      <td>0</td>\n",
              "      <td>0</td>\n",
              "      <td>1</td>\n",
              "      <td>0</td>\n",
              "      <td>0</td>\n",
              "      <td>1</td>\n",
              "      <td>3</td>\n",
              "    </tr>\n",
              "    <tr>\n",
              "      <th>3</th>\n",
              "      <td>1037150</td>\n",
              "      <td>20</td>\n",
              "      <td>826</td>\n",
              "      <td>5653</td>\n",
              "      <td>1</td>\n",
              "      <td>0</td>\n",
              "      <td>7</td>\n",
              "      <td>3</td>\n",
              "      <td>t</td>\n",
              "      <td>w</td>\n",
              "      <td>n</td>\n",
              "      <td>f</td>\n",
              "      <td>j</td>\n",
              "      <td>s</td>\n",
              "      <td>a</td>\n",
              "      <td>0</td>\n",
              "      <td>0</td>\n",
              "      <td>0</td>\n",
              "      <td>0</td>\n",
              "      <td>0</td>\n",
              "      <td>0</td>\n",
              "      <td>1</td>\n",
              "      <td>1</td>\n",
              "      <td>0</td>\n",
              "      <td>0</td>\n",
              "      <td>1</td>\n",
              "    </tr>\n",
              "    <tr>\n",
              "      <th>4</th>\n",
              "      <td>163547</td>\n",
              "      <td>21</td>\n",
              "      <td>363</td>\n",
              "      <td>9414</td>\n",
              "      <td>3</td>\n",
              "      <td>60</td>\n",
              "      <td>9</td>\n",
              "      <td>6</td>\n",
              "      <td>t</td>\n",
              "      <td>r</td>\n",
              "      <td>q</td>\n",
              "      <td>f</td>\n",
              "      <td>q</td>\n",
              "      <td>t</td>\n",
              "      <td>d</td>\n",
              "      <td>0</td>\n",
              "      <td>1</td>\n",
              "      <td>0</td>\n",
              "      <td>0</td>\n",
              "      <td>0</td>\n",
              "      <td>0</td>\n",
              "      <td>0</td>\n",
              "      <td>0</td>\n",
              "      <td>0</td>\n",
              "      <td>0</td>\n",
              "      <td>3</td>\n",
              "    </tr>\n",
              "  </tbody>\n",
              "</table>\n",
              "</div>\n",
              "      <button class=\"colab-df-convert\" onclick=\"convertToInteractive('df-2c1e7e31-9fa9-4bd0-97c8-64c8a4051f99')\"\n",
              "              title=\"Convert this dataframe to an interactive table.\"\n",
              "              style=\"display:none;\">\n",
              "        \n",
              "  <svg xmlns=\"http://www.w3.org/2000/svg\" height=\"24px\"viewBox=\"0 0 24 24\"\n",
              "       width=\"24px\">\n",
              "    <path d=\"M0 0h24v24H0V0z\" fill=\"none\"/>\n",
              "    <path d=\"M18.56 5.44l.94 2.06.94-2.06 2.06-.94-2.06-.94-.94-2.06-.94 2.06-2.06.94zm-11 1L8.5 8.5l.94-2.06 2.06-.94-2.06-.94L8.5 2.5l-.94 2.06-2.06.94zm10 10l.94 2.06.94-2.06 2.06-.94-2.06-.94-.94-2.06-.94 2.06-2.06.94z\"/><path d=\"M17.41 7.96l-1.37-1.37c-.4-.4-.92-.59-1.43-.59-.52 0-1.04.2-1.43.59L10.3 9.45l-7.72 7.72c-.78.78-.78 2.05 0 2.83L4 21.41c.39.39.9.59 1.41.59.51 0 1.02-.2 1.41-.59l7.78-7.78 2.81-2.81c.8-.78.8-2.07 0-2.86zM5.41 20L4 18.59l7.72-7.72 1.47 1.35L5.41 20z\"/>\n",
              "  </svg>\n",
              "      </button>\n",
              "      \n",
              "  <style>\n",
              "    .colab-df-container {\n",
              "      display:flex;\n",
              "      flex-wrap:wrap;\n",
              "      gap: 12px;\n",
              "    }\n",
              "\n",
              "    .colab-df-convert {\n",
              "      background-color: #E8F0FE;\n",
              "      border: none;\n",
              "      border-radius: 50%;\n",
              "      cursor: pointer;\n",
              "      display: none;\n",
              "      fill: #1967D2;\n",
              "      height: 32px;\n",
              "      padding: 0 0 0 0;\n",
              "      width: 32px;\n",
              "    }\n",
              "\n",
              "    .colab-df-convert:hover {\n",
              "      background-color: #E2EBFA;\n",
              "      box-shadow: 0px 1px 2px rgba(60, 64, 67, 0.3), 0px 1px 3px 1px rgba(60, 64, 67, 0.15);\n",
              "      fill: #174EA6;\n",
              "    }\n",
              "\n",
              "    [theme=dark] .colab-df-convert {\n",
              "      background-color: #3B4455;\n",
              "      fill: #D2E3FC;\n",
              "    }\n",
              "\n",
              "    [theme=dark] .colab-df-convert:hover {\n",
              "      background-color: #434B5C;\n",
              "      box-shadow: 0px 1px 3px 1px rgba(0, 0, 0, 0.15);\n",
              "      filter: drop-shadow(0px 1px 2px rgba(0, 0, 0, 0.3));\n",
              "      fill: #FFFFFF;\n",
              "    }\n",
              "  </style>\n",
              "\n",
              "      <script>\n",
              "        const buttonEl =\n",
              "          document.querySelector('#df-2c1e7e31-9fa9-4bd0-97c8-64c8a4051f99 button.colab-df-convert');\n",
              "        buttonEl.style.display =\n",
              "          google.colab.kernel.accessAllowed ? 'block' : 'none';\n",
              "\n",
              "        async function convertToInteractive(key) {\n",
              "          const element = document.querySelector('#df-2c1e7e31-9fa9-4bd0-97c8-64c8a4051f99');\n",
              "          const dataTable =\n",
              "            await google.colab.kernel.invokeFunction('convertToInteractive',\n",
              "                                                     [key], {});\n",
              "          if (!dataTable) return;\n",
              "\n",
              "          const docLinkHtml = 'Like what you see? Visit the ' +\n",
              "            '<a target=\"_blank\" href=https://colab.research.google.com/notebooks/data_table.ipynb>data table notebook</a>'\n",
              "            + ' to learn more about interactive tables.';\n",
              "          element.innerHTML = '';\n",
              "          dataTable['output_type'] = 'display_data';\n",
              "          await google.colab.output.renderOutput(dataTable, element);\n",
              "          const docLink = document.createElement('div');\n",
              "          docLink.innerHTML = docLinkHtml;\n",
              "          element.appendChild(docLink);\n",
              "        }\n",
              "      </script>\n",
              "    </div>\n",
              "  </div>\n",
              "  "
            ]
          },
          "metadata": {},
          "execution_count": 11
        }
      ]
    },
    {
      "cell_type": "code",
      "source": [
        "pred_cols =['building_id', 'geo_level_1_id', 'geo_level_2_id', 'geo_level_3_id',\n",
        "       'count_floors_pre_eq', 'age', 'area_percentage', 'height_percentage',\n",
        "       'land_surface_condition', 'foundation_type', 'roof_type',\n",
        "       'ground_floor_type', 'other_floor_type', 'position',\n",
        "       'plan_configuration', 'has_superstructure_adobe_mud',\n",
        "       'has_superstructure_mud_mortar_stone', 'has_superstructure_stone_flag',\n",
        "       'has_superstructure_cement_mortar_stone',\n",
        "       'has_superstructure_mud_mortar_brick',\n",
        "       'has_superstructure_cement_mortar_brick', 'has_superstructure_timber',\n",
        "       'has_superstructure_bamboo','has_superstructure_rc_engineered', 'has_superstructure_other']"
      ],
      "metadata": {
        "id": "J9exiCQJsWAT"
      },
      "execution_count": null,
      "outputs": []
    },
    {
      "cell_type": "code",
      "source": [
        "# instantiate encoder\n",
        "le = LabelEncoder()"
      ],
      "metadata": {
        "id": "TOW9YpxUfQXC"
      },
      "execution_count": null,
      "outputs": []
    },
    {
      "cell_type": "code",
      "source": [
        "# encoding categorical variables\n",
        "\n",
        "\n",
        "df_train['land_surface_condition'] = le.fit_transform(df_train['land_surface_condition'])\n",
        "df_train['foundation_type'] = le.fit_transform(df_train['foundation_type'])\n",
        "df_train['roof_type'] = le.fit_transform(df_train['roof_type'])\n",
        "df_train['ground_floor_type'] = le.fit_transform(df_train['ground_floor_type'])\n",
        "df_train['other_floor_type'] = le.fit_transform(df_train['other_floor_type'])\n",
        "df_train['position'] = le.fit_transform(df_train['position'])\n",
        "df_train['plan_configuration'] = le.fit_transform(df_train['plan_configuration'])\n",
        "\n",
        "test_df = test_values[pred_cols]\n",
        "test_df['land_surface_condition'] = le.fit_transform(test_df['land_surface_condition'])\n",
        "test_df['foundation_type'] = le.fit_transform(test_df['foundation_type'])\n",
        "test_df['roof_type'] = le.fit_transform(test_df['roof_type'])\n",
        "test_df['ground_floor_type'] = le.fit_transform(test_df['ground_floor_type'])\n",
        "test_df['other_floor_type'] = le.fit_transform(test_df['other_floor_type'])\n",
        "test_df['position'] = le.fit_transform(test_df['position'])\n",
        "test_df['plan_configuration'] = le.fit_transform(test_df['plan_configuration'])\n"
      ],
      "metadata": {
        "id": "NczZ9JOafale"
      },
      "execution_count": null,
      "outputs": []
    },
    {
      "cell_type": "code",
      "source": [
        "df.head()"
      ],
      "metadata": {
        "id": "M22-tLJ6faaP",
        "outputId": "577d89e0-33cc-4acf-d9c6-a8f82266b12b",
        "colab": {
          "base_uri": "https://localhost:8080/",
          "height": 270
        }
      },
      "execution_count": null,
      "outputs": [
        {
          "output_type": "execute_result",
          "data": {
            "text/plain": [
              "   building_id  geo_level_1_id  geo_level_2_id  geo_level_3_id  \\\n",
              "0       453152              21             111           10866   \n",
              "1       702109               6             464           10457   \n",
              "2       599354              17             247            3997   \n",
              "3      1037150              20             826            5653   \n",
              "4       163547              21             363            9414   \n",
              "\n",
              "   count_floors_pre_eq  age  area_percentage  height_percentage  \\\n",
              "0                    2   65               10                  6   \n",
              "1                    2   10                6                  6   \n",
              "2                    1   25                7                  4   \n",
              "3                    1    0                7                  3   \n",
              "4                    3   60                9                  6   \n",
              "\n",
              "   land_surface_condition  foundation_type  roof_type  ground_floor_type  \\\n",
              "0                       2                2          0                  0   \n",
              "1                       0                2          0                  0   \n",
              "2                       0                0          0                  3   \n",
              "3                       2                4          0                  0   \n",
              "4                       2                2          1                  0   \n",
              "\n",
              "   other_floor_type  position  plan_configuration  \\\n",
              "0                 1         2                   2   \n",
              "1                 1         2                   2   \n",
              "2                 0         2                   2   \n",
              "3                 0         2                   0   \n",
              "4                 1         3                   2   \n",
              "\n",
              "   has_superstructure_adobe_mud  has_superstructure_mud_mortar_stone  \\\n",
              "0                             0                                    1   \n",
              "1                             0                                    1   \n",
              "2                             0                                    0   \n",
              "3                             0                                    0   \n",
              "4                             0                                    1   \n",
              "\n",
              "   has_superstructure_stone_flag  has_superstructure_cement_mortar_stone  \\\n",
              "0                              0                                       0   \n",
              "1                              0                                       0   \n",
              "2                              1                                       0   \n",
              "3                              0                                       0   \n",
              "4                              0                                       0   \n",
              "\n",
              "   has_superstructure_mud_mortar_brick  \\\n",
              "0                                    0   \n",
              "1                                    0   \n",
              "2                                    0   \n",
              "3                                    0   \n",
              "4                                    0   \n",
              "\n",
              "   has_superstructure_cement_mortar_brick  has_superstructure_timber  \\\n",
              "0                                       0                          0   \n",
              "1                                       0                          0   \n",
              "2                                       0                          1   \n",
              "3                                       0                          1   \n",
              "4                                       0                          0   \n",
              "\n",
              "   has_superstructure_bamboo  has_superstructure_rc_engineered  \\\n",
              "0                          0                                 0   \n",
              "1                          0                                 0   \n",
              "2                          0                                 0   \n",
              "3                          1                                 0   \n",
              "4                          0                                 0   \n",
              "\n",
              "   has_superstructure_other  damage_grade  \n",
              "0                         0             3  \n",
              "1                         0             2  \n",
              "2                         1             3  \n",
              "3                         0             1  \n",
              "4                         0             3  "
            ],
            "text/html": [
              "\n",
              "  <div id=\"df-8d48f4cb-7c7a-480d-bbd7-307f21e756fb\">\n",
              "    <div class=\"colab-df-container\">\n",
              "      <div>\n",
              "<style scoped>\n",
              "    .dataframe tbody tr th:only-of-type {\n",
              "        vertical-align: middle;\n",
              "    }\n",
              "\n",
              "    .dataframe tbody tr th {\n",
              "        vertical-align: top;\n",
              "    }\n",
              "\n",
              "    .dataframe thead th {\n",
              "        text-align: right;\n",
              "    }\n",
              "</style>\n",
              "<table border=\"1\" class=\"dataframe\">\n",
              "  <thead>\n",
              "    <tr style=\"text-align: right;\">\n",
              "      <th></th>\n",
              "      <th>building_id</th>\n",
              "      <th>geo_level_1_id</th>\n",
              "      <th>geo_level_2_id</th>\n",
              "      <th>geo_level_3_id</th>\n",
              "      <th>count_floors_pre_eq</th>\n",
              "      <th>age</th>\n",
              "      <th>area_percentage</th>\n",
              "      <th>height_percentage</th>\n",
              "      <th>land_surface_condition</th>\n",
              "      <th>foundation_type</th>\n",
              "      <th>roof_type</th>\n",
              "      <th>ground_floor_type</th>\n",
              "      <th>other_floor_type</th>\n",
              "      <th>position</th>\n",
              "      <th>plan_configuration</th>\n",
              "      <th>has_superstructure_adobe_mud</th>\n",
              "      <th>has_superstructure_mud_mortar_stone</th>\n",
              "      <th>has_superstructure_stone_flag</th>\n",
              "      <th>has_superstructure_cement_mortar_stone</th>\n",
              "      <th>has_superstructure_mud_mortar_brick</th>\n",
              "      <th>has_superstructure_cement_mortar_brick</th>\n",
              "      <th>has_superstructure_timber</th>\n",
              "      <th>has_superstructure_bamboo</th>\n",
              "      <th>has_superstructure_rc_engineered</th>\n",
              "      <th>has_superstructure_other</th>\n",
              "      <th>damage_grade</th>\n",
              "    </tr>\n",
              "  </thead>\n",
              "  <tbody>\n",
              "    <tr>\n",
              "      <th>0</th>\n",
              "      <td>453152</td>\n",
              "      <td>21</td>\n",
              "      <td>111</td>\n",
              "      <td>10866</td>\n",
              "      <td>2</td>\n",
              "      <td>65</td>\n",
              "      <td>10</td>\n",
              "      <td>6</td>\n",
              "      <td>2</td>\n",
              "      <td>2</td>\n",
              "      <td>0</td>\n",
              "      <td>0</td>\n",
              "      <td>1</td>\n",
              "      <td>2</td>\n",
              "      <td>2</td>\n",
              "      <td>0</td>\n",
              "      <td>1</td>\n",
              "      <td>0</td>\n",
              "      <td>0</td>\n",
              "      <td>0</td>\n",
              "      <td>0</td>\n",
              "      <td>0</td>\n",
              "      <td>0</td>\n",
              "      <td>0</td>\n",
              "      <td>0</td>\n",
              "      <td>3</td>\n",
              "    </tr>\n",
              "    <tr>\n",
              "      <th>1</th>\n",
              "      <td>702109</td>\n",
              "      <td>6</td>\n",
              "      <td>464</td>\n",
              "      <td>10457</td>\n",
              "      <td>2</td>\n",
              "      <td>10</td>\n",
              "      <td>6</td>\n",
              "      <td>6</td>\n",
              "      <td>0</td>\n",
              "      <td>2</td>\n",
              "      <td>0</td>\n",
              "      <td>0</td>\n",
              "      <td>1</td>\n",
              "      <td>2</td>\n",
              "      <td>2</td>\n",
              "      <td>0</td>\n",
              "      <td>1</td>\n",
              "      <td>0</td>\n",
              "      <td>0</td>\n",
              "      <td>0</td>\n",
              "      <td>0</td>\n",
              "      <td>0</td>\n",
              "      <td>0</td>\n",
              "      <td>0</td>\n",
              "      <td>0</td>\n",
              "      <td>2</td>\n",
              "    </tr>\n",
              "    <tr>\n",
              "      <th>2</th>\n",
              "      <td>599354</td>\n",
              "      <td>17</td>\n",
              "      <td>247</td>\n",
              "      <td>3997</td>\n",
              "      <td>1</td>\n",
              "      <td>25</td>\n",
              "      <td>7</td>\n",
              "      <td>4</td>\n",
              "      <td>0</td>\n",
              "      <td>0</td>\n",
              "      <td>0</td>\n",
              "      <td>3</td>\n",
              "      <td>0</td>\n",
              "      <td>2</td>\n",
              "      <td>2</td>\n",
              "      <td>0</td>\n",
              "      <td>0</td>\n",
              "      <td>1</td>\n",
              "      <td>0</td>\n",
              "      <td>0</td>\n",
              "      <td>0</td>\n",
              "      <td>1</td>\n",
              "      <td>0</td>\n",
              "      <td>0</td>\n",
              "      <td>1</td>\n",
              "      <td>3</td>\n",
              "    </tr>\n",
              "    <tr>\n",
              "      <th>3</th>\n",
              "      <td>1037150</td>\n",
              "      <td>20</td>\n",
              "      <td>826</td>\n",
              "      <td>5653</td>\n",
              "      <td>1</td>\n",
              "      <td>0</td>\n",
              "      <td>7</td>\n",
              "      <td>3</td>\n",
              "      <td>2</td>\n",
              "      <td>4</td>\n",
              "      <td>0</td>\n",
              "      <td>0</td>\n",
              "      <td>0</td>\n",
              "      <td>2</td>\n",
              "      <td>0</td>\n",
              "      <td>0</td>\n",
              "      <td>0</td>\n",
              "      <td>0</td>\n",
              "      <td>0</td>\n",
              "      <td>0</td>\n",
              "      <td>0</td>\n",
              "      <td>1</td>\n",
              "      <td>1</td>\n",
              "      <td>0</td>\n",
              "      <td>0</td>\n",
              "      <td>1</td>\n",
              "    </tr>\n",
              "    <tr>\n",
              "      <th>4</th>\n",
              "      <td>163547</td>\n",
              "      <td>21</td>\n",
              "      <td>363</td>\n",
              "      <td>9414</td>\n",
              "      <td>3</td>\n",
              "      <td>60</td>\n",
              "      <td>9</td>\n",
              "      <td>6</td>\n",
              "      <td>2</td>\n",
              "      <td>2</td>\n",
              "      <td>1</td>\n",
              "      <td>0</td>\n",
              "      <td>1</td>\n",
              "      <td>3</td>\n",
              "      <td>2</td>\n",
              "      <td>0</td>\n",
              "      <td>1</td>\n",
              "      <td>0</td>\n",
              "      <td>0</td>\n",
              "      <td>0</td>\n",
              "      <td>0</td>\n",
              "      <td>0</td>\n",
              "      <td>0</td>\n",
              "      <td>0</td>\n",
              "      <td>0</td>\n",
              "      <td>3</td>\n",
              "    </tr>\n",
              "  </tbody>\n",
              "</table>\n",
              "</div>\n",
              "      <button class=\"colab-df-convert\" onclick=\"convertToInteractive('df-8d48f4cb-7c7a-480d-bbd7-307f21e756fb')\"\n",
              "              title=\"Convert this dataframe to an interactive table.\"\n",
              "              style=\"display:none;\">\n",
              "        \n",
              "  <svg xmlns=\"http://www.w3.org/2000/svg\" height=\"24px\"viewBox=\"0 0 24 24\"\n",
              "       width=\"24px\">\n",
              "    <path d=\"M0 0h24v24H0V0z\" fill=\"none\"/>\n",
              "    <path d=\"M18.56 5.44l.94 2.06.94-2.06 2.06-.94-2.06-.94-.94-2.06-.94 2.06-2.06.94zm-11 1L8.5 8.5l.94-2.06 2.06-.94-2.06-.94L8.5 2.5l-.94 2.06-2.06.94zm10 10l.94 2.06.94-2.06 2.06-.94-2.06-.94-.94-2.06-.94 2.06-2.06.94z\"/><path d=\"M17.41 7.96l-1.37-1.37c-.4-.4-.92-.59-1.43-.59-.52 0-1.04.2-1.43.59L10.3 9.45l-7.72 7.72c-.78.78-.78 2.05 0 2.83L4 21.41c.39.39.9.59 1.41.59.51 0 1.02-.2 1.41-.59l7.78-7.78 2.81-2.81c.8-.78.8-2.07 0-2.86zM5.41 20L4 18.59l7.72-7.72 1.47 1.35L5.41 20z\"/>\n",
              "  </svg>\n",
              "      </button>\n",
              "      \n",
              "  <style>\n",
              "    .colab-df-container {\n",
              "      display:flex;\n",
              "      flex-wrap:wrap;\n",
              "      gap: 12px;\n",
              "    }\n",
              "\n",
              "    .colab-df-convert {\n",
              "      background-color: #E8F0FE;\n",
              "      border: none;\n",
              "      border-radius: 50%;\n",
              "      cursor: pointer;\n",
              "      display: none;\n",
              "      fill: #1967D2;\n",
              "      height: 32px;\n",
              "      padding: 0 0 0 0;\n",
              "      width: 32px;\n",
              "    }\n",
              "\n",
              "    .colab-df-convert:hover {\n",
              "      background-color: #E2EBFA;\n",
              "      box-shadow: 0px 1px 2px rgba(60, 64, 67, 0.3), 0px 1px 3px 1px rgba(60, 64, 67, 0.15);\n",
              "      fill: #174EA6;\n",
              "    }\n",
              "\n",
              "    [theme=dark] .colab-df-convert {\n",
              "      background-color: #3B4455;\n",
              "      fill: #D2E3FC;\n",
              "    }\n",
              "\n",
              "    [theme=dark] .colab-df-convert:hover {\n",
              "      background-color: #434B5C;\n",
              "      box-shadow: 0px 1px 3px 1px rgba(0, 0, 0, 0.15);\n",
              "      filter: drop-shadow(0px 1px 2px rgba(0, 0, 0, 0.3));\n",
              "      fill: #FFFFFF;\n",
              "    }\n",
              "  </style>\n",
              "\n",
              "      <script>\n",
              "        const buttonEl =\n",
              "          document.querySelector('#df-8d48f4cb-7c7a-480d-bbd7-307f21e756fb button.colab-df-convert');\n",
              "        buttonEl.style.display =\n",
              "          google.colab.kernel.accessAllowed ? 'block' : 'none';\n",
              "\n",
              "        async function convertToInteractive(key) {\n",
              "          const element = document.querySelector('#df-8d48f4cb-7c7a-480d-bbd7-307f21e756fb');\n",
              "          const dataTable =\n",
              "            await google.colab.kernel.invokeFunction('convertToInteractive',\n",
              "                                                     [key], {});\n",
              "          if (!dataTable) return;\n",
              "\n",
              "          const docLinkHtml = 'Like what you see? Visit the ' +\n",
              "            '<a target=\"_blank\" href=https://colab.research.google.com/notebooks/data_table.ipynb>data table notebook</a>'\n",
              "            + ' to learn more about interactive tables.';\n",
              "          element.innerHTML = '';\n",
              "          dataTable['output_type'] = 'display_data';\n",
              "          await google.colab.output.renderOutput(dataTable, element);\n",
              "          const docLink = document.createElement('div');\n",
              "          docLink.innerHTML = docLinkHtml;\n",
              "          element.appendChild(docLink);\n",
              "        }\n",
              "      </script>\n",
              "    </div>\n",
              "  </div>\n",
              "  "
            ]
          },
          "metadata": {},
          "execution_count": 38
        }
      ]
    },
    {
      "cell_type": "code",
      "source": [
        "df.info()"
      ],
      "metadata": {
        "id": "IlWNFmsxhNei",
        "outputId": "272cf437-ba29-4c6b-a391-651bd43812dc",
        "colab": {
          "base_uri": "https://localhost:8080/"
        }
      },
      "execution_count": null,
      "outputs": [
        {
          "output_type": "stream",
          "name": "stdout",
          "text": [
            "<class 'pandas.core.frame.DataFrame'>\n",
            "RangeIndex: 75372 entries, 0 to 75371\n",
            "Data columns (total 26 columns):\n",
            " #   Column                                  Non-Null Count  Dtype\n",
            "---  ------                                  --------------  -----\n",
            " 0   building_id                             75372 non-null  int64\n",
            " 1   geo_level_1_id                          75372 non-null  int64\n",
            " 2   geo_level_2_id                          75372 non-null  int64\n",
            " 3   geo_level_3_id                          75372 non-null  int64\n",
            " 4   count_floors_pre_eq                     75372 non-null  int64\n",
            " 5   age                                     75372 non-null  int64\n",
            " 6   area_percentage                         75372 non-null  int64\n",
            " 7   height_percentage                       75372 non-null  int64\n",
            " 8   land_surface_condition                  75372 non-null  int64\n",
            " 9   foundation_type                         75372 non-null  int64\n",
            " 10  roof_type                               75372 non-null  int64\n",
            " 11  ground_floor_type                       75372 non-null  int64\n",
            " 12  other_floor_type                        75372 non-null  int64\n",
            " 13  position                                75372 non-null  int64\n",
            " 14  plan_configuration                      75372 non-null  int64\n",
            " 15  has_superstructure_adobe_mud            75372 non-null  int64\n",
            " 16  has_superstructure_mud_mortar_stone     75372 non-null  int64\n",
            " 17  has_superstructure_stone_flag           75372 non-null  int64\n",
            " 18  has_superstructure_cement_mortar_stone  75372 non-null  int64\n",
            " 19  has_superstructure_mud_mortar_brick     75372 non-null  int64\n",
            " 20  has_superstructure_cement_mortar_brick  75372 non-null  int64\n",
            " 21  has_superstructure_timber               75372 non-null  int64\n",
            " 22  has_superstructure_bamboo               75372 non-null  int64\n",
            " 23  has_superstructure_rc_engineered        75372 non-null  int64\n",
            " 24  has_superstructure_other                75372 non-null  int64\n",
            " 25  damage_grade                            75372 non-null  int64\n",
            "dtypes: int64(26)\n",
            "memory usage: 15.0 MB\n"
          ]
        }
      ]
    },
    {
      "cell_type": "markdown",
      "source": [
        "<a id=\"model\"></a>\n",
        "## 6. **Model Building And Evaluation**"
      ],
      "metadata": {
        "id": "V0pwZoyQdtno"
      }
    },
    {
      "cell_type": "code",
      "source": [
        "# X and y\n",
        "\n",
        "X = df_train[cols].drop('damage_grade', axis = 1)\n",
        "\n",
        "y = df_train['damage_grade']"
      ],
      "metadata": {
        "id": "PxtcLuyFd2zy"
      },
      "execution_count": null,
      "outputs": []
    },
    {
      "cell_type": "code",
      "source": [
        "# splitting data for training and testing\n",
        "\n",
        "X_train, X_test, y_train, y_test = train_test_split(X, y, test_size = 0.3, random_state = 42)"
      ],
      "metadata": {
        "id": "zj_-lH2ntejh"
      },
      "execution_count": null,
      "outputs": []
    },
    {
      "cell_type": "code",
      "source": [
        ""
      ],
      "metadata": {
        "id": "N0d139bUzCKH"
      },
      "execution_count": null,
      "outputs": []
    },
    {
      "cell_type": "markdown",
      "source": [
        "####**MultilayerPerceptronClassifier**\n",
        "\n",
        "Multilayer perceptron classifier (MLPC) is a classifier based on the feedforward artificial neural network. MLPC consists of multiple layers of nodes. Each layer is fully connected to the next layer in the network. Nodes in the input layer represent the input data. All other nodes map inputs to outputs by a linear combination of the inputs with the node’s weights w and bias b and applying an activation function. "
      ],
      "metadata": {
        "id": "zzfoZSzGzDrg"
      }
    },
    {
      "cell_type": "code",
      "source": [
        "from sklearn.neural_network import MLPClassifier\n",
        "from sklearn.metrics import f1_score\n",
        "\n",
        "MLP = MLPClassifier(max_iter=300)\n",
        "MLP.fit(X_train, y_train)\n",
        "\n",
        "yt_preds = MLP.predict(X_test)\n",
        "\n",
        "y_preds = MLP.predict(X_train)\n",
        "\n",
        "print('The train f1_score for MLPClassifier is: {}'.format(f1_score(y_train, y_preds, average='micro')))\n",
        "print('The test f1_score for MLPClassifier is: {}'.format(f1_score(y_test, yt_preds, average='micro')))"
      ],
      "metadata": {
        "id": "8qAjgITIzQt5",
        "outputId": "85b06993-dc78-4848-99db-a6877849a5be",
        "colab": {
          "base_uri": "https://localhost:8080/"
        }
      },
      "execution_count": null,
      "outputs": [
        {
          "output_type": "stream",
          "name": "stdout",
          "text": [
            "The train f1_score for MLPClassifier is: 0.5692796842451485\n",
            "The test f1_score for MLPClassifier is: 0.568053619165782\n"
          ]
        }
      ]
    },
    {
      "cell_type": "markdown",
      "source": [
        "####**GradientBoostingClassifier**\n",
        "Gradient-boosted trees (GBTs) are a popular classification and regression method using ensembles of decision trees. A decision tree is a decision support tool that uses a tree-like model of decisions and their possible consequences, including chance event outcomes, resource costs, and utility.\n",
        "Gradient boosting is a machine learning technique used in regression and classification tasks, among others. It gives a prediction model in the form of an ensemble of weak prediction models, which are typically decision trees.When a decision tree is the weak learner, the resulting algorithm is called gradient-boosted trees."
      ],
      "metadata": {
        "id": "STHbppIG2gXN"
      }
    },
    {
      "cell_type": "code",
      "source": [
        "from sklearn.ensemble import GradientBoostingClassifier\n",
        "\n",
        "GBC = GradientBoostingClassifier(n_estimators = 200, learning_rate = 1.0, max_depth = 5)\n",
        "GBC.fit(X_train, y_train)\n",
        "\n",
        "yt_preds = GBC.predict(X_test)\n",
        "\n",
        "y_preds = GBC.predict(X_train)\n",
        "\n",
        "print('The train f1_score for GBClassifier is: {}'.format(f1_score(y_train, y_preds, average ='micro')))\n",
        "print('The test f1_score for GBClassifier is: {}'.format(f1_score(y_test, yt_preds, average = 'micro')))"
      ],
      "metadata": {
        "id": "gAfE4w7e2fSi",
        "outputId": "5fcd0a8b-e637-4de7-93bd-58073921b54a",
        "colab": {
          "base_uri": "https://localhost:8080/"
        }
      },
      "execution_count": null,
      "outputs": [
        {
          "output_type": "stream",
          "name": "stdout",
          "text": [
            "The train f1_score for GBClassifier is: 0.8101633592807808\n",
            "The test f1_score for GBClassifier is: 0.7228482623655365\n"
          ]
        }
      ]
    },
    {
      "cell_type": "markdown",
      "source": [
        "####**Naive Bayes Classifier**\n",
        "\n",
        "Naive Bayes methods are a set of supervised learning algorithms based on applying Bayes’ theorem with the “naive” assumption of conditional independence between every pair of features given the value of the class variable. Bayes’ theorem states the following relationship, given class variable y  and dependent feature vector x_1\n",
        " through x_2.\n"
      ],
      "metadata": {
        "id": "U7foRvqe6dd6"
      }
    },
    {
      "cell_type": "code",
      "source": [
        "from sklearn.naive_bayes import GaussianNB\n",
        "gnb = GaussianNB()\n",
        "gnb.fit(X_train, y_train)\n",
        "\n",
        "yt_preds = gnb.predict(X_test)\n",
        "\n",
        "y_preds = gnb.predict(X_train)\n",
        "\n",
        "print('The train f1_score for GBClassifier is: {}'.format(f1_score(y_train, y_preds, average ='micro')))\n",
        "print('The test f1_score for GBClassifier is: {}'.format(f1_score(y_test, yt_preds, average = 'micro')))\n",
        "\n",
        "#++++++++++++++++++++++++++++++++=======================================================================\n",
        "\n"
      ],
      "metadata": {
        "id": "xFsHIOhOFwJC",
        "outputId": "a1012017-d49e-46ef-8ff2-555916a1d3a6",
        "colab": {
          "base_uri": "https://localhost:8080/"
        }
      },
      "execution_count": null,
      "outputs": [
        {
          "output_type": "stream",
          "name": "stdout",
          "text": [
            "The train f1_score for GBClassifier is: 0.5666538756715273\n",
            "The test f1_score for GBClassifier is: 0.5653675445440708\n"
          ]
        }
      ]
    },
    {
      "cell_type": "code",
      "source": [
        "# Kwanda \n",
        "# GradientBoostingClassifier\n",
        "# Naive Bayes\n",
        "# MultilayerPerceptronClassifier\n",
        "# Neural Networks\n",
        "\n",
        "# Nokulunga\n",
        "# RandomForestClassifier\n",
        "# Decision Trees\n",
        "# LinearSVC\n",
        "# KNN\n",
        "#Logistic regression \n",
        "#"
      ],
      "metadata": {
        "id": "rbTToTp2uIue"
      },
      "execution_count": null,
      "outputs": []
    },
    {
      "cell_type": "markdown",
      "source": [
        "### **Random Forest Classifier**"
      ],
      "metadata": {
        "id": "Jg29ccSblzgu"
      }
    },
    {
      "cell_type": "markdown",
      "source": [
        "Random forests or random decision forests is an ensemble learning method for classification, regression and other tasks that operates by constructing a multitude of decision trees at training time. For classification tasks, the output of the random forest is the class selected by most trees."
      ],
      "metadata": {
        "id": "mlYUepEL4pby"
      }
    },
    {
      "cell_type": "code",
      "source": [
        "from sklearn.ensemble import RandomForestClassifier\n",
        "from sklearn.metrics import f1_score\n",
        "rfc = RandomForestClassifier(n_estimators=100, max_depth=5,\n",
        "                                     random_state=0, class_weight=\"balanced\")\n",
        "\n",
        "#train the model \n",
        "rfc.fit(X_train, y_train)\n",
        "#Validate The Model\n",
        "\n",
        "#Predict on the valication data \n",
        "pred_rfc = rfc.predict(X_test)\n",
        "\n",
        "print('F1 Score is: ', f1_score(y_test, pred_rfc, average= 'micro')) \n"
      ],
      "metadata": {
        "id": "JStbg26WlwMy",
        "outputId": "95d4a065-d353-41e3-ce63-86d86a64fc8c",
        "colab": {
          "base_uri": "https://localhost:8080/"
        }
      },
      "execution_count": null,
      "outputs": [
        {
          "output_type": "stream",
          "name": "stdout",
          "text": [
            "F1 Score is:  0.48802138627032143\n"
          ]
        }
      ]
    },
    {
      "cell_type": "markdown",
      "source": [
        "### **Decision Trees Classifier**"
      ],
      "metadata": {
        "id": "c5vIPWZbwXI6"
      }
    },
    {
      "cell_type": "markdown",
      "source": [
        "Decision Trees are a type of Supervised Machine Learning (that is you explain what the input is and what the corresponding output is in the training data) where the data is continuously split according to a certain parameter. The tree can be explained by two entities, namely decision nodes and leaves."
      ],
      "metadata": {
        "id": "XyMp4VTD4miY"
      }
    },
    {
      "cell_type": "code",
      "source": [
        "from sklearn.tree import DecisionTreeClassifier\n",
        "dtc = DecisionTreeClassifier()\n",
        "\n",
        "#train the model \n",
        "dtc.fit(X_train, y_train)\n",
        "#Validate The Model\n",
        "\n",
        "#Predict on the valication data \n",
        "pred_dtc = dtc.predict(X_test)\n",
        "\n",
        "print('F1 Score is: ', f1_score(y_test, pred_dtc, average='micro')) \n"
      ],
      "metadata": {
        "id": "7NGCxQ_YtkeA",
        "outputId": "ba11c223-70ea-43ff-d6f2-770e9585e15a",
        "colab": {
          "base_uri": "https://localhost:8080/"
        }
      },
      "execution_count": null,
      "outputs": [
        {
          "output_type": "stream",
          "name": "stdout",
          "text": [
            "F1 Score is:  0.6410892672132615\n"
          ]
        }
      ]
    },
    {
      "cell_type": "markdown",
      "source": [
        "### **KNeighbors Classifier**"
      ],
      "metadata": {
        "id": "S0bEjHX5xDKe"
      }
    },
    {
      "cell_type": "markdown",
      "source": [
        "The k-nearest neighbors (KNN) algorithm is a simple, easy-to-implement supervised machine learning algorithm that can be used to solve both classification and regression problems.The KNN algorithm assumes that similar things exist in close proximity. In other words, similar things are near to each other.KNN captures the idea of similarity (sometimes called distance, proximity, or closeness) with some mathematics we might have learned in our childhood— calculating the distance between points on a graph."
      ],
      "metadata": {
        "id": "jA0DJ-vx4ISC"
      }
    },
    {
      "cell_type": "code",
      "source": [
        "from sklearn.neighbors import KNeighborsClassifier\n",
        "knn = KNeighborsClassifier(n_neighbors=5)\n",
        "\n",
        "#train the model \n",
        "knn.fit(X_train, y_train)\n",
        "#Validate The Model\n",
        "\n",
        "#Predict on the valication data \n",
        "pred_knn = knn.predict(X_test)\n",
        "\n",
        "print('F1 Score is: ', f1_score(y_test, pred_knn, average='micro')) "
      ],
      "metadata": {
        "id": "ZlK6Isyzt8ck",
        "outputId": "7357359d-75ef-4ea7-aa23-0f79ccdc98aa",
        "colab": {
          "base_uri": "https://localhost:8080/"
        }
      },
      "execution_count": null,
      "outputs": [
        {
          "output_type": "stream",
          "name": "stdout",
          "text": [
            "F1 Score is:  0.4944679653624282\n"
          ]
        }
      ]
    },
    {
      "cell_type": "markdown",
      "source": [
        "### **Linear SVC Model**"
      ],
      "metadata": {
        "id": "RTg89JxJxXSS"
      }
    },
    {
      "cell_type": "markdown",
      "source": [
        "The objective of a Linear SVC (Support Vector Classifier) is to fit to the data you provide, returning a \"best fit\" hyperplane that divides, or categorizes, your data. From there, after getting the hyperplane, you can then feed some features to your classifier to see what the \"predicted\" class is."
      ],
      "metadata": {
        "id": "7_kVubyu4AS5"
      }
    },
    {
      "cell_type": "code",
      "source": [
        "from sklearn.svm import LinearSVC\n",
        "linear_svc = LinearSVC()\n",
        "\n",
        "#train the model \n",
        "linear_svc.fit(X_train, y_train)\n",
        "#Validate The Model\n",
        "\n",
        "#Predict on the valication data \n",
        "pred_svc = linear_svc.predict(X_test)\n",
        "\n",
        "print('F1 Score is: ', f1_score(y_test, pred_svc, average='micro')) \n"
      ],
      "metadata": {
        "id": "wHR3Q-J9uavS",
        "outputId": "3dd4f6e4-d8fa-44b8-fea2-bd001505843e",
        "colab": {
          "base_uri": "https://localhost:8080/"
        }
      },
      "execution_count": null,
      "outputs": [
        {
          "output_type": "stream",
          "name": "stdout",
          "text": [
            "F1 Score is:  0.5677978025351428\n"
          ]
        }
      ]
    },
    {
      "cell_type": "markdown",
      "source": [
        ""
      ],
      "metadata": {
        "id": "8I88WTgU44hT"
      }
    },
    {
      "cell_type": "markdown",
      "source": [
        "<a id=\"evaluation\"></a>\n",
        "## 7. **Model Parameter Tuning**"
      ],
      "metadata": {
        "id": "hfADvx2Wd3i9"
      }
    },
    {
      "cell_type": "code",
      "source": [
        ""
      ],
      "metadata": {
        "id": "4QbdUBt8mBsr"
      },
      "execution_count": null,
      "outputs": []
    },
    {
      "cell_type": "markdown",
      "source": [
        "### **Load Testing Data**"
      ],
      "metadata": {
        "id": "U-1gKdNsi042"
      }
    },
    {
      "cell_type": "code",
      "source": [
        "models = [MLP, GBC, gnb, rfc, dtc,knn,linear_svc]\n"
      ],
      "metadata": {
        "id": "YOJxz36PrboH"
      },
      "execution_count": null,
      "outputs": []
    },
    {
      "cell_type": "code",
      "source": [
        "\n",
        "for i in range(0,len(models)):\n",
        "\n",
        "  result_dict = {'building_id' : test_df['building_id'],\n",
        "                 'damage_grade': models[i].predict(test_df[pred_cols])}\n",
        "\n",
        "  results = pd.DataFrame(result_dict) # convert dictionary to dataframe\n",
        "\n",
        "  results.to_csv('Results' + str(i) +'.csv', index = False) # write results to csv file"
      ],
      "metadata": {
        "id": "hZx79H05oRzZ"
      },
      "execution_count": null,
      "outputs": []
    },
    {
      "cell_type": "code",
      "source": [
        "target =  rfc.predict(test_data['damage_grade'])"
      ],
      "metadata": {
        "id": "YceE5iCkjDHg",
        "outputId": "b16c0e38-6c67-46ce-e119-fe3eb7e769eb",
        "colab": {
          "base_uri": "https://localhost:8080/",
          "height": 165
        }
      },
      "execution_count": null,
      "outputs": [
        {
          "output_type": "error",
          "ename": "NameError",
          "evalue": "ignored",
          "traceback": [
            "\u001b[0;31m---------------------------------------------------------------------------\u001b[0m",
            "\u001b[0;31mNameError\u001b[0m                                 Traceback (most recent call last)",
            "\u001b[0;32m<ipython-input-65-bf167831bbb7>\u001b[0m in \u001b[0;36m<module>\u001b[0;34m()\u001b[0m\n\u001b[0;32m----> 1\u001b[0;31m \u001b[0mtarget\u001b[0m \u001b[0;34m=\u001b[0m  \u001b[0mrfc\u001b[0m\u001b[0;34m.\u001b[0m\u001b[0mpredict\u001b[0m\u001b[0;34m(\u001b[0m\u001b[0mtest_data\u001b[0m\u001b[0;34m[\u001b[0m\u001b[0;34m'damage_grade'\u001b[0m\u001b[0;34m]\u001b[0m\u001b[0;34m)\u001b[0m\u001b[0;34m\u001b[0m\u001b[0;34m\u001b[0m\u001b[0m\n\u001b[0m",
            "\u001b[0;31mNameError\u001b[0m: name 'test_data' is not defined"
          ]
        }
      ]
    },
    {
      "cell_type": "code",
      "source": [
        "output.to_csv('Model1.csv', index= 'building_id')"
      ],
      "metadata": {
        "id": "rjfl5VXQjS6w"
      },
      "execution_count": null,
      "outputs": []
    },
    {
      "cell_type": "markdown",
      "source": [
        "<a id=\"conclusion\"></a>\n",
        "## 8. **Conclusion**"
      ],
      "metadata": {
        "id": "sVG7jkSIeCZF"
      }
    },
    {
      "cell_type": "code",
      "source": [
        ""
      ],
      "metadata": {
        "id": "CeJPJHyUeDYC"
      },
      "execution_count": null,
      "outputs": []
    },
    {
      "cell_type": "markdown",
      "source": [
        "<a id=\"references\"></a>\n",
        "## 9. **References**"
      ],
      "metadata": {
        "id": "u3oI_1ISeELl"
      }
    },
    {
      "cell_type": "markdown",
      "source": [
        "1. https://www.britannica.com/science/earthquake-geology\n",
        "\n",
        "2. "
      ],
      "metadata": {
        "id": "_qJxU5jinN0s"
      }
    }
  ]
}