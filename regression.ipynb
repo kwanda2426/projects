{
  "nbformat": 4,
  "nbformat_minor": 0,
  "metadata": {
    "colab": {
      "provenance": [],
      "include_colab_link": true
    },
    "kernelspec": {
      "name": "python3",
      "display_name": "Python 3"
    },
    "language_info": {
      "name": "python"
    }
  },
  "cells": [
    {
      "cell_type": "markdown",
      "metadata": {
        "id": "view-in-github",
        "colab_type": "text"
      },
      "source": [
        "<a href=\"https://colab.research.google.com/github/kwanda2426/projects/blob/main/regression.ipynb\" target=\"_parent\"><img src=\"https://colab.research.google.com/assets/colab-badge.svg\" alt=\"Open In Colab\"/></a>"
      ]
    },
    {
      "cell_type": "markdown",
      "source": [
        "# **Importing Libraries**"
      ],
      "metadata": {
        "id": "seyuIBSAjRvm"
      }
    },
    {
      "cell_type": "code",
      "execution_count": null,
      "metadata": {
        "id": "6dLTOZjodYwD"
      },
      "outputs": [],
      "source": [
        "# Libraries for data loading, data manipulation and data visulisation\n",
        "import numpy as np\n",
        "import pandas as pd\n",
        "import matplotlib.pyplot as plt\n",
        "from matplotlib import rc\n",
        "import seaborn as sns\n",
        "import plotly.express as px\n",
        "\n",
        "from statsmodels.graphics.correlation import plot_corr\n",
        "from scipy.stats import skew\n",
        "from scipy.stats import kurtosis\n",
        "import statistics\n",
        "import missingno as msno\n",
        "\n",
        "#Feature engineering, selection and Model training\n",
        "from sklearn.linear_model import LinearRegression\n",
        "from sklearn.model_selection import train_test_split\n",
        "from sklearn import metrics\n",
        "from sklearn.compose import ColumnTransformer\n",
        "from sklearn.preprocessing import OrdinalEncoder\n",
        "from sklearn.preprocessing import OneHotEncoder\n",
        "from sklearn.preprocessing import StandardScaler\n",
        "from sklearn.preprocessing import MinMaxScaler\n",
        "from sklearn.preprocessing import LabelEncoder\n",
        "\n",
        "\n",
        "#ignoring warnings\n",
        "import warnings\n",
        "warnings.filterwarnings('ignore')\n",
        "\n",
        "#making sure that we can see all rows and cols\n",
        "pd.set_option('display.max_columns', None)\n",
        "pd.set_option('display.max_rows', None)\n",
        "pd.set_option('display.max_colwidth', None)\n",
        "from tabulate import tabulate\n"
      ]
    },
    {
      "cell_type": "markdown",
      "source": [
        "# **Importing Data**"
      ],
      "metadata": {
        "id": "yECe5ivJjIP9"
      }
    },
    {
      "cell_type": "code",
      "source": [
        "# Reading data\n",
        "file_path = \"https://raw.githubusercontent.com/kwanda2426/projects/main/insurance.csv\"\n",
        "df = pd.read_csv(file_path)\n"
      ],
      "metadata": {
        "id": "cpZE5Bu8gIj8"
      },
      "execution_count": null,
      "outputs": []
    },
    {
      "cell_type": "code",
      "source": [
        "# Showing first 5 lines of data\n",
        "df.head()\n"
      ],
      "metadata": {
        "id": "dTjNi0V4ks9n"
      },
      "execution_count": null,
      "outputs": []
    },
    {
      "cell_type": "code",
      "source": [
        "#data columns\n",
        "df.columns"
      ],
      "metadata": {
        "id": "Rjp0cWXQUFhe"
      },
      "execution_count": null,
      "outputs": []
    },
    {
      "cell_type": "code",
      "source": [
        "# Rows and Columns of data\n",
        "print('Data has {} rows and {} Columns'.format(df.shape[0],df.shape[1]))\n",
        "print('')\n",
        "print('Data has the following columns:')\n",
        "for i in df.columns:\n",
        "  print(i)"
      ],
      "metadata": {
        "id": "7rJhGvP3k3m_"
      },
      "execution_count": null,
      "outputs": []
    },
    {
      "cell_type": "markdown",
      "source": [
        "### Data Type of Columns"
      ],
      "metadata": {
        "id": "_kNKDC7EnA-j"
      }
    },
    {
      "cell_type": "code",
      "source": [
        "df.info()"
      ],
      "metadata": {
        "id": "khdqXR-Pl4u3"
      },
      "execution_count": null,
      "outputs": []
    },
    {
      "cell_type": "markdown",
      "source": [
        "Data set has no missing values, with a mixture of both categorical and numerical features."
      ],
      "metadata": {
        "id": "FCJ3RISUaeDA"
      }
    },
    {
      "cell_type": "markdown",
      "source": [
        "## Describing the variables"
      ],
      "metadata": {
        "id": "SrkxqY1z9hLk"
      }
    },
    {
      "cell_type": "code",
      "source": [
        "#describing numerical columns\n",
        "df.describe()"
      ],
      "metadata": {
        "id": "TrkEt7QH9FKh"
      },
      "execution_count": null,
      "outputs": []
    },
    {
      "cell_type": "code",
      "source": [
        "#describing categorical variables\n",
        "cat_cols = df.select_dtypes(include=[\"object\", \"category\"])\n",
        "for i in cat_cols.columns:\n",
        "  a = df[i].unique()\n",
        "  print('unique categories for '+ i.upper() + ' is(are) :{}'.format(a))\n",
        "  print('')\n"
      ],
      "metadata": {
        "id": "Bbg-iGqi-lX3"
      },
      "execution_count": null,
      "outputs": []
    },
    {
      "cell_type": "code",
      "source": [
        "#Defining the variables\n",
        "variables = {\n",
        "    \"Variable\": [\"age\", \"sex\", \"bmi\", \"children\", \"smoker\", \"region\", \"charges\"],\n",
        "    \"Description\": [\n",
        "        \"Age of the insured individual (between 18 and 64).\",\n",
        "        \"Gender of the insured person (male or female).\",\n",
        "        \"Body Mass Index, a measure of body fat based on height and weight (between 15 and 54).\",\n",
        "        \"Number of dependent children covered by the insurance plan (between 0 and 5).\",\n",
        "        \"Smoking status of the individual (yes or no).\",\n",
        "        \"Residential area (northeast, northwest, southeast, southwest).\",\n",
        "        \"Final insurance cost billed to the individual (between 1121 and 63770).\"\n",
        "    ]\n",
        "}\n",
        "# Create the DataFrame\n",
        "var_desc = pd.DataFrame(variables)\n",
        "var_desc.reset_index(drop=True, inplace=True)\n",
        "\n",
        "# Display the DataFrame\n",
        "print(tabulate(var_desc, headers='keys', tablefmt='pretty'))\n"
      ],
      "metadata": {
        "id": "ixNiatml9CiB"
      },
      "execution_count": null,
      "outputs": []
    },
    {
      "cell_type": "markdown",
      "source": [
        "The categorical variables will need to be encoded if they will be used in building the model."
      ],
      "metadata": {
        "id": "1zqZjPLZEGa3"
      }
    },
    {
      "cell_type": "markdown",
      "source": [
        "# **Exploratory Data Analysis**\n",
        "\n",
        "This method is meant to uncover the underlying structure of a data set and is important for a company because it exposes trends, patterns, and relationships that are not readily apparent."
      ],
      "metadata": {
        "id": "FLMk6Y8WRiFr"
      }
    },
    {
      "cell_type": "markdown",
      "source": [
        "## **Correlation**\n",
        "This is meant to discover :\n",
        "- Relationship between features and target variable.\n",
        "- Multicollinearity - where features are highly correlated to each other. This guides whether to combine features or not as this means that features carry the same information.\n",
        "- Most informative features. This helps to (simplify the model, reduce noise and improve predictive accuracy) by focusing on informative features only.\n",
        "- Patterns such as if one feature increases, so does another OR One decreases , the other increases.\n",
        "- +1 shows a strong positive correlation and -1 shows a strong negative correlation.\n"
      ],
      "metadata": {
        "id": "iyxJ88u8GlHa"
      }
    },
    {
      "cell_type": "code",
      "source": [
        "# Compute correlation matrix\n",
        "df_corr = df.copy()\n",
        "corr_matrix = df_corr.corr(numeric_only=True)\n",
        "\n",
        "# Create heatmap\n",
        "fig = px.imshow(\n",
        "    corr_matrix,\n",
        "    text_auto = True,\n",
        "    color_continuous_scale = 'RdBu',\n",
        "    zmin = -1, zmax = 1,\n",
        "    title = 'Feature Correlation Heatmap'\n",
        ")\n",
        "\n",
        "fig.update_layout(\n",
        "    width=800,\n",
        "    height=600,\n",
        "    margin=dict(l=50, r=50, t=50, b=50)\n",
        ")\n",
        "\n",
        "fig.show()\n"
      ],
      "metadata": {
        "id": "a11ohlqkDzrN"
      },
      "execution_count": null,
      "outputs": []
    },
    {
      "cell_type": "markdown",
      "source": [
        "- There's a positive strong correlation between age and charges. This means that as the age increases so do insurances.\n",
        "- There's a strong correlation between BMI and Charges, which is expected because BMI is a function of Age.\n",
        "- Positive correlation between BMI and age is not strong enough to drop one of these features even though they are related. Model performance will guide if one feature must be dropped."
      ],
      "metadata": {
        "id": "Rkn6Eu4yqJ3q"
      }
    },
    {
      "cell_type": "markdown",
      "source": [
        "## **Feature Distribution**\n",
        "This is meant to discover :\n",
        "- Relationship between features and target variable. This should help see if a feature that was not caught by correlation because of datatype(especially categorical) has a relationship with the target variable. This helps in encoding categorical features. For an example, with the region in our dataset. It could be that the feature does not affect charges at all, or some regions have more impact than others."
      ],
      "metadata": {
        "id": "_ZUD3BOLNhdX"
      }
    },
    {
      "cell_type": "markdown",
      "source": [
        "###**Gender(sex) Distribution**"
      ],
      "metadata": {
        "id": "7hvCrjDOoUij"
      }
    },
    {
      "cell_type": "code",
      "source": [
        "#countplot of sex (between males and females)\n",
        "df_1 = df.copy()\n",
        "sns.countplot(x = 'sex', data = df_1, palette = \"hls\")\n",
        "plt.title(\"Distribution of sex\");"
      ],
      "metadata": {
        "id": "oGCKMVz_MlE8"
      },
      "execution_count": null,
      "outputs": []
    },
    {
      "cell_type": "markdown",
      "source": [
        "These two groups are approximately well represented in our dataset, hence there's expected bias in our model predictions with regards to this feature."
      ],
      "metadata": {
        "id": "vkhmNVLYNXuo"
      }
    },
    {
      "cell_type": "code",
      "source": [
        "#distribution of charges per age group, by gender\n",
        "df_1 = df.copy()\n",
        "plt.figure(figsize = (12,8))\n",
        "sns.scatterplot(data = df_1, x =\"age\", y = \"charges\", hue = \"sex\", alpha=0.8, sizes=(40,200))\n",
        "plt.title(\"Charges vs Age by Sex\")\n",
        "plt.show()"
      ],
      "metadata": {
        "id": "DmtFHzzxNeqQ"
      },
      "execution_count": null,
      "outputs": []
    },
    {
      "cell_type": "markdown",
      "source": [
        "Here it is clear that it does not matter whether someone is male or female when it comes to insurance charges. An upward trend is seen between charges and Age."
      ],
      "metadata": {
        "id": "1LlF2XP9lKRd"
      }
    },
    {
      "cell_type": "code",
      "source": [
        "# Group by gender and smoker status, then calculate average charges\n",
        "df_1 = df.copy()\n",
        "df_temp = df_1.groupby(['sex', 'smoker'], as_index = False)['charges'].mean()\n",
        "\n",
        "# Stacked bar chart\n",
        "fig = px.bar(df_temp,\n",
        "             x = 'sex',\n",
        "             y = 'charges',\n",
        "             color = 'smoker',\n",
        "             title = 'Average Charges per Gender (Stacked by Smoking Status)',\n",
        "             labels = {'charges': 'Average Charges', 'sex': 'Gender', 'smoker': 'Smoking Status'},\n",
        "             text = 'charges')\n",
        "\n",
        "fig.update_traces(texttemplate = '%{text:.2f}', textposition='inside')\n",
        "fig.update_layout(barmode = 'stack', uniformtext_minsize = 8, uniformtext_mode = 'hide')\n",
        "fig.show()"
      ],
      "metadata": {
        "id": "nIDEggs9oFG6"
      },
      "execution_count": null,
      "outputs": []
    },
    {
      "cell_type": "markdown",
      "source": [
        "On Average Male charges are slightly above Average Female, but not by a significant amount. This view conform to what is shown above that Gender(sex) does have a significant impact on insurance charges. This feature might not be useful to predict charges, but dropping it should be guided by model performance."
      ],
      "metadata": {
        "id": "T9BR_g5Vo_Ut"
      }
    },
    {
      "cell_type": "markdown",
      "source": [
        "###**Region Distribution**"
      ],
      "metadata": {
        "id": "jSdiPGqMrGd1"
      }
    },
    {
      "cell_type": "code",
      "source": [
        "#countplot of Region\n",
        "df_1 = df.copy()\n",
        "sns.countplot(x = 'region', data = df_1, palette = \"hls\")\n",
        "plt.title(\"Distribution of Region\");"
      ],
      "metadata": {
        "id": "8Jr0HvNglCMi"
      },
      "execution_count": null,
      "outputs": []
    },
    {
      "cell_type": "markdown",
      "source": [
        "Looks like all regions are fairly represented in the dataset. Should this feature be included in model building, there would not be a bias expected."
      ],
      "metadata": {
        "id": "nBFlgt6mrObu"
      }
    },
    {
      "cell_type": "code",
      "source": [
        "#distribution of charges per age group, by region\n",
        "df_1 = df.copy()\n",
        "plt.figure(figsize = (12,8))\n",
        "sns.scatterplot(data = df_1, x = \"age\", y = \"charges\", hue = \"region\", alpha=0.8, sizes=(40,200))\n",
        "plt.title(\"Charges vs Age by Region\")\n",
        "plt.show()"
      ],
      "metadata": {
        "id": "ooUF1qOmQPUk"
      },
      "execution_count": null,
      "outputs": []
    },
    {
      "cell_type": "markdown",
      "source": [
        "This views shows that all these regions are fairly represented even with age. The trend that is visible is the increase in charges as the age increases."
      ],
      "metadata": {
        "id": "YPWXvCRHroCo"
      }
    },
    {
      "cell_type": "code",
      "source": [
        "# Group by region and smoker status, then calculate average charges\n",
        "df_1 = df.copy()\n",
        "df_temp = df_1.groupby(['region', 'smoker'], as_index = False)['charges'].mean()\n",
        "\n",
        "# Stacked bar chart\n",
        "fig = px.bar(df_temp,\n",
        "             x = 'region',\n",
        "             y = 'charges',\n",
        "             color = 'smoker',\n",
        "             title = 'Average Charges per Region (Stacked by Smoking Status)',\n",
        "             labels = {'charges': 'Average Charges', 'region': 'Region', 'smoker': 'Smoking Status'},\n",
        "             text = 'charges')\n",
        "\n",
        "fig.update_traces(texttemplate = '%{text:.2f}', textposition='inside')\n",
        "fig.update_layout(barmode = 'stack', uniformtext_minsize = 8, uniformtext_mode = 'hide')\n",
        "fig.show()"
      ],
      "metadata": {
        "id": "IBeAyYvCWFVs"
      },
      "execution_count": null,
      "outputs": []
    },
    {
      "cell_type": "markdown",
      "source": [
        "- It is clear that it does matter significantly in which region one comes from when it comes to charges, but the smoking status does. It is clear how significant the charges increase when someone is a smoker."
      ],
      "metadata": {
        "id": "KIQFm9lxs-2K"
      }
    },
    {
      "cell_type": "markdown",
      "source": [
        "###**Age Distribution**"
      ],
      "metadata": {
        "id": "mJGzEcy6thG_"
      }
    },
    {
      "cell_type": "code",
      "source": [
        "df_1 = df.copy()\n",
        "features = 'age'\n",
        "df_1[features].hist(figsize = (12,10),  color = '#000354');"
      ],
      "metadata": {
        "id": "gpl1eY-DMpcF"
      },
      "execution_count": null,
      "outputs": []
    },
    {
      "cell_type": "markdown",
      "source": [
        "Most data points are of the age 20. The other age groups are fairly represented as well."
      ],
      "metadata": {
        "id": "N4dvY_3zut3e"
      }
    },
    {
      "cell_type": "code",
      "source": [
        "#distribution of charges per age group, by smoking status\n",
        "df_1 = df.copy()\n",
        "plt.figure(figsize = (12,8))\n",
        "sns.scatterplot(data = df_1, x = \"age\", y = \"charges\", hue = \"smoker\", alpha=0.8, sizes=(40,200))\n",
        "plt.title(\"Charges vs Age by Smoking Status\")\n",
        "plt.show()"
      ],
      "metadata": {
        "id": "V7RuH8VKycRI"
      },
      "execution_count": null,
      "outputs": []
    },
    {
      "cell_type": "markdown",
      "source": [
        "- There is a clear trend that irregardless of age, smokers end up paying more charges.\n",
        "- Where charges are less than 10k - This comprises of non-smokers for all age groups.\n",
        "- Whether charges are between 10k and 30k, both non-smokers and smokers are fairly represented and this is where we have average charges per age group.\n",
        "- Where charges are greater than 30k - This group consists of virtually smokers."
      ],
      "metadata": {
        "id": "5R2T6EinywDJ"
      }
    },
    {
      "cell_type": "code",
      "source": [
        "# Create DataFrame\n",
        "df_1 = df.copy()\n",
        "\n",
        "# Set Seaborn style\n",
        "sns.set(style=\"whitegrid\")\n",
        "\n",
        "# Create line plot\n",
        "plt.figure(figsize=(10, 6))\n",
        "sns.lineplot(x = 'age', y = 'charges', data = df_1, marker='o', color='teal')\n",
        "\n",
        "# Add labels and title\n",
        "plt.title('Charges vs Age', fontsize=16)\n",
        "plt.xlabel('Age', fontsize = 12)\n",
        "plt.ylabel('Charges', fontsize=12)\n",
        "\n",
        "# Show plot\n",
        "plt.tight_layout()\n",
        "plt.show()"
      ],
      "metadata": {
        "id": "fvADjT0nugrK"
      },
      "execution_count": null,
      "outputs": []
    },
    {
      "cell_type": "markdown",
      "source": [
        "Age definitely does have an impact in charges. As the age increases so do charges. Older people are charge a lot."
      ],
      "metadata": {
        "id": "p37cwiEHw1S_"
      }
    },
    {
      "cell_type": "code",
      "source": [
        "# Average Monthly charges vs age\n",
        "df_1 = df.copy()\n",
        "df_temp = df_1.groupby('age')['charges'].mean().reset_index()\n",
        "# Plot\n",
        "plt.figure(figsize=(10, 6))\n",
        "sns.regplot(data = df_temp, x = 'age', y = 'charges', scatter = True, color = 'skyblue', line_kws = {'color': 'red'})\n",
        "plt.title('Average Monthly Charges per Age')\n",
        "plt.xlabel('Age')\n",
        "plt.ylabel('Average Monthly Charges')\n",
        "plt.grid(True)\n",
        "plt.tight_layout()\n",
        "plt.show()"
      ],
      "metadata": {
        "id": "gjflDhbp5BqM"
      },
      "execution_count": null,
      "outputs": []
    },
    {
      "cell_type": "markdown",
      "source": [
        "Trend is going up between charges and age. This shows a strong positive correlation between these two features."
      ],
      "metadata": {
        "id": "_NEpr-YW-Hs1"
      }
    },
    {
      "cell_type": "markdown",
      "source": [
        "# **Feature Selection and Engineering**\n"
      ],
      "metadata": {
        "id": "I1NmS8SLVENR"
      }
    },
    {
      "cell_type": "markdown",
      "source": [
        "- This dataset does not have a lot of features(6). It is better to build the model first and see performance before dropping features.\n",
        "- In terms of feature engineering, the categorical variables are converted to numerical variables using label encoding.\n",
        "\n"
      ],
      "metadata": {
        "id": "7WPxE7ro9ieZ"
      }
    },
    {
      "cell_type": "code",
      "source": [
        "# encoding categorical features\n",
        "def Label_Encoder(df_1):\n",
        "  columnsToEncode = list(df.select_dtypes(include=['category','object']))\n",
        "  le = LabelEncoder()\n",
        "  for feature in columnsToEncode:\n",
        "    df[feature] = le.fit_transform(df[feature])\n",
        "  return df\n",
        "\n",
        "# final dataframe\n",
        "df_1 = df.copy()\n",
        "df_final = Label_Encoder(df_1)"
      ],
      "metadata": {
        "id": "ji098CO555ya"
      },
      "execution_count": null,
      "outputs": []
    },
    {
      "cell_type": "code",
      "source": [
        "df_final.head()"
      ],
      "metadata": {
        "id": "P-LJAF078b97"
      },
      "execution_count": null,
      "outputs": []
    },
    {
      "cell_type": "markdown",
      "source": [
        "# **Model Building and Testing**"
      ],
      "metadata": {
        "id": "QphQK0Jf90c6"
      }
    },
    {
      "cell_type": "code",
      "source": [
        "# splitting dataset into training and testing\n",
        "df_data = df_final.copy()\n",
        "X = df_data.drop(['charges'], axis = 1)\n",
        "Y = df_data['charges']\n",
        "\n",
        "# 80% train and 20% test -- random state = 42, ensure the reproducibility of the data split\n",
        "x_train, x_test, y_train, y_test = train_test_split(X, Y, test_size = 0.2, random_state = 42)"
      ],
      "metadata": {
        "id": "6Vb8lrgF83rN"
      },
      "execution_count": 112,
      "outputs": []
    },
    {
      "cell_type": "code",
      "source": [
        "# initialise model\n",
        "model = LinearRegression()\n",
        "\n",
        "#train model\n",
        "model.fit(x_train, y_train)"
      ],
      "metadata": {
        "id": "lc3ZXobPBGIe",
        "outputId": "db2c362a-bf16-4344-ae1b-7eb12b6b220b",
        "colab": {
          "base_uri": "https://localhost:8080/",
          "height": 80
        }
      },
      "execution_count": 113,
      "outputs": [
        {
          "output_type": "execute_result",
          "data": {
            "text/plain": [
              "LinearRegression()"
            ],
            "text/html": [
              "<style>#sk-container-id-1 {\n",
              "  /* Definition of color scheme common for light and dark mode */\n",
              "  --sklearn-color-text: #000;\n",
              "  --sklearn-color-text-muted: #666;\n",
              "  --sklearn-color-line: gray;\n",
              "  /* Definition of color scheme for unfitted estimators */\n",
              "  --sklearn-color-unfitted-level-0: #fff5e6;\n",
              "  --sklearn-color-unfitted-level-1: #f6e4d2;\n",
              "  --sklearn-color-unfitted-level-2: #ffe0b3;\n",
              "  --sklearn-color-unfitted-level-3: chocolate;\n",
              "  /* Definition of color scheme for fitted estimators */\n",
              "  --sklearn-color-fitted-level-0: #f0f8ff;\n",
              "  --sklearn-color-fitted-level-1: #d4ebff;\n",
              "  --sklearn-color-fitted-level-2: #b3dbfd;\n",
              "  --sklearn-color-fitted-level-3: cornflowerblue;\n",
              "\n",
              "  /* Specific color for light theme */\n",
              "  --sklearn-color-text-on-default-background: var(--sg-text-color, var(--theme-code-foreground, var(--jp-content-font-color1, black)));\n",
              "  --sklearn-color-background: var(--sg-background-color, var(--theme-background, var(--jp-layout-color0, white)));\n",
              "  --sklearn-color-border-box: var(--sg-text-color, var(--theme-code-foreground, var(--jp-content-font-color1, black)));\n",
              "  --sklearn-color-icon: #696969;\n",
              "\n",
              "  @media (prefers-color-scheme: dark) {\n",
              "    /* Redefinition of color scheme for dark theme */\n",
              "    --sklearn-color-text-on-default-background: var(--sg-text-color, var(--theme-code-foreground, var(--jp-content-font-color1, white)));\n",
              "    --sklearn-color-background: var(--sg-background-color, var(--theme-background, var(--jp-layout-color0, #111)));\n",
              "    --sklearn-color-border-box: var(--sg-text-color, var(--theme-code-foreground, var(--jp-content-font-color1, white)));\n",
              "    --sklearn-color-icon: #878787;\n",
              "  }\n",
              "}\n",
              "\n",
              "#sk-container-id-1 {\n",
              "  color: var(--sklearn-color-text);\n",
              "}\n",
              "\n",
              "#sk-container-id-1 pre {\n",
              "  padding: 0;\n",
              "}\n",
              "\n",
              "#sk-container-id-1 input.sk-hidden--visually {\n",
              "  border: 0;\n",
              "  clip: rect(1px 1px 1px 1px);\n",
              "  clip: rect(1px, 1px, 1px, 1px);\n",
              "  height: 1px;\n",
              "  margin: -1px;\n",
              "  overflow: hidden;\n",
              "  padding: 0;\n",
              "  position: absolute;\n",
              "  width: 1px;\n",
              "}\n",
              "\n",
              "#sk-container-id-1 div.sk-dashed-wrapped {\n",
              "  border: 1px dashed var(--sklearn-color-line);\n",
              "  margin: 0 0.4em 0.5em 0.4em;\n",
              "  box-sizing: border-box;\n",
              "  padding-bottom: 0.4em;\n",
              "  background-color: var(--sklearn-color-background);\n",
              "}\n",
              "\n",
              "#sk-container-id-1 div.sk-container {\n",
              "  /* jupyter's `normalize.less` sets `[hidden] { display: none; }`\n",
              "     but bootstrap.min.css set `[hidden] { display: none !important; }`\n",
              "     so we also need the `!important` here to be able to override the\n",
              "     default hidden behavior on the sphinx rendered scikit-learn.org.\n",
              "     See: https://github.com/scikit-learn/scikit-learn/issues/21755 */\n",
              "  display: inline-block !important;\n",
              "  position: relative;\n",
              "}\n",
              "\n",
              "#sk-container-id-1 div.sk-text-repr-fallback {\n",
              "  display: none;\n",
              "}\n",
              "\n",
              "div.sk-parallel-item,\n",
              "div.sk-serial,\n",
              "div.sk-item {\n",
              "  /* draw centered vertical line to link estimators */\n",
              "  background-image: linear-gradient(var(--sklearn-color-text-on-default-background), var(--sklearn-color-text-on-default-background));\n",
              "  background-size: 2px 100%;\n",
              "  background-repeat: no-repeat;\n",
              "  background-position: center center;\n",
              "}\n",
              "\n",
              "/* Parallel-specific style estimator block */\n",
              "\n",
              "#sk-container-id-1 div.sk-parallel-item::after {\n",
              "  content: \"\";\n",
              "  width: 100%;\n",
              "  border-bottom: 2px solid var(--sklearn-color-text-on-default-background);\n",
              "  flex-grow: 1;\n",
              "}\n",
              "\n",
              "#sk-container-id-1 div.sk-parallel {\n",
              "  display: flex;\n",
              "  align-items: stretch;\n",
              "  justify-content: center;\n",
              "  background-color: var(--sklearn-color-background);\n",
              "  position: relative;\n",
              "}\n",
              "\n",
              "#sk-container-id-1 div.sk-parallel-item {\n",
              "  display: flex;\n",
              "  flex-direction: column;\n",
              "}\n",
              "\n",
              "#sk-container-id-1 div.sk-parallel-item:first-child::after {\n",
              "  align-self: flex-end;\n",
              "  width: 50%;\n",
              "}\n",
              "\n",
              "#sk-container-id-1 div.sk-parallel-item:last-child::after {\n",
              "  align-self: flex-start;\n",
              "  width: 50%;\n",
              "}\n",
              "\n",
              "#sk-container-id-1 div.sk-parallel-item:only-child::after {\n",
              "  width: 0;\n",
              "}\n",
              "\n",
              "/* Serial-specific style estimator block */\n",
              "\n",
              "#sk-container-id-1 div.sk-serial {\n",
              "  display: flex;\n",
              "  flex-direction: column;\n",
              "  align-items: center;\n",
              "  background-color: var(--sklearn-color-background);\n",
              "  padding-right: 1em;\n",
              "  padding-left: 1em;\n",
              "}\n",
              "\n",
              "\n",
              "/* Toggleable style: style used for estimator/Pipeline/ColumnTransformer box that is\n",
              "clickable and can be expanded/collapsed.\n",
              "- Pipeline and ColumnTransformer use this feature and define the default style\n",
              "- Estimators will overwrite some part of the style using the `sk-estimator` class\n",
              "*/\n",
              "\n",
              "/* Pipeline and ColumnTransformer style (default) */\n",
              "\n",
              "#sk-container-id-1 div.sk-toggleable {\n",
              "  /* Default theme specific background. It is overwritten whether we have a\n",
              "  specific estimator or a Pipeline/ColumnTransformer */\n",
              "  background-color: var(--sklearn-color-background);\n",
              "}\n",
              "\n",
              "/* Toggleable label */\n",
              "#sk-container-id-1 label.sk-toggleable__label {\n",
              "  cursor: pointer;\n",
              "  display: flex;\n",
              "  width: 100%;\n",
              "  margin-bottom: 0;\n",
              "  padding: 0.5em;\n",
              "  box-sizing: border-box;\n",
              "  text-align: center;\n",
              "  align-items: start;\n",
              "  justify-content: space-between;\n",
              "  gap: 0.5em;\n",
              "}\n",
              "\n",
              "#sk-container-id-1 label.sk-toggleable__label .caption {\n",
              "  font-size: 0.6rem;\n",
              "  font-weight: lighter;\n",
              "  color: var(--sklearn-color-text-muted);\n",
              "}\n",
              "\n",
              "#sk-container-id-1 label.sk-toggleable__label-arrow:before {\n",
              "  /* Arrow on the left of the label */\n",
              "  content: \"▸\";\n",
              "  float: left;\n",
              "  margin-right: 0.25em;\n",
              "  color: var(--sklearn-color-icon);\n",
              "}\n",
              "\n",
              "#sk-container-id-1 label.sk-toggleable__label-arrow:hover:before {\n",
              "  color: var(--sklearn-color-text);\n",
              "}\n",
              "\n",
              "/* Toggleable content - dropdown */\n",
              "\n",
              "#sk-container-id-1 div.sk-toggleable__content {\n",
              "  max-height: 0;\n",
              "  max-width: 0;\n",
              "  overflow: hidden;\n",
              "  text-align: left;\n",
              "  /* unfitted */\n",
              "  background-color: var(--sklearn-color-unfitted-level-0);\n",
              "}\n",
              "\n",
              "#sk-container-id-1 div.sk-toggleable__content.fitted {\n",
              "  /* fitted */\n",
              "  background-color: var(--sklearn-color-fitted-level-0);\n",
              "}\n",
              "\n",
              "#sk-container-id-1 div.sk-toggleable__content pre {\n",
              "  margin: 0.2em;\n",
              "  border-radius: 0.25em;\n",
              "  color: var(--sklearn-color-text);\n",
              "  /* unfitted */\n",
              "  background-color: var(--sklearn-color-unfitted-level-0);\n",
              "}\n",
              "\n",
              "#sk-container-id-1 div.sk-toggleable__content.fitted pre {\n",
              "  /* unfitted */\n",
              "  background-color: var(--sklearn-color-fitted-level-0);\n",
              "}\n",
              "\n",
              "#sk-container-id-1 input.sk-toggleable__control:checked~div.sk-toggleable__content {\n",
              "  /* Expand drop-down */\n",
              "  max-height: 200px;\n",
              "  max-width: 100%;\n",
              "  overflow: auto;\n",
              "}\n",
              "\n",
              "#sk-container-id-1 input.sk-toggleable__control:checked~label.sk-toggleable__label-arrow:before {\n",
              "  content: \"▾\";\n",
              "}\n",
              "\n",
              "/* Pipeline/ColumnTransformer-specific style */\n",
              "\n",
              "#sk-container-id-1 div.sk-label input.sk-toggleable__control:checked~label.sk-toggleable__label {\n",
              "  color: var(--sklearn-color-text);\n",
              "  background-color: var(--sklearn-color-unfitted-level-2);\n",
              "}\n",
              "\n",
              "#sk-container-id-1 div.sk-label.fitted input.sk-toggleable__control:checked~label.sk-toggleable__label {\n",
              "  background-color: var(--sklearn-color-fitted-level-2);\n",
              "}\n",
              "\n",
              "/* Estimator-specific style */\n",
              "\n",
              "/* Colorize estimator box */\n",
              "#sk-container-id-1 div.sk-estimator input.sk-toggleable__control:checked~label.sk-toggleable__label {\n",
              "  /* unfitted */\n",
              "  background-color: var(--sklearn-color-unfitted-level-2);\n",
              "}\n",
              "\n",
              "#sk-container-id-1 div.sk-estimator.fitted input.sk-toggleable__control:checked~label.sk-toggleable__label {\n",
              "  /* fitted */\n",
              "  background-color: var(--sklearn-color-fitted-level-2);\n",
              "}\n",
              "\n",
              "#sk-container-id-1 div.sk-label label.sk-toggleable__label,\n",
              "#sk-container-id-1 div.sk-label label {\n",
              "  /* The background is the default theme color */\n",
              "  color: var(--sklearn-color-text-on-default-background);\n",
              "}\n",
              "\n",
              "/* On hover, darken the color of the background */\n",
              "#sk-container-id-1 div.sk-label:hover label.sk-toggleable__label {\n",
              "  color: var(--sklearn-color-text);\n",
              "  background-color: var(--sklearn-color-unfitted-level-2);\n",
              "}\n",
              "\n",
              "/* Label box, darken color on hover, fitted */\n",
              "#sk-container-id-1 div.sk-label.fitted:hover label.sk-toggleable__label.fitted {\n",
              "  color: var(--sklearn-color-text);\n",
              "  background-color: var(--sklearn-color-fitted-level-2);\n",
              "}\n",
              "\n",
              "/* Estimator label */\n",
              "\n",
              "#sk-container-id-1 div.sk-label label {\n",
              "  font-family: monospace;\n",
              "  font-weight: bold;\n",
              "  display: inline-block;\n",
              "  line-height: 1.2em;\n",
              "}\n",
              "\n",
              "#sk-container-id-1 div.sk-label-container {\n",
              "  text-align: center;\n",
              "}\n",
              "\n",
              "/* Estimator-specific */\n",
              "#sk-container-id-1 div.sk-estimator {\n",
              "  font-family: monospace;\n",
              "  border: 1px dotted var(--sklearn-color-border-box);\n",
              "  border-radius: 0.25em;\n",
              "  box-sizing: border-box;\n",
              "  margin-bottom: 0.5em;\n",
              "  /* unfitted */\n",
              "  background-color: var(--sklearn-color-unfitted-level-0);\n",
              "}\n",
              "\n",
              "#sk-container-id-1 div.sk-estimator.fitted {\n",
              "  /* fitted */\n",
              "  background-color: var(--sklearn-color-fitted-level-0);\n",
              "}\n",
              "\n",
              "/* on hover */\n",
              "#sk-container-id-1 div.sk-estimator:hover {\n",
              "  /* unfitted */\n",
              "  background-color: var(--sklearn-color-unfitted-level-2);\n",
              "}\n",
              "\n",
              "#sk-container-id-1 div.sk-estimator.fitted:hover {\n",
              "  /* fitted */\n",
              "  background-color: var(--sklearn-color-fitted-level-2);\n",
              "}\n",
              "\n",
              "/* Specification for estimator info (e.g. \"i\" and \"?\") */\n",
              "\n",
              "/* Common style for \"i\" and \"?\" */\n",
              "\n",
              ".sk-estimator-doc-link,\n",
              "a:link.sk-estimator-doc-link,\n",
              "a:visited.sk-estimator-doc-link {\n",
              "  float: right;\n",
              "  font-size: smaller;\n",
              "  line-height: 1em;\n",
              "  font-family: monospace;\n",
              "  background-color: var(--sklearn-color-background);\n",
              "  border-radius: 1em;\n",
              "  height: 1em;\n",
              "  width: 1em;\n",
              "  text-decoration: none !important;\n",
              "  margin-left: 0.5em;\n",
              "  text-align: center;\n",
              "  /* unfitted */\n",
              "  border: var(--sklearn-color-unfitted-level-1) 1pt solid;\n",
              "  color: var(--sklearn-color-unfitted-level-1);\n",
              "}\n",
              "\n",
              ".sk-estimator-doc-link.fitted,\n",
              "a:link.sk-estimator-doc-link.fitted,\n",
              "a:visited.sk-estimator-doc-link.fitted {\n",
              "  /* fitted */\n",
              "  border: var(--sklearn-color-fitted-level-1) 1pt solid;\n",
              "  color: var(--sklearn-color-fitted-level-1);\n",
              "}\n",
              "\n",
              "/* On hover */\n",
              "div.sk-estimator:hover .sk-estimator-doc-link:hover,\n",
              ".sk-estimator-doc-link:hover,\n",
              "div.sk-label-container:hover .sk-estimator-doc-link:hover,\n",
              ".sk-estimator-doc-link:hover {\n",
              "  /* unfitted */\n",
              "  background-color: var(--sklearn-color-unfitted-level-3);\n",
              "  color: var(--sklearn-color-background);\n",
              "  text-decoration: none;\n",
              "}\n",
              "\n",
              "div.sk-estimator.fitted:hover .sk-estimator-doc-link.fitted:hover,\n",
              ".sk-estimator-doc-link.fitted:hover,\n",
              "div.sk-label-container:hover .sk-estimator-doc-link.fitted:hover,\n",
              ".sk-estimator-doc-link.fitted:hover {\n",
              "  /* fitted */\n",
              "  background-color: var(--sklearn-color-fitted-level-3);\n",
              "  color: var(--sklearn-color-background);\n",
              "  text-decoration: none;\n",
              "}\n",
              "\n",
              "/* Span, style for the box shown on hovering the info icon */\n",
              ".sk-estimator-doc-link span {\n",
              "  display: none;\n",
              "  z-index: 9999;\n",
              "  position: relative;\n",
              "  font-weight: normal;\n",
              "  right: .2ex;\n",
              "  padding: .5ex;\n",
              "  margin: .5ex;\n",
              "  width: min-content;\n",
              "  min-width: 20ex;\n",
              "  max-width: 50ex;\n",
              "  color: var(--sklearn-color-text);\n",
              "  box-shadow: 2pt 2pt 4pt #999;\n",
              "  /* unfitted */\n",
              "  background: var(--sklearn-color-unfitted-level-0);\n",
              "  border: .5pt solid var(--sklearn-color-unfitted-level-3);\n",
              "}\n",
              "\n",
              ".sk-estimator-doc-link.fitted span {\n",
              "  /* fitted */\n",
              "  background: var(--sklearn-color-fitted-level-0);\n",
              "  border: var(--sklearn-color-fitted-level-3);\n",
              "}\n",
              "\n",
              ".sk-estimator-doc-link:hover span {\n",
              "  display: block;\n",
              "}\n",
              "\n",
              "/* \"?\"-specific style due to the `<a>` HTML tag */\n",
              "\n",
              "#sk-container-id-1 a.estimator_doc_link {\n",
              "  float: right;\n",
              "  font-size: 1rem;\n",
              "  line-height: 1em;\n",
              "  font-family: monospace;\n",
              "  background-color: var(--sklearn-color-background);\n",
              "  border-radius: 1rem;\n",
              "  height: 1rem;\n",
              "  width: 1rem;\n",
              "  text-decoration: none;\n",
              "  /* unfitted */\n",
              "  color: var(--sklearn-color-unfitted-level-1);\n",
              "  border: var(--sklearn-color-unfitted-level-1) 1pt solid;\n",
              "}\n",
              "\n",
              "#sk-container-id-1 a.estimator_doc_link.fitted {\n",
              "  /* fitted */\n",
              "  border: var(--sklearn-color-fitted-level-1) 1pt solid;\n",
              "  color: var(--sklearn-color-fitted-level-1);\n",
              "}\n",
              "\n",
              "/* On hover */\n",
              "#sk-container-id-1 a.estimator_doc_link:hover {\n",
              "  /* unfitted */\n",
              "  background-color: var(--sklearn-color-unfitted-level-3);\n",
              "  color: var(--sklearn-color-background);\n",
              "  text-decoration: none;\n",
              "}\n",
              "\n",
              "#sk-container-id-1 a.estimator_doc_link.fitted:hover {\n",
              "  /* fitted */\n",
              "  background-color: var(--sklearn-color-fitted-level-3);\n",
              "}\n",
              "</style><div id=\"sk-container-id-1\" class=\"sk-top-container\"><div class=\"sk-text-repr-fallback\"><pre>LinearRegression()</pre><b>In a Jupyter environment, please rerun this cell to show the HTML representation or trust the notebook. <br />On GitHub, the HTML representation is unable to render, please try loading this page with nbviewer.org.</b></div><div class=\"sk-container\" hidden><div class=\"sk-item\"><div class=\"sk-estimator fitted sk-toggleable\"><input class=\"sk-toggleable__control sk-hidden--visually\" id=\"sk-estimator-id-1\" type=\"checkbox\" checked><label for=\"sk-estimator-id-1\" class=\"sk-toggleable__label fitted sk-toggleable__label-arrow\"><div><div>LinearRegression</div></div><div><a class=\"sk-estimator-doc-link fitted\" rel=\"noreferrer\" target=\"_blank\" href=\"https://scikit-learn.org/1.6/modules/generated/sklearn.linear_model.LinearRegression.html\">?<span>Documentation for LinearRegression</span></a><span class=\"sk-estimator-doc-link fitted\">i<span>Fitted</span></span></div></label><div class=\"sk-toggleable__content fitted\"><pre>LinearRegression()</pre></div> </div></div></div></div>"
            ]
          },
          "metadata": {},
          "execution_count": 113
        }
      ]
    },
    {
      "cell_type": "markdown",
      "source": [
        "# **Model Evaluation**"
      ],
      "metadata": {
        "id": "Zq-dS_YSBay3"
      }
    },
    {
      "cell_type": "code",
      "source": [],
      "metadata": {
        "id": "pn5vjVH7BYay"
      },
      "execution_count": null,
      "outputs": []
    }
  ]
}