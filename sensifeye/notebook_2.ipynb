{
  "cells": [
    {
      "cell_type": "markdown",
      "metadata": {
        "id": "view-in-github",
        "colab_type": "text"
      },
      "source": [
        "<a href=\"https://colab.research.google.com/github/kwanda2426/projects/blob/main/sensifeye/notebook_2.ipynb\" target=\"_parent\"><img src=\"https://colab.research.google.com/assets/colab-badge.svg\" alt=\"Open In Colab\"/></a>"
      ]
    },
    {
      "cell_type": "markdown",
      "metadata": {
        "id": "eUV9gTurt0Kt"
      },
      "source": [
        "# **Phone Call Marketing Campaign**"
      ]
    },
    {
      "cell_type": "markdown",
      "metadata": {
        "id": "PQzKuTEgWlt-"
      },
      "source": [
        "<img src=\"https://cdn.searchenginejournal.com/wp-content/uploads/2020/01/shutterstock_181457837-5e3199d4b1202.png\" >"
      ]
    },
    {
      "cell_type": "markdown",
      "metadata": {
        "id": "Bno0kq00Xfpu"
      },
      "source": [
        "# **Term Deposit Subscription Prediction**\n",
        "\n",
        "- **Kwanda Mazibuko**"
      ]
    },
    {
      "cell_type": "markdown",
      "metadata": {
        "id": "T7AaGKnkc_AX"
      },
      "source": [
        "## Table of contents\n",
        "1. [Introduction](#intro)\n",
        "2. [Data Collection](#data)\n",
        "3. [Data Preprocessing](#cleaning)\n",
        "4. [Exploratory Data Analysis](#EDA)\n",
        "5. [Feature Engineering And Selection](#features)\n",
        "6. [Model Building And Evaluation](#model)\n",
        "7. [Conclusion](#conclusion)\n",
        "8. [References](#references)"
      ]
    },
    {
      "cell_type": "markdown",
      "metadata": {
        "id": "vBv9CKKjdBU-"
      },
      "source": [
        "<a id=\"intro\"></a>\n",
        "# 1. **Introduction**"
      ]
    },
    {
      "cell_type": "markdown",
      "metadata": {
        "id": "hfPPOHmuks2M"
      },
      "source": [
        "**Problem Statement**\n",
        "\n",
        "As we are diving deep into the field of artificial intelligence, we are coming across ways in which AI can leverage human life and potentially save them from disasters in the coming future. One such small step towards this far but promising future is to use data from past and find some patterns which are universal in nature and which can promise some accurate prediction thereby helping humans minimize the effects of disaster.\n",
        "\n",
        "\n",
        "There has been a revenue decline for the bank and they would like to know what actions to take. After investigation, it was found that the root cause is that their clients are not depositing as frequently as before. Term deposits allow banks to hold onto a deposit for a specific amount of time, so banks can lend more and thus make more profits. In addition, banks also hold better chance to persuade term deposit clients into buying other products such as funds or insurance to further increase their revenues.\n"
      ]
    },
    {
      "cell_type": "markdown",
      "metadata": {
        "id": "ocML0k3jlB7m"
      },
      "source": [
        "**Objective**\n",
        "\n",
        "We build a machine learning model to predict if the clients will subscribe a term deposit. "
      ]
    },
    {
      "cell_type": "markdown",
      "metadata": {
        "id": "x3FuUteAdTxo"
      },
      "source": [
        "<a id=\"data\"></a>\n",
        "# 2. **Data Collection**"
      ]
    },
    {
      "cell_type": "markdown",
      "metadata": {
        "id": "BkKUyWMwddmN"
      },
      "source": [
        "The data is related with direct marketing campaigns (phone calls) of a Portuguese banking institution."
      ]
    },
    {
      "cell_type": "markdown",
      "metadata": {
        "id": "r1THQygzeOG6"
      },
      "source": [
        "# **Importing Libraries**"
      ]
    },
    {
      "cell_type": "code",
      "execution_count": 3,
      "metadata": {
        "colab": {
          "base_uri": "https://localhost:8080/"
        },
        "id": "51HlIwixt0Lc",
        "outputId": "4db4208c-ea70-428f-c5bc-c84f88936af4"
      },
      "outputs": [
        {
          "output_type": "stream",
          "name": "stdout",
          "text": [
            "Looking in indexes: https://pypi.org/simple, https://us-python.pkg.dev/colab-wheels/public/simple/\n",
            "Requirement already satisfied: imblearn in /usr/local/lib/python3.7/dist-packages (0.0)\n",
            "Requirement already satisfied: imbalanced-learn in /usr/local/lib/python3.7/dist-packages (from imblearn) (0.8.1)\n",
            "Requirement already satisfied: numpy>=1.13.3 in /usr/local/lib/python3.7/dist-packages (from imbalanced-learn->imblearn) (1.21.6)\n",
            "Requirement already satisfied: scipy>=0.19.1 in /usr/local/lib/python3.7/dist-packages (from imbalanced-learn->imblearn) (1.4.1)\n",
            "Requirement already satisfied: scikit-learn>=0.24 in /usr/local/lib/python3.7/dist-packages (from imbalanced-learn->imblearn) (1.0.2)\n",
            "Requirement already satisfied: joblib>=0.11 in /usr/local/lib/python3.7/dist-packages (from imbalanced-learn->imblearn) (1.1.0)\n",
            "Requirement already satisfied: threadpoolctl>=2.0.0 in /usr/local/lib/python3.7/dist-packages (from scikit-learn>=0.24->imbalanced-learn->imblearn) (3.1.0)\n",
            "Looking in indexes: https://pypi.org/simple, https://us-python.pkg.dev/colab-wheels/public/simple/\n",
            "Requirement already satisfied: smote in /usr/local/lib/python3.7/dist-packages (0.1)\n",
            "Requirement already satisfied: numpy>=1.14.3 in /usr/local/lib/python3.7/dist-packages (from smote) (1.21.6)\n",
            "Requirement already satisfied: scikit-learn>=0.19.1 in /usr/local/lib/python3.7/dist-packages (from smote) (1.0.2)\n",
            "Requirement already satisfied: joblib>=0.11 in /usr/local/lib/python3.7/dist-packages (from scikit-learn>=0.19.1->smote) (1.1.0)\n",
            "Requirement already satisfied: scipy>=1.1.0 in /usr/local/lib/python3.7/dist-packages (from scikit-learn>=0.19.1->smote) (1.4.1)\n",
            "Requirement already satisfied: threadpoolctl>=2.0.0 in /usr/local/lib/python3.7/dist-packages (from scikit-learn>=0.19.1->smote) (3.1.0)\n"
          ]
        }
      ],
      "source": [
        "!pip install imblearn\n",
        "!pip install smote "
      ]
    },
    {
      "cell_type": "code",
      "execution_count": 5,
      "metadata": {
        "id": "l9VoHFjfdUyJ"
      },
      "outputs": [],
      "source": [
        "# Libraries for data loading, data manipulation and data visulisation\n",
        "import numpy as np\n",
        "import pandas as pd\n",
        "\n",
        "import matplotlib.pyplot as plt\n",
        "from matplotlib import rc\n",
        "import seaborn as sns\n",
        "from statsmodels.graphics.correlation import plot_corr\n",
        "from scipy.stats import skew\n",
        "from scipy.stats import kurtosis\n",
        "import statistics\n",
        "\n",
        "# datetime\n",
        "import requests\n",
        "import io\n",
        "import datetime\n",
        "\n",
        "# Libraries for data preparation and model building\n",
        "from sklearn.utils import resample\n",
        "from sklearn.preprocessing import LabelEncoder\n",
        "import statsmodels.formula.api as sm\n",
        "from statsmodels.formula.api import ols\n",
        "from sklearn import metrics\n",
        "from sklearn.svm import SVR\n",
        "from xgboost.sklearn import XGBRegressor\n",
        "from sklearn.feature_selection import RFE\n",
        "from sklearn.feature_selection import RFECV\n",
        "from sklearn.feature_selection import SelectKBest, chi2\n",
        "from scipy.stats import boxcox, zscore\n",
        "from sklearn.metrics import mean_squared_error\n",
        "from sklearn.tree import DecisionTreeRegressor\n",
        "from sklearn.compose import ColumnTransformer\n",
        "from sklearn.ensemble import RandomForestRegressor, VotingRegressor, StackingRegressor, BaggingRegressor, AdaBoostRegressor\n",
        "from sklearn.linear_model import Lasso, Ridge, LinearRegression\n",
        "from sklearn.model_selection import train_test_split, KFold, cross_val_score, GridSearchCV\n",
        "from sklearn.preprocessing import LabelEncoder, OneHotEncoder, StandardScaler, PolynomialFeatures\n",
        "\n",
        "# saving my model\n",
        "import pickle\n",
        "\n",
        "#ignoring warnings\n",
        "import warnings\n",
        "warnings.filterwarnings('ignore')\n",
        "\n",
        "#ignoring warnings\n",
        "import warnings\n",
        "warnings.filterwarnings('ignore')\n",
        "%matplotlib inline\n",
        "\n",
        "#making sure that we can see all rows and cols\n",
        "pd.set_option('display.max_columns', None)\n",
        "\n",
        "pd.set_option('display.max_rows', None)"
      ]
    },
    {
      "cell_type": "markdown",
      "metadata": {
        "id": "3bMdhPArfa7X"
      },
      "source": [
        "### **Loading Data**"
      ]
    },
    {
      "cell_type": "code",
      "source": [
        "url = \"https://github.com/kwanda2426/projects/blob/main/sensifeye/BankCustomerData.csv?raw=true\" # Make sure the url is the raw version of the file on GitHub\n",
        "download = requests.get(url).content\n",
        "\n",
        "# Reading the downloaded content and turning it into a pandas dataframe\n",
        "df = pd.read_csv(io.StringIO(download.decode('utf-8')))\n",
        "#https://github.com/kwanda2426/projects/blob/5afdf8d70a6b466c43ea16cbc23c911249f3d633/sensifeye/BankCustomerData.csv"
      ],
      "metadata": {
        "id": "wuJe9aQ0uC83"
      },
      "execution_count": 6,
      "outputs": []
    },
    {
      "cell_type": "code",
      "execution_count": 7,
      "metadata": {
        "id": "3BWuLxb1fpBw",
        "colab": {
          "base_uri": "https://localhost:8080/",
          "height": 720
        },
        "outputId": "0cbd2f4d-d906-414b-f129-1fe982d25077"
      },
      "outputs": [
        {
          "output_type": "execute_result",
          "data": {
            "text/plain": [
              "    age           job   marital  education default  balance housing loan  \\\n",
              "0    58    management   married   tertiary      no     2143     yes   no   \n",
              "1    44    technician    single  secondary      no       29     yes   no   \n",
              "2    33  entrepreneur   married  secondary      no        2     yes  yes   \n",
              "3    47   blue-collar   married    unknown      no     1506     yes   no   \n",
              "4    33       unknown    single    unknown      no        1      no   no   \n",
              "5    35    management   married   tertiary      no      231     yes   no   \n",
              "6    28    management    single   tertiary      no      447     yes  yes   \n",
              "7    42  entrepreneur  divorced   tertiary     yes        2     yes   no   \n",
              "8    58       retired   married    primary      no      121     yes   no   \n",
              "9    43    technician    single  secondary      no      593     yes   no   \n",
              "10   41        admin.  divorced  secondary      no      270     yes   no   \n",
              "11   29        admin.    single  secondary      no      390     yes   no   \n",
              "12   53    technician   married  secondary      no        6     yes   no   \n",
              "13   58    technician   married    unknown      no       71     yes   no   \n",
              "14   57      services   married  secondary      no      162     yes   no   \n",
              "15   51       retired   married    primary      no      229     yes   no   \n",
              "16   45        admin.    single    unknown      no       13     yes   no   \n",
              "17   57   blue-collar   married    primary      no       52     yes   no   \n",
              "18   60       retired   married    primary      no       60     yes   no   \n",
              "19   33      services   married  secondary      no        0     yes   no   \n",
              "\n",
              "    contact  day month  duration  campaign  pdays  previous poutcome  \\\n",
              "0   unknown    5   may       261         1     -1         0  unknown   \n",
              "1   unknown    5   may       151         1     -1         0  unknown   \n",
              "2   unknown    5   may        76         1     -1         0  unknown   \n",
              "3   unknown    5   may        92         1     -1         0  unknown   \n",
              "4   unknown    5   may       198         1     -1         0  unknown   \n",
              "5   unknown    5   may       139         1     -1         0  unknown   \n",
              "6   unknown    5   may       217         1     -1         0  unknown   \n",
              "7   unknown    5   may       380         1     -1         0  unknown   \n",
              "8   unknown    5   may        50         1     -1         0  unknown   \n",
              "9   unknown    5   may        55         1     -1         0  unknown   \n",
              "10  unknown    5   may       222         1     -1         0  unknown   \n",
              "11  unknown    5   may       137         1     -1         0  unknown   \n",
              "12  unknown    5   may       517         1     -1         0  unknown   \n",
              "13  unknown    5   may        71         1     -1         0  unknown   \n",
              "14  unknown    5   may       174         1     -1         0  unknown   \n",
              "15  unknown    5   may       353         1     -1         0  unknown   \n",
              "16  unknown    5   may        98         1     -1         0  unknown   \n",
              "17  unknown    5   may        38         1     -1         0  unknown   \n",
              "18  unknown    5   may       219         1     -1         0  unknown   \n",
              "19  unknown    5   may        54         1     -1         0  unknown   \n",
              "\n",
              "   term_deposit  \n",
              "0            no  \n",
              "1            no  \n",
              "2            no  \n",
              "3            no  \n",
              "4            no  \n",
              "5            no  \n",
              "6            no  \n",
              "7            no  \n",
              "8            no  \n",
              "9            no  \n",
              "10           no  \n",
              "11           no  \n",
              "12           no  \n",
              "13           no  \n",
              "14           no  \n",
              "15           no  \n",
              "16           no  \n",
              "17           no  \n",
              "18           no  \n",
              "19           no  "
            ],
            "text/html": [
              "\n",
              "  <div id=\"df-5a39d406-8898-4d36-a495-dd660212a26a\">\n",
              "    <div class=\"colab-df-container\">\n",
              "      <div>\n",
              "<style scoped>\n",
              "    .dataframe tbody tr th:only-of-type {\n",
              "        vertical-align: middle;\n",
              "    }\n",
              "\n",
              "    .dataframe tbody tr th {\n",
              "        vertical-align: top;\n",
              "    }\n",
              "\n",
              "    .dataframe thead th {\n",
              "        text-align: right;\n",
              "    }\n",
              "</style>\n",
              "<table border=\"1\" class=\"dataframe\">\n",
              "  <thead>\n",
              "    <tr style=\"text-align: right;\">\n",
              "      <th></th>\n",
              "      <th>age</th>\n",
              "      <th>job</th>\n",
              "      <th>marital</th>\n",
              "      <th>education</th>\n",
              "      <th>default</th>\n",
              "      <th>balance</th>\n",
              "      <th>housing</th>\n",
              "      <th>loan</th>\n",
              "      <th>contact</th>\n",
              "      <th>day</th>\n",
              "      <th>month</th>\n",
              "      <th>duration</th>\n",
              "      <th>campaign</th>\n",
              "      <th>pdays</th>\n",
              "      <th>previous</th>\n",
              "      <th>poutcome</th>\n",
              "      <th>term_deposit</th>\n",
              "    </tr>\n",
              "  </thead>\n",
              "  <tbody>\n",
              "    <tr>\n",
              "      <th>0</th>\n",
              "      <td>58</td>\n",
              "      <td>management</td>\n",
              "      <td>married</td>\n",
              "      <td>tertiary</td>\n",
              "      <td>no</td>\n",
              "      <td>2143</td>\n",
              "      <td>yes</td>\n",
              "      <td>no</td>\n",
              "      <td>unknown</td>\n",
              "      <td>5</td>\n",
              "      <td>may</td>\n",
              "      <td>261</td>\n",
              "      <td>1</td>\n",
              "      <td>-1</td>\n",
              "      <td>0</td>\n",
              "      <td>unknown</td>\n",
              "      <td>no</td>\n",
              "    </tr>\n",
              "    <tr>\n",
              "      <th>1</th>\n",
              "      <td>44</td>\n",
              "      <td>technician</td>\n",
              "      <td>single</td>\n",
              "      <td>secondary</td>\n",
              "      <td>no</td>\n",
              "      <td>29</td>\n",
              "      <td>yes</td>\n",
              "      <td>no</td>\n",
              "      <td>unknown</td>\n",
              "      <td>5</td>\n",
              "      <td>may</td>\n",
              "      <td>151</td>\n",
              "      <td>1</td>\n",
              "      <td>-1</td>\n",
              "      <td>0</td>\n",
              "      <td>unknown</td>\n",
              "      <td>no</td>\n",
              "    </tr>\n",
              "    <tr>\n",
              "      <th>2</th>\n",
              "      <td>33</td>\n",
              "      <td>entrepreneur</td>\n",
              "      <td>married</td>\n",
              "      <td>secondary</td>\n",
              "      <td>no</td>\n",
              "      <td>2</td>\n",
              "      <td>yes</td>\n",
              "      <td>yes</td>\n",
              "      <td>unknown</td>\n",
              "      <td>5</td>\n",
              "      <td>may</td>\n",
              "      <td>76</td>\n",
              "      <td>1</td>\n",
              "      <td>-1</td>\n",
              "      <td>0</td>\n",
              "      <td>unknown</td>\n",
              "      <td>no</td>\n",
              "    </tr>\n",
              "    <tr>\n",
              "      <th>3</th>\n",
              "      <td>47</td>\n",
              "      <td>blue-collar</td>\n",
              "      <td>married</td>\n",
              "      <td>unknown</td>\n",
              "      <td>no</td>\n",
              "      <td>1506</td>\n",
              "      <td>yes</td>\n",
              "      <td>no</td>\n",
              "      <td>unknown</td>\n",
              "      <td>5</td>\n",
              "      <td>may</td>\n",
              "      <td>92</td>\n",
              "      <td>1</td>\n",
              "      <td>-1</td>\n",
              "      <td>0</td>\n",
              "      <td>unknown</td>\n",
              "      <td>no</td>\n",
              "    </tr>\n",
              "    <tr>\n",
              "      <th>4</th>\n",
              "      <td>33</td>\n",
              "      <td>unknown</td>\n",
              "      <td>single</td>\n",
              "      <td>unknown</td>\n",
              "      <td>no</td>\n",
              "      <td>1</td>\n",
              "      <td>no</td>\n",
              "      <td>no</td>\n",
              "      <td>unknown</td>\n",
              "      <td>5</td>\n",
              "      <td>may</td>\n",
              "      <td>198</td>\n",
              "      <td>1</td>\n",
              "      <td>-1</td>\n",
              "      <td>0</td>\n",
              "      <td>unknown</td>\n",
              "      <td>no</td>\n",
              "    </tr>\n",
              "    <tr>\n",
              "      <th>5</th>\n",
              "      <td>35</td>\n",
              "      <td>management</td>\n",
              "      <td>married</td>\n",
              "      <td>tertiary</td>\n",
              "      <td>no</td>\n",
              "      <td>231</td>\n",
              "      <td>yes</td>\n",
              "      <td>no</td>\n",
              "      <td>unknown</td>\n",
              "      <td>5</td>\n",
              "      <td>may</td>\n",
              "      <td>139</td>\n",
              "      <td>1</td>\n",
              "      <td>-1</td>\n",
              "      <td>0</td>\n",
              "      <td>unknown</td>\n",
              "      <td>no</td>\n",
              "    </tr>\n",
              "    <tr>\n",
              "      <th>6</th>\n",
              "      <td>28</td>\n",
              "      <td>management</td>\n",
              "      <td>single</td>\n",
              "      <td>tertiary</td>\n",
              "      <td>no</td>\n",
              "      <td>447</td>\n",
              "      <td>yes</td>\n",
              "      <td>yes</td>\n",
              "      <td>unknown</td>\n",
              "      <td>5</td>\n",
              "      <td>may</td>\n",
              "      <td>217</td>\n",
              "      <td>1</td>\n",
              "      <td>-1</td>\n",
              "      <td>0</td>\n",
              "      <td>unknown</td>\n",
              "      <td>no</td>\n",
              "    </tr>\n",
              "    <tr>\n",
              "      <th>7</th>\n",
              "      <td>42</td>\n",
              "      <td>entrepreneur</td>\n",
              "      <td>divorced</td>\n",
              "      <td>tertiary</td>\n",
              "      <td>yes</td>\n",
              "      <td>2</td>\n",
              "      <td>yes</td>\n",
              "      <td>no</td>\n",
              "      <td>unknown</td>\n",
              "      <td>5</td>\n",
              "      <td>may</td>\n",
              "      <td>380</td>\n",
              "      <td>1</td>\n",
              "      <td>-1</td>\n",
              "      <td>0</td>\n",
              "      <td>unknown</td>\n",
              "      <td>no</td>\n",
              "    </tr>\n",
              "    <tr>\n",
              "      <th>8</th>\n",
              "      <td>58</td>\n",
              "      <td>retired</td>\n",
              "      <td>married</td>\n",
              "      <td>primary</td>\n",
              "      <td>no</td>\n",
              "      <td>121</td>\n",
              "      <td>yes</td>\n",
              "      <td>no</td>\n",
              "      <td>unknown</td>\n",
              "      <td>5</td>\n",
              "      <td>may</td>\n",
              "      <td>50</td>\n",
              "      <td>1</td>\n",
              "      <td>-1</td>\n",
              "      <td>0</td>\n",
              "      <td>unknown</td>\n",
              "      <td>no</td>\n",
              "    </tr>\n",
              "    <tr>\n",
              "      <th>9</th>\n",
              "      <td>43</td>\n",
              "      <td>technician</td>\n",
              "      <td>single</td>\n",
              "      <td>secondary</td>\n",
              "      <td>no</td>\n",
              "      <td>593</td>\n",
              "      <td>yes</td>\n",
              "      <td>no</td>\n",
              "      <td>unknown</td>\n",
              "      <td>5</td>\n",
              "      <td>may</td>\n",
              "      <td>55</td>\n",
              "      <td>1</td>\n",
              "      <td>-1</td>\n",
              "      <td>0</td>\n",
              "      <td>unknown</td>\n",
              "      <td>no</td>\n",
              "    </tr>\n",
              "    <tr>\n",
              "      <th>10</th>\n",
              "      <td>41</td>\n",
              "      <td>admin.</td>\n",
              "      <td>divorced</td>\n",
              "      <td>secondary</td>\n",
              "      <td>no</td>\n",
              "      <td>270</td>\n",
              "      <td>yes</td>\n",
              "      <td>no</td>\n",
              "      <td>unknown</td>\n",
              "      <td>5</td>\n",
              "      <td>may</td>\n",
              "      <td>222</td>\n",
              "      <td>1</td>\n",
              "      <td>-1</td>\n",
              "      <td>0</td>\n",
              "      <td>unknown</td>\n",
              "      <td>no</td>\n",
              "    </tr>\n",
              "    <tr>\n",
              "      <th>11</th>\n",
              "      <td>29</td>\n",
              "      <td>admin.</td>\n",
              "      <td>single</td>\n",
              "      <td>secondary</td>\n",
              "      <td>no</td>\n",
              "      <td>390</td>\n",
              "      <td>yes</td>\n",
              "      <td>no</td>\n",
              "      <td>unknown</td>\n",
              "      <td>5</td>\n",
              "      <td>may</td>\n",
              "      <td>137</td>\n",
              "      <td>1</td>\n",
              "      <td>-1</td>\n",
              "      <td>0</td>\n",
              "      <td>unknown</td>\n",
              "      <td>no</td>\n",
              "    </tr>\n",
              "    <tr>\n",
              "      <th>12</th>\n",
              "      <td>53</td>\n",
              "      <td>technician</td>\n",
              "      <td>married</td>\n",
              "      <td>secondary</td>\n",
              "      <td>no</td>\n",
              "      <td>6</td>\n",
              "      <td>yes</td>\n",
              "      <td>no</td>\n",
              "      <td>unknown</td>\n",
              "      <td>5</td>\n",
              "      <td>may</td>\n",
              "      <td>517</td>\n",
              "      <td>1</td>\n",
              "      <td>-1</td>\n",
              "      <td>0</td>\n",
              "      <td>unknown</td>\n",
              "      <td>no</td>\n",
              "    </tr>\n",
              "    <tr>\n",
              "      <th>13</th>\n",
              "      <td>58</td>\n",
              "      <td>technician</td>\n",
              "      <td>married</td>\n",
              "      <td>unknown</td>\n",
              "      <td>no</td>\n",
              "      <td>71</td>\n",
              "      <td>yes</td>\n",
              "      <td>no</td>\n",
              "      <td>unknown</td>\n",
              "      <td>5</td>\n",
              "      <td>may</td>\n",
              "      <td>71</td>\n",
              "      <td>1</td>\n",
              "      <td>-1</td>\n",
              "      <td>0</td>\n",
              "      <td>unknown</td>\n",
              "      <td>no</td>\n",
              "    </tr>\n",
              "    <tr>\n",
              "      <th>14</th>\n",
              "      <td>57</td>\n",
              "      <td>services</td>\n",
              "      <td>married</td>\n",
              "      <td>secondary</td>\n",
              "      <td>no</td>\n",
              "      <td>162</td>\n",
              "      <td>yes</td>\n",
              "      <td>no</td>\n",
              "      <td>unknown</td>\n",
              "      <td>5</td>\n",
              "      <td>may</td>\n",
              "      <td>174</td>\n",
              "      <td>1</td>\n",
              "      <td>-1</td>\n",
              "      <td>0</td>\n",
              "      <td>unknown</td>\n",
              "      <td>no</td>\n",
              "    </tr>\n",
              "    <tr>\n",
              "      <th>15</th>\n",
              "      <td>51</td>\n",
              "      <td>retired</td>\n",
              "      <td>married</td>\n",
              "      <td>primary</td>\n",
              "      <td>no</td>\n",
              "      <td>229</td>\n",
              "      <td>yes</td>\n",
              "      <td>no</td>\n",
              "      <td>unknown</td>\n",
              "      <td>5</td>\n",
              "      <td>may</td>\n",
              "      <td>353</td>\n",
              "      <td>1</td>\n",
              "      <td>-1</td>\n",
              "      <td>0</td>\n",
              "      <td>unknown</td>\n",
              "      <td>no</td>\n",
              "    </tr>\n",
              "    <tr>\n",
              "      <th>16</th>\n",
              "      <td>45</td>\n",
              "      <td>admin.</td>\n",
              "      <td>single</td>\n",
              "      <td>unknown</td>\n",
              "      <td>no</td>\n",
              "      <td>13</td>\n",
              "      <td>yes</td>\n",
              "      <td>no</td>\n",
              "      <td>unknown</td>\n",
              "      <td>5</td>\n",
              "      <td>may</td>\n",
              "      <td>98</td>\n",
              "      <td>1</td>\n",
              "      <td>-1</td>\n",
              "      <td>0</td>\n",
              "      <td>unknown</td>\n",
              "      <td>no</td>\n",
              "    </tr>\n",
              "    <tr>\n",
              "      <th>17</th>\n",
              "      <td>57</td>\n",
              "      <td>blue-collar</td>\n",
              "      <td>married</td>\n",
              "      <td>primary</td>\n",
              "      <td>no</td>\n",
              "      <td>52</td>\n",
              "      <td>yes</td>\n",
              "      <td>no</td>\n",
              "      <td>unknown</td>\n",
              "      <td>5</td>\n",
              "      <td>may</td>\n",
              "      <td>38</td>\n",
              "      <td>1</td>\n",
              "      <td>-1</td>\n",
              "      <td>0</td>\n",
              "      <td>unknown</td>\n",
              "      <td>no</td>\n",
              "    </tr>\n",
              "    <tr>\n",
              "      <th>18</th>\n",
              "      <td>60</td>\n",
              "      <td>retired</td>\n",
              "      <td>married</td>\n",
              "      <td>primary</td>\n",
              "      <td>no</td>\n",
              "      <td>60</td>\n",
              "      <td>yes</td>\n",
              "      <td>no</td>\n",
              "      <td>unknown</td>\n",
              "      <td>5</td>\n",
              "      <td>may</td>\n",
              "      <td>219</td>\n",
              "      <td>1</td>\n",
              "      <td>-1</td>\n",
              "      <td>0</td>\n",
              "      <td>unknown</td>\n",
              "      <td>no</td>\n",
              "    </tr>\n",
              "    <tr>\n",
              "      <th>19</th>\n",
              "      <td>33</td>\n",
              "      <td>services</td>\n",
              "      <td>married</td>\n",
              "      <td>secondary</td>\n",
              "      <td>no</td>\n",
              "      <td>0</td>\n",
              "      <td>yes</td>\n",
              "      <td>no</td>\n",
              "      <td>unknown</td>\n",
              "      <td>5</td>\n",
              "      <td>may</td>\n",
              "      <td>54</td>\n",
              "      <td>1</td>\n",
              "      <td>-1</td>\n",
              "      <td>0</td>\n",
              "      <td>unknown</td>\n",
              "      <td>no</td>\n",
              "    </tr>\n",
              "  </tbody>\n",
              "</table>\n",
              "</div>\n",
              "      <button class=\"colab-df-convert\" onclick=\"convertToInteractive('df-5a39d406-8898-4d36-a495-dd660212a26a')\"\n",
              "              title=\"Convert this dataframe to an interactive table.\"\n",
              "              style=\"display:none;\">\n",
              "        \n",
              "  <svg xmlns=\"http://www.w3.org/2000/svg\" height=\"24px\"viewBox=\"0 0 24 24\"\n",
              "       width=\"24px\">\n",
              "    <path d=\"M0 0h24v24H0V0z\" fill=\"none\"/>\n",
              "    <path d=\"M18.56 5.44l.94 2.06.94-2.06 2.06-.94-2.06-.94-.94-2.06-.94 2.06-2.06.94zm-11 1L8.5 8.5l.94-2.06 2.06-.94-2.06-.94L8.5 2.5l-.94 2.06-2.06.94zm10 10l.94 2.06.94-2.06 2.06-.94-2.06-.94-.94-2.06-.94 2.06-2.06.94z\"/><path d=\"M17.41 7.96l-1.37-1.37c-.4-.4-.92-.59-1.43-.59-.52 0-1.04.2-1.43.59L10.3 9.45l-7.72 7.72c-.78.78-.78 2.05 0 2.83L4 21.41c.39.39.9.59 1.41.59.51 0 1.02-.2 1.41-.59l7.78-7.78 2.81-2.81c.8-.78.8-2.07 0-2.86zM5.41 20L4 18.59l7.72-7.72 1.47 1.35L5.41 20z\"/>\n",
              "  </svg>\n",
              "      </button>\n",
              "      \n",
              "  <style>\n",
              "    .colab-df-container {\n",
              "      display:flex;\n",
              "      flex-wrap:wrap;\n",
              "      gap: 12px;\n",
              "    }\n",
              "\n",
              "    .colab-df-convert {\n",
              "      background-color: #E8F0FE;\n",
              "      border: none;\n",
              "      border-radius: 50%;\n",
              "      cursor: pointer;\n",
              "      display: none;\n",
              "      fill: #1967D2;\n",
              "      height: 32px;\n",
              "      padding: 0 0 0 0;\n",
              "      width: 32px;\n",
              "    }\n",
              "\n",
              "    .colab-df-convert:hover {\n",
              "      background-color: #E2EBFA;\n",
              "      box-shadow: 0px 1px 2px rgba(60, 64, 67, 0.3), 0px 1px 3px 1px rgba(60, 64, 67, 0.15);\n",
              "      fill: #174EA6;\n",
              "    }\n",
              "\n",
              "    [theme=dark] .colab-df-convert {\n",
              "      background-color: #3B4455;\n",
              "      fill: #D2E3FC;\n",
              "    }\n",
              "\n",
              "    [theme=dark] .colab-df-convert:hover {\n",
              "      background-color: #434B5C;\n",
              "      box-shadow: 0px 1px 3px 1px rgba(0, 0, 0, 0.15);\n",
              "      filter: drop-shadow(0px 1px 2px rgba(0, 0, 0, 0.3));\n",
              "      fill: #FFFFFF;\n",
              "    }\n",
              "  </style>\n",
              "\n",
              "      <script>\n",
              "        const buttonEl =\n",
              "          document.querySelector('#df-5a39d406-8898-4d36-a495-dd660212a26a button.colab-df-convert');\n",
              "        buttonEl.style.display =\n",
              "          google.colab.kernel.accessAllowed ? 'block' : 'none';\n",
              "\n",
              "        async function convertToInteractive(key) {\n",
              "          const element = document.querySelector('#df-5a39d406-8898-4d36-a495-dd660212a26a');\n",
              "          const dataTable =\n",
              "            await google.colab.kernel.invokeFunction('convertToInteractive',\n",
              "                                                     [key], {});\n",
              "          if (!dataTable) return;\n",
              "\n",
              "          const docLinkHtml = 'Like what you see? Visit the ' +\n",
              "            '<a target=\"_blank\" href=https://colab.research.google.com/notebooks/data_table.ipynb>data table notebook</a>'\n",
              "            + ' to learn more about interactive tables.';\n",
              "          element.innerHTML = '';\n",
              "          dataTable['output_type'] = 'display_data';\n",
              "          await google.colab.output.renderOutput(dataTable, element);\n",
              "          const docLink = document.createElement('div');\n",
              "          docLink.innerHTML = docLinkHtml;\n",
              "          element.appendChild(docLink);\n",
              "        }\n",
              "      </script>\n",
              "    </div>\n",
              "  </div>\n",
              "  "
            ]
          },
          "metadata": {},
          "execution_count": 7
        }
      ],
      "source": [
        "# Read file\n",
        "df_train = df\n",
        "\n",
        "# view first 20 rows\n",
        "df_train.head(20)"
      ]
    },
    {
      "cell_type": "code",
      "execution_count": 8,
      "metadata": {
        "colab": {
          "base_uri": "https://localhost:8080/"
        },
        "id": "XV5TZ_CWs6Sk",
        "outputId": "afcffe26-ad5d-4d43-ee4c-a8e55845f0e0"
      },
      "outputs": [
        {
          "output_type": "stream",
          "name": "stdout",
          "text": [
            "Rows    :  42639\n",
            "Columns :  17\n",
            "\n",
            "Missing values:  0\n",
            "\n",
            "Information about the data: \n",
            "<class 'pandas.core.frame.DataFrame'>\n",
            "RangeIndex: 42639 entries, 0 to 42638\n",
            "Data columns (total 17 columns):\n",
            " #   Column        Non-Null Count  Dtype \n",
            "---  ------        --------------  ----- \n",
            " 0   age           42639 non-null  int64 \n",
            " 1   job           42639 non-null  object\n",
            " 2   marital       42639 non-null  object\n",
            " 3   education     42639 non-null  object\n",
            " 4   default       42639 non-null  object\n",
            " 5   balance       42639 non-null  int64 \n",
            " 6   housing       42639 non-null  object\n",
            " 7   loan          42639 non-null  object\n",
            " 8   contact       42639 non-null  object\n",
            " 9   day           42639 non-null  int64 \n",
            " 10  month         42639 non-null  object\n",
            " 11  duration      42639 non-null  int64 \n",
            " 12  campaign      42639 non-null  int64 \n",
            " 13  pdays         42639 non-null  int64 \n",
            " 14  previous      42639 non-null  int64 \n",
            " 15  poutcome      42639 non-null  object\n",
            " 16  term_deposit  42639 non-null  object\n",
            "dtypes: int64(7), object(10)\n",
            "memory usage: 5.5+ MB\n",
            "  \n",
            " None\n",
            "\n",
            "About the data: \n",
            "\n",
            "Feature 'age' has 75 unique categories \n",
            "\n",
            "Feature 'job' has 12 unique categories \n",
            "\n",
            "Feature 'marital' has 3 unique categories \n",
            "\n",
            "Feature 'education' has 4 unique categories \n",
            "\n",
            "Feature 'default' has 2 unique categories \n",
            "\n",
            "Feature 'balance' has 7078 unique categories \n",
            "\n",
            "Feature 'housing' has 2 unique categories \n",
            "\n",
            "Feature 'loan' has 2 unique categories \n",
            "\n",
            "Feature 'contact' has 3 unique categories \n",
            "\n",
            "Feature 'day' has 31 unique categories \n",
            "\n",
            "Feature 'month' has 12 unique categories \n",
            "\n",
            "Feature 'duration' has 1561 unique categories \n",
            "\n",
            "Feature 'campaign' has 48 unique categories \n",
            "\n",
            "Feature 'pdays' has 418 unique categories \n",
            "\n",
            "Feature 'previous' has 38 unique categories \n",
            "\n",
            "Feature 'poutcome' has 4 unique categories \n",
            "\n",
            "Feature 'term_deposit' has 2 unique categories \n",
            "\n"
          ]
        }
      ],
      "source": [
        "# Checking how our training dataset looks like\n",
        "print(\"Rows    : \", df_train.shape[0])\n",
        "\n",
        "print(\"Columns : \", df_train.shape[1])\n",
        "\n",
        "print(\"\\nMissing values: \", df_train.isnull().sum().values.sum())\n",
        "\n",
        "print(\"\\nInformation about the data: \")\n",
        "print(\"  \\n\", df_train.info())\n",
        " \n",
        "print(\"\\nAbout the data: \\n\")\n",
        "\n",
        "# Check how many unique items are in each column of the dateframe\n",
        "for col_name in df_train.columns:\n",
        "    unique_out = len(df_train[col_name].unique())\n",
        "    print(f\"Feature '{col_name}' has {unique_out} unique categories \\n\") "
      ]
    },
    {
      "cell_type": "code",
      "execution_count": 30,
      "metadata": {
        "colab": {
          "base_uri": "https://localhost:8080/",
          "height": 300
        },
        "id": "J1ezu8ejWY25",
        "outputId": "4f27ad12-1c1f-44d5-f622-4e8144ab4548"
      },
      "outputs": [
        {
          "output_type": "execute_result",
          "data": {
            "text/plain": [
              "                age        balance           day      duration      campaign  \\\n",
              "count  42639.000000   42639.000000  42639.000000  42639.000000  42639.000000   \n",
              "mean      40.788808    1331.863951     15.854781    255.957504      2.816412   \n",
              "std       10.200236    3011.537676      8.293901    258.361368      3.163564   \n",
              "min       18.000000   -8019.000000      1.000000      0.000000      1.000000   \n",
              "25%       33.000000      62.000000      8.000000    101.000000      1.000000   \n",
              "50%       39.000000     429.000000     16.000000    177.000000      2.000000   \n",
              "75%       48.000000    1381.500000     21.000000    315.000000      3.000000   \n",
              "max       95.000000  102127.000000     31.000000   4918.000000     63.000000   \n",
              "\n",
              "              pdays      previous  \n",
              "count  42639.000000  42639.000000  \n",
              "mean      34.169141      0.465442  \n",
              "std       92.041713      2.166705  \n",
              "min       -1.000000      0.000000  \n",
              "25%       -1.000000      0.000000  \n",
              "50%       -1.000000      0.000000  \n",
              "75%       -1.000000      0.000000  \n",
              "max      536.000000    275.000000  "
            ],
            "text/html": [
              "\n",
              "  <div id=\"df-954d13fe-1892-4497-8922-5c99cce2063c\">\n",
              "    <div class=\"colab-df-container\">\n",
              "      <div>\n",
              "<style scoped>\n",
              "    .dataframe tbody tr th:only-of-type {\n",
              "        vertical-align: middle;\n",
              "    }\n",
              "\n",
              "    .dataframe tbody tr th {\n",
              "        vertical-align: top;\n",
              "    }\n",
              "\n",
              "    .dataframe thead th {\n",
              "        text-align: right;\n",
              "    }\n",
              "</style>\n",
              "<table border=\"1\" class=\"dataframe\">\n",
              "  <thead>\n",
              "    <tr style=\"text-align: right;\">\n",
              "      <th></th>\n",
              "      <th>age</th>\n",
              "      <th>balance</th>\n",
              "      <th>day</th>\n",
              "      <th>duration</th>\n",
              "      <th>campaign</th>\n",
              "      <th>pdays</th>\n",
              "      <th>previous</th>\n",
              "    </tr>\n",
              "  </thead>\n",
              "  <tbody>\n",
              "    <tr>\n",
              "      <th>count</th>\n",
              "      <td>42639.000000</td>\n",
              "      <td>42639.000000</td>\n",
              "      <td>42639.000000</td>\n",
              "      <td>42639.000000</td>\n",
              "      <td>42639.000000</td>\n",
              "      <td>42639.000000</td>\n",
              "      <td>42639.000000</td>\n",
              "    </tr>\n",
              "    <tr>\n",
              "      <th>mean</th>\n",
              "      <td>40.788808</td>\n",
              "      <td>1331.863951</td>\n",
              "      <td>15.854781</td>\n",
              "      <td>255.957504</td>\n",
              "      <td>2.816412</td>\n",
              "      <td>34.169141</td>\n",
              "      <td>0.465442</td>\n",
              "    </tr>\n",
              "    <tr>\n",
              "      <th>std</th>\n",
              "      <td>10.200236</td>\n",
              "      <td>3011.537676</td>\n",
              "      <td>8.293901</td>\n",
              "      <td>258.361368</td>\n",
              "      <td>3.163564</td>\n",
              "      <td>92.041713</td>\n",
              "      <td>2.166705</td>\n",
              "    </tr>\n",
              "    <tr>\n",
              "      <th>min</th>\n",
              "      <td>18.000000</td>\n",
              "      <td>-8019.000000</td>\n",
              "      <td>1.000000</td>\n",
              "      <td>0.000000</td>\n",
              "      <td>1.000000</td>\n",
              "      <td>-1.000000</td>\n",
              "      <td>0.000000</td>\n",
              "    </tr>\n",
              "    <tr>\n",
              "      <th>25%</th>\n",
              "      <td>33.000000</td>\n",
              "      <td>62.000000</td>\n",
              "      <td>8.000000</td>\n",
              "      <td>101.000000</td>\n",
              "      <td>1.000000</td>\n",
              "      <td>-1.000000</td>\n",
              "      <td>0.000000</td>\n",
              "    </tr>\n",
              "    <tr>\n",
              "      <th>50%</th>\n",
              "      <td>39.000000</td>\n",
              "      <td>429.000000</td>\n",
              "      <td>16.000000</td>\n",
              "      <td>177.000000</td>\n",
              "      <td>2.000000</td>\n",
              "      <td>-1.000000</td>\n",
              "      <td>0.000000</td>\n",
              "    </tr>\n",
              "    <tr>\n",
              "      <th>75%</th>\n",
              "      <td>48.000000</td>\n",
              "      <td>1381.500000</td>\n",
              "      <td>21.000000</td>\n",
              "      <td>315.000000</td>\n",
              "      <td>3.000000</td>\n",
              "      <td>-1.000000</td>\n",
              "      <td>0.000000</td>\n",
              "    </tr>\n",
              "    <tr>\n",
              "      <th>max</th>\n",
              "      <td>95.000000</td>\n",
              "      <td>102127.000000</td>\n",
              "      <td>31.000000</td>\n",
              "      <td>4918.000000</td>\n",
              "      <td>63.000000</td>\n",
              "      <td>536.000000</td>\n",
              "      <td>275.000000</td>\n",
              "    </tr>\n",
              "  </tbody>\n",
              "</table>\n",
              "</div>\n",
              "      <button class=\"colab-df-convert\" onclick=\"convertToInteractive('df-954d13fe-1892-4497-8922-5c99cce2063c')\"\n",
              "              title=\"Convert this dataframe to an interactive table.\"\n",
              "              style=\"display:none;\">\n",
              "        \n",
              "  <svg xmlns=\"http://www.w3.org/2000/svg\" height=\"24px\"viewBox=\"0 0 24 24\"\n",
              "       width=\"24px\">\n",
              "    <path d=\"M0 0h24v24H0V0z\" fill=\"none\"/>\n",
              "    <path d=\"M18.56 5.44l.94 2.06.94-2.06 2.06-.94-2.06-.94-.94-2.06-.94 2.06-2.06.94zm-11 1L8.5 8.5l.94-2.06 2.06-.94-2.06-.94L8.5 2.5l-.94 2.06-2.06.94zm10 10l.94 2.06.94-2.06 2.06-.94-2.06-.94-.94-2.06-.94 2.06-2.06.94z\"/><path d=\"M17.41 7.96l-1.37-1.37c-.4-.4-.92-.59-1.43-.59-.52 0-1.04.2-1.43.59L10.3 9.45l-7.72 7.72c-.78.78-.78 2.05 0 2.83L4 21.41c.39.39.9.59 1.41.59.51 0 1.02-.2 1.41-.59l7.78-7.78 2.81-2.81c.8-.78.8-2.07 0-2.86zM5.41 20L4 18.59l7.72-7.72 1.47 1.35L5.41 20z\"/>\n",
              "  </svg>\n",
              "      </button>\n",
              "      \n",
              "  <style>\n",
              "    .colab-df-container {\n",
              "      display:flex;\n",
              "      flex-wrap:wrap;\n",
              "      gap: 12px;\n",
              "    }\n",
              "\n",
              "    .colab-df-convert {\n",
              "      background-color: #E8F0FE;\n",
              "      border: none;\n",
              "      border-radius: 50%;\n",
              "      cursor: pointer;\n",
              "      display: none;\n",
              "      fill: #1967D2;\n",
              "      height: 32px;\n",
              "      padding: 0 0 0 0;\n",
              "      width: 32px;\n",
              "    }\n",
              "\n",
              "    .colab-df-convert:hover {\n",
              "      background-color: #E2EBFA;\n",
              "      box-shadow: 0px 1px 2px rgba(60, 64, 67, 0.3), 0px 1px 3px 1px rgba(60, 64, 67, 0.15);\n",
              "      fill: #174EA6;\n",
              "    }\n",
              "\n",
              "    [theme=dark] .colab-df-convert {\n",
              "      background-color: #3B4455;\n",
              "      fill: #D2E3FC;\n",
              "    }\n",
              "\n",
              "    [theme=dark] .colab-df-convert:hover {\n",
              "      background-color: #434B5C;\n",
              "      box-shadow: 0px 1px 3px 1px rgba(0, 0, 0, 0.15);\n",
              "      filter: drop-shadow(0px 1px 2px rgba(0, 0, 0, 0.3));\n",
              "      fill: #FFFFFF;\n",
              "    }\n",
              "  </style>\n",
              "\n",
              "      <script>\n",
              "        const buttonEl =\n",
              "          document.querySelector('#df-954d13fe-1892-4497-8922-5c99cce2063c button.colab-df-convert');\n",
              "        buttonEl.style.display =\n",
              "          google.colab.kernel.accessAllowed ? 'block' : 'none';\n",
              "\n",
              "        async function convertToInteractive(key) {\n",
              "          const element = document.querySelector('#df-954d13fe-1892-4497-8922-5c99cce2063c');\n",
              "          const dataTable =\n",
              "            await google.colab.kernel.invokeFunction('convertToInteractive',\n",
              "                                                     [key], {});\n",
              "          if (!dataTable) return;\n",
              "\n",
              "          const docLinkHtml = 'Like what you see? Visit the ' +\n",
              "            '<a target=\"_blank\" href=https://colab.research.google.com/notebooks/data_table.ipynb>data table notebook</a>'\n",
              "            + ' to learn more about interactive tables.';\n",
              "          element.innerHTML = '';\n",
              "          dataTable['output_type'] = 'display_data';\n",
              "          await google.colab.output.renderOutput(dataTable, element);\n",
              "          const docLink = document.createElement('div');\n",
              "          docLink.innerHTML = docLinkHtml;\n",
              "          element.appendChild(docLink);\n",
              "        }\n",
              "      </script>\n",
              "    </div>\n",
              "  </div>\n",
              "  "
            ]
          },
          "metadata": {},
          "execution_count": 30
        }
      ],
      "source": [
        "df_train.describe()"
      ]
    },
    {
      "cell_type": "markdown",
      "metadata": {
        "id": "EX32R3qddf34"
      },
      "source": [
        "<a id=\"cleaning\"></a>\n",
        "## 3. **Data Preprocessing**"
      ]
    },
    {
      "cell_type": "markdown",
      "metadata": {
        "id": "Wuxnoj58dkzn"
      },
      "source": [
        "<a id=\"EDA\"></a>\n",
        "## 4. **Exploratory Data Analysis**"
      ]
    },
    {
      "cell_type": "code",
      "execution_count": null,
      "metadata": {
        "id": "ZtHWm2S2aLgB"
      },
      "outputs": [],
      "source": [
        "import plotly.express as px\n",
        "import plotly.graph_objects as go\n",
        "\n",
        "labels = ['yes','no']\n",
        "values = [df_train[df_train['term_deposit'] == 'yes'].shape[0] , df_train[df_train['term_deposit'] == 'no'].shape[0]]\n",
        "\n",
        "# Use `hole` to create a donut-like pie chart\n",
        "fig = go.Figure(data=[go.Pie(labels=labels, values=values, hole=.3)])\n",
        "fig.show()"
      ]
    },
    {
      "cell_type": "markdown",
      "metadata": {
        "id": "P3Q7QDatpu6F"
      },
      "source": [
        "- The data is not evenly classified. We see that not many people subscribe to the term deposit."
      ]
    },
    {
      "cell_type": "code",
      "execution_count": 32,
      "metadata": {
        "colab": {
          "base_uri": "https://localhost:8080/",
          "height": 639
        },
        "id": "rGs1NMEedlxP",
        "outputId": "1ebc75bb-776b-4bba-acec-a28b2818fdf6"
      },
      "outputs": [
        {
          "output_type": "display_data",
          "data": {
            "text/plain": [
              "<Figure size 2160x1152 with 1 Axes>"
            ],
            "image/png": "[encoded data removed]"
          },
          "metadata": {
            "needs_background": "light"
          }
        }
      ],
      "source": [
        "fig, ax = plt.subplots(1, 1, figsize=(30, 16))\n",
        "\n",
        "sns.countplot(x = 'age', data = df_train, hue = \"term_deposit\", palette =  ['#4A4A4A','#ABABAB'])\n",
        "\n",
        "plt.title(\"Job distribution\");\n",
        "\n",
        "plt.title(\"Distribution of the Age\");"
      ]
    },
    {
      "cell_type": "markdown",
      "metadata": {
        "id": "QiJ8fcwLt0MH"
      },
      "source": [
        "- It is clear that no so many people subscribe to term deposit especially the abouve 6o group and the one below 25. Hence it is clear that the campaign should shift its focus to only people from the age of 25 upto 60."
      ]
    },
    {
      "cell_type": "code",
      "execution_count": 33,
      "metadata": {
        "id": "Ksg7mepqt0MI",
        "outputId": "b41ef92e-f08f-4ddc-ffb8-31e0f1135867",
        "colab": {
          "base_uri": "https://localhost:8080/"
        }
      },
      "outputs": [
        {
          "output_type": "execute_result",
          "data": {
            "text/plain": [
              "Index(['age', 'job', 'marital', 'education', 'default', 'balance', 'housing',\n",
              "       'loan', 'contact', 'day', 'month', 'duration', 'campaign', 'pdays',\n",
              "       'previous', 'poutcome', 'term_deposit'],\n",
              "      dtype='object')"
            ]
          },
          "metadata": {},
          "execution_count": 33
        }
      ],
      "source": [
        "df_train.columns"
      ]
    },
    {
      "cell_type": "code",
      "execution_count": 34,
      "metadata": {
        "scrolled": true,
        "id": "7jOqf65kt0MI",
        "outputId": "235a1108-c578-493a-fb60-c9eb60ddfe49",
        "colab": {
          "base_uri": "https://localhost:8080/",
          "height": 514
        }
      },
      "outputs": [
        {
          "output_type": "execute_result",
          "data": {
            "text/plain": [
              "<matplotlib.axes._subplots.AxesSubplot at 0x7f1415c8b0d0>"
            ]
          },
          "metadata": {},
          "execution_count": 34
        },
        {
          "output_type": "display_data",
          "data": {
            "text/plain": [
              "<Figure size 1152x576 with 6 Axes>"
            ],
            "image/png": "[encoded data removed]"
          },
          "metadata": {
            "needs_background": "light"
          }
        }
      ],
      "source": [
        "fig, ax = plt.subplots(2, 3, figsize=(16, 8))\n",
        "\n",
        "sns.countplot(x = 'default', data = df_train, hue = \"term_deposit\", palette = ['#4A4A4A','#ABABAB'], ax = ax[0,0])\n",
        "sns.countplot(x = 'marital', data = df_train, hue = \"term_deposit\", palette =  ['#4A4A4A','#ABABAB'], ax = ax[0,1])\n",
        "sns.countplot(x = 'education', data = df_train, hue = \"term_deposit\",palette =  ['#4A4A4A','#ABABAB'], ax = ax[0,2])\n",
        "sns.countplot(x = 'contact', data = df_train, hue = \"term_deposit\", palette =  ['#4A4A4A','#ABABAB'], ax = ax[1,0])\n",
        "sns.countplot(x = 'housing', data = df_train, hue = \"term_deposit\", palette =  ['#4A4A4A','#ABABAB'], ax = ax[1,1])\n",
        "sns.countplot(x = 'loan', data = df_train, hue = \"term_deposit\",palette =  ['#4A4A4A','#ABABAB'], ax = ax[1,2])"
      ]
    },
    {
      "cell_type": "markdown",
      "metadata": {
        "id": "395E8xnOt0MJ"
      },
      "source": [
        "**Observations**\n",
        "\n",
        "- People who have defaulted are not likely to subscribe to term deposit. These already can't pay their debt so, they are not likely to have money to save.\n",
        "- People who are likey to subscribe to term deposit are married and single. \n",
        "- People with tertiary and secondary education are most likey to subscibe than the other group.\n",
        "- People contacted by cellular are likey to subscribe, this may suggest that they are working, hence can't be reached by landline.\n",
        "- People with housing loan should both be reached. Even though the ones with no housing are more liey to subscribe than those with the housing loan, but they do subscribe. This is because, a housing long is a long term loan, hence one can also subscribe to term deposit.\n",
        "- People with a personal loan are less likrly to subscribe, this is because they already have a loan, so instead of saving, they may choose to pay the loan."
      ]
    },
    {
      "cell_type": "code",
      "execution_count": 35,
      "metadata": {
        "scrolled": true,
        "id": "dNnH4Lm1t0MK",
        "outputId": "116dbf86-72fd-469c-bbd9-d57bba1e3b31",
        "colab": {
          "base_uri": "https://localhost:8080/",
          "height": 513
        }
      },
      "outputs": [
        {
          "output_type": "display_data",
          "data": {
            "text/plain": [
              "<Figure size 1080x576 with 1 Axes>"
            ],
            "image/png": "[encoded data removed]"
          },
          "metadata": {
            "needs_background": "light"
          }
        }
      ],
      "source": [
        "fig, ax = plt.subplots(1, 1, figsize=(15, 8))\n",
        "\n",
        "sns.countplot(x = 'job', data = df_train, hue = \"term_deposit\", palette =  ['#4A4A4A','#ABABAB'])\n",
        "\n",
        "plt.title(\"Job distribution\");"
      ]
    },
    {
      "cell_type": "markdown",
      "metadata": {
        "id": "UziSmWWzt0MK"
      },
      "source": [
        "**Observations**\n",
        "\n",
        "- Maagement, technician, blue-collar, admin and services are the most reached, but do not subscribe that much. Some may be having housing loans because they have permanent jobs, hence are less likey to subscribe.\n",
        "- The other groups should be focused on, as they are likely to subscribe."
      ]
    },
    {
      "cell_type": "code",
      "execution_count": 36,
      "metadata": {
        "scrolled": true,
        "id": "FSSGS-2tt0ML",
        "outputId": "34fe7bae-d944-4362-f3d9-8587345240dd",
        "colab": {
          "base_uri": "https://localhost:8080/",
          "height": 513
        }
      },
      "outputs": [
        {
          "output_type": "display_data",
          "data": {
            "text/plain": [
              "<Figure size 720x576 with 1 Axes>"
            ],
            "image/png": "[encoded data removed]"
          },
          "metadata": {
            "needs_background": "light"
          }
        }
      ],
      "source": [
        "fig, ax = plt.subplots(1, 1, figsize=(10, 8))\n",
        "\n",
        "sns.countplot(x = 'poutcome', data = df_train, hue = \"term_deposit\", palette =  ['#4A4A4A','#ABABAB'])\n",
        "\n",
        "plt.title(\"Previous outcome with current campaign results\")\n",
        "plt.show();"
      ]
    },
    {
      "cell_type": "markdown",
      "metadata": {
        "id": "Bz-Y9UaEt0ML"
      },
      "source": [
        "**Observation**\n",
        "\n",
        "- People who had subscribed from the previous campaign were most likely to subscribe. It could be worth keeping those clients. It may be good to give those customers some reward for referring other people to subscribe. Care must be taken to no lose these clients. \n",
        "- It is also not a bad choice to try again with those campaigns that failed. This may be that the client had a personal loan or had other debts.\n",
        "- The unknown campaign results are worth investigating as to what the campaign results are because a lot of these clients do not subscribe to term deposit."
      ]
    },
    {
      "cell_type": "code",
      "execution_count": 38,
      "metadata": {
        "id": "mZSAlM_Ct0ML",
        "outputId": "eecd7ead-0d3b-4bf6-e465-fcd6d505fbfd",
        "colab": {
          "base_uri": "https://localhost:8080/",
          "height": 285
        }
      },
      "outputs": [
        {
          "output_type": "display_data",
          "data": {
            "text/plain": [
              "<Figure size 432x288 with 1 Axes>"
            ],
            "image/png": "[encoded data removed]"
          },
          "metadata": {}
        }
      ],
      "source": [
        "import seaborn as sns\n",
        "sns.set_theme(style=\"whitegrid\")\n",
        "\n",
        "ax = sns.barplot(x = \"poutcome\", y=\"pdays\", data=df_train, hue = 'term_deposit' , palette =  ['#4A4A4A','#ABABAB'])"
      ]
    },
    {
      "cell_type": "markdown",
      "metadata": {
        "id": "qUhQTqJNt0MM"
      },
      "source": [
        "**Observations**\n",
        "\n",
        "- People who have never been contacted before are likey to subscribe or not subscribe to the term deposit product.\n",
        "- people who are contacted less that 150 days having subscribed during the previous campaign are likey to subscribe, this may be due to the fact that they are happy with their term deposit."
      ]
    },
    {
      "cell_type": "code",
      "execution_count": 39,
      "metadata": {
        "id": "nSaMJuIot0MM",
        "outputId": "e2b4e785-9fb3-4a6d-896c-8e3a019a67be",
        "colab": {
          "base_uri": "https://localhost:8080/",
          "height": 285
        }
      },
      "outputs": [
        {
          "output_type": "display_data",
          "data": {
            "text/plain": [
              "<Figure size 432x288 with 1 Axes>"
            ],
            "image/png": "[encoded data removed]"
          },
          "metadata": {}
        }
      ],
      "source": [
        "import seaborn as sns\n",
        "sns.set_theme(style=\"whitegrid\")\n",
        "\n",
        "ax = sns.barplot(x = \"poutcome\", y=\"duration\", data=df_train, hue = 'term_deposit' , palette =  ['#4A4A4A','#ABABAB'])"
      ]
    },
    {
      "cell_type": "markdown",
      "metadata": {
        "id": "8PxrC7iut0MN"
      },
      "source": [
        "**Observations**\n",
        "\n",
        "- The duration  of calls are more than 200 seconds.\n",
        "- We the unknown previous campaign outcome needs to be investigated, the call duration takes longer than the others for the others by almost 100 seconds for the clients who subscribed."
      ]
    },
    {
      "cell_type": "code",
      "execution_count": 40,
      "metadata": {
        "id": "fOHGGXKet0MN",
        "outputId": "365fe8b5-64db-410d-cca9-852a73deed41",
        "colab": {
          "base_uri": "https://localhost:8080/",
          "height": 518
        }
      },
      "outputs": [
        {
          "output_type": "display_data",
          "data": {
            "text/plain": [
              "<Figure size 1080x576 with 1 Axes>"
            ],
            "image/png": "[encoded data removed]"
          },
          "metadata": {}
        }
      ],
      "source": [
        "fig, ax = plt.subplots(1, 1, figsize=(15, 8))\n",
        "\n",
        "sns.countplot(x = 'previous', data = df_train, hue = \"term_deposit\", palette =  ['#4A4A4A','#ABABAB'])\n",
        "\n",
        "plt.title(\"Previous contacts with current campaign results\")\n",
        "plt.show();"
      ]
    },
    {
      "cell_type": "markdown",
      "metadata": {
        "id": "bqYR2x1jt0MN"
      },
      "source": [
        "**Observations**\n",
        "\n",
        "- Most people who have subscribed were never contacted before. It is likey that these are the ones who already have accepted in the previous campaigns."
      ]
    },
    {
      "cell_type": "code",
      "execution_count": 41,
      "metadata": {
        "id": "pN2QFIxMt0MO",
        "outputId": "3b109acc-d841-45d7-e5f8-049a4f066169",
        "colab": {
          "base_uri": "https://localhost:8080/",
          "height": 518
        }
      },
      "outputs": [
        {
          "output_type": "display_data",
          "data": {
            "text/plain": [
              "<Figure size 1080x576 with 1 Axes>"
            ],
            "image/png": "[encoded data removed]"
          },
          "metadata": {}
        }
      ],
      "source": [
        "fig, ax = plt.subplots(1, 1, figsize=(15, 8))\n",
        "\n",
        "sns.countplot(x = 'campaign', data = df_train, hue = \"term_deposit\", palette =  ['#4A4A4A','#ABABAB'])\n",
        "\n",
        "plt.title(\"Number of contacts for current campaign with current campaign results\")\n",
        "plt.show();"
      ]
    },
    {
      "cell_type": "code",
      "execution_count": 42,
      "metadata": {
        "scrolled": false,
        "id": "gl6gOdkFt0MQ",
        "outputId": "1b983c0e-540a-43da-ae60-7612c7ae05a0",
        "colab": {
          "base_uri": "https://localhost:8080/",
          "height": 518
        }
      },
      "outputs": [
        {
          "output_type": "display_data",
          "data": {
            "text/plain": [
              "<Figure size 864x576 with 1 Axes>"
            ],
            "image/png": "[encoded data removed]"
          },
          "metadata": {}
        }
      ],
      "source": [
        "plt.figure(figsize=(12,8))\n",
        "sns.lineplot(data = df_train, x = \"month\", y = \"duration\", alpha=0.8, sizes=(40,200))\n",
        "\n",
        "plt.title(\"Duration vs. month\")\n",
        "plt.show()"
      ]
    },
    {
      "cell_type": "code",
      "execution_count": 43,
      "metadata": {
        "id": "TGGvG0GXt0MR",
        "outputId": "a583791a-3c8a-4af7-a58e-b53463cf8cad",
        "colab": {
          "base_uri": "https://localhost:8080/",
          "height": 518
        }
      },
      "outputs": [
        {
          "output_type": "display_data",
          "data": {
            "text/plain": [
              "<Figure size 864x576 with 1 Axes>"
            ],
            "image/png": "[encoded data removed]"
          },
          "metadata": {}
        }
      ],
      "source": [
        "plt.figure(figsize=(12,8))\n",
        "sns.lineplot(data = df_train, x = \"day\", y = \"duration\", alpha=0.8, sizes=(40,200))\n",
        "plt.title(\"duration vs. day of the month\")\n",
        "plt.show()"
      ]
    },
    {
      "cell_type": "markdown",
      "metadata": {
        "id": "Gi9LBolpdmbK"
      },
      "source": [
        "<a id=\"features\"></a>\n",
        "## 5. **Feature engineering And Selection**"
      ]
    },
    {
      "cell_type": "code",
      "execution_count": 9,
      "metadata": {
        "colab": {
          "base_uri": "https://localhost:8080/"
        },
        "id": "t6pyTnA_t0MV",
        "outputId": "05078419-55e1-4e5c-c390-eeb02c9f20b0"
      },
      "outputs": [
        {
          "output_type": "execute_result",
          "data": {
            "text/plain": [
              "no     38678\n",
              "yes     3961\n",
              "Name: term_deposit, dtype: int64"
            ]
          },
          "metadata": {},
          "execution_count": 9
        }
      ],
      "source": [
        "df_train.term_deposit.value_counts()"
      ]
    },
    {
      "cell_type": "markdown",
      "metadata": {
        "id": "QVuNPgeJt0MV"
      },
      "source": [
        "### **Data Imbalance**"
      ]
    },
    {
      "cell_type": "markdown",
      "metadata": {
        "id": "JJvm69mMt0MV"
      },
      "source": [
        "- We see that the data is not balanced interms of class representation, but if:\n",
        "    - We upsample, we risk overfitting because a lot of data will be repeated.\n",
        "    - We downsample, we risk losing a lot of valuable information.\n",
        "    - We don't balance the data, we risk a model being biased towards the overly represented class.\n",
        "    \n",
        "Hence we work with the data as is, we choose to have valuable information over losing it or introducing uncertainties."
      ]
    },
    {
      "cell_type": "markdown",
      "metadata": {
        "id": "lZcDuHOCt0MV"
      },
      "source": [
        "### **Categorical data encoding**"
      ]
    },
    {
      "cell_type": "markdown",
      "metadata": {
        "id": "Jbw6jPtAt0MW"
      },
      "source": [
        "#### **Label Encoder**"
      ]
    },
    {
      "cell_type": "markdown",
      "metadata": {
        "id": "V_J1LK7Yt0MW"
      },
      "source": [
        "Encode categorical features as a one-hot numeric array. LabelEncoder can be used to normalize labels. It can also be used to transform non-numerical labels (as long as they are hashable and comparable) to numerical labels."
      ]
    },
    {
      "cell_type": "code",
      "execution_count": 10,
      "metadata": {
        "id": "TOW9YpxUfQXC"
      },
      "outputs": [],
      "source": [
        "def label_transform(x):\n",
        "    \"\"\"takes a categorical variable and encode it to numerical variable\n",
        "    input: column (cat)\n",
        "    output: column(numeric) \"\"\"\n",
        "    \n",
        "    # instantiate encoder\n",
        "    le = LabelEncoder()\n",
        "    \n",
        "    #fit_tranform\n",
        "    encoded_data = le.fit_transform(x)\n",
        "    \n",
        "    return encoded_data"
      ]
    },
    {
      "cell_type": "code",
      "execution_count": 11,
      "metadata": {
        "id": "-z_Db92nt0MW"
      },
      "outputs": [],
      "source": [
        "my_dict = {'yes': 1, 'no' : 0}\n",
        "\n",
        "df_train['term_deposit'] = df_train['term_deposit'].replace(my_dict)"
      ]
    },
    {
      "cell_type": "code",
      "execution_count": 12,
      "metadata": {
        "id": "_uwb9oE9t0MX"
      },
      "outputs": [],
      "source": [
        "# categorical labels\n",
        "cat_cols = ['job','marital','education','default','housing','loan','contact','month','poutcome']\n",
        "\n",
        "df_encode = df_train.copy()\n",
        "#looping through each column\n",
        "for i in cat_cols:\n",
        "    \n",
        "    # fit and trasform each column\n",
        "    df_encode[i] = label_transform(df_encode[i])"
      ]
    },
    {
      "cell_type": "markdown",
      "metadata": {
        "id": "oZhzNtMEt0MX"
      },
      "source": [
        "#### **Dummy Variable Encoding**"
      ]
    },
    {
      "cell_type": "markdown",
      "metadata": {
        "id": "ptAlHvdpt0MX"
      },
      "source": [
        "Dummies are any variables that are either one or zero for each observation. pd.get_dummies when applied to a column of categories where we have one category per observation will produce a new column (variable) for each unique categorical value. It will place a one in the column corresponding to the categorical value present for that observation. This is equivalent to one hot encoding."
      ]
    },
    {
      "cell_type": "code",
      "execution_count": 13,
      "metadata": {
        "id": "o0iYqAEct0MY"
      },
      "outputs": [],
      "source": [
        "# training data\n",
        "df_train_dummies = df_train.copy()\n",
        "df_train_dummies = pd.get_dummies(df_train, drop_first = True)"
      ]
    },
    {
      "cell_type": "markdown",
      "metadata": {
        "id": "DABp_P4Ut0MY"
      },
      "source": [
        "### **Feature Scaling data encoding**"
      ]
    },
    {
      "cell_type": "markdown",
      "metadata": {
        "id": "BEenuHTBt0MY"
      },
      "source": [
        "StandardScaler removes the mean and scales the data to the unit variance. However, outliers have an influence when calculating the empirical mean and standard deviation, which narrows the range of characteristic values"
      ]
    },
    {
      "cell_type": "code",
      "execution_count": 14,
      "metadata": {
        "id": "2Z_LYTM1t0MZ"
      },
      "outputs": [],
      "source": [
        "# Instantiate scaler\n",
        "scaler = StandardScaler()\n",
        "\n",
        "# df encode\n",
        "df_encode[['age','balance','campaign','pdays','previous']] = scaler.fit_transform(df_encode[['age','balance','campaign','pdays','previous']])\n",
        "\n",
        "# df dummies\n",
        "df_train_dummies[['age','balance','campaign','pdays','previous']] = scaler.fit_transform(df_train_dummies[['age','balance','campaign','pdays','previous']])"
      ]
    },
    {
      "cell_type": "markdown",
      "metadata": {
        "id": "lGEmgV4Bt0MZ"
      },
      "source": [
        "### Taking care of the imbalance\n",
        "\n",
        "SMOTE: Synthetic Minority Oversampling Technique\n",
        "SMOTE is an oversampling technique where the synthetic samples are generated for the minority class. This algorithm helps to overcome the overfitting problem posed by random oversampling.\n",
        "\n",
        "SMOTE first selects a minority class instance a at random and finds its k nearest minority class neighbors. The synthetic instance is then created by choosing one of the k nearest neighbors b at random and connecting a and b to form a line segment in the feature space. The synthetic instances are generated as a convex combination of the two chosen instances a and b"
      ]
    },
    {
      "cell_type": "code",
      "execution_count": 15,
      "metadata": {
        "id": "FSvS8NJst0Ma"
      },
      "outputs": [],
      "source": [
        "# X and y df encode\n",
        "\n",
        "X = df_encode.drop('term_deposit', axis = 1)\n",
        "\n",
        "y = df_encode['term_deposit']"
      ]
    },
    {
      "cell_type": "code",
      "execution_count": 16,
      "metadata": {
        "id": "Sr7OXpfQt0Ma"
      },
      "outputs": [],
      "source": [
        "# X and y df get dummies\n",
        "\n",
        "X_d = df_train_dummies.drop('term_deposit', axis = 1)\n",
        "\n",
        "y_d = df_train_dummies['term_deposit']"
      ]
    },
    {
      "cell_type": "code",
      "execution_count": 17,
      "metadata": {
        "colab": {
          "base_uri": "https://localhost:8080/",
          "height": 313
        },
        "id": "KQ8skvftt0Mb",
        "outputId": "75a643db-23ab-4d95-8a41-89b00978bd3a"
      },
      "outputs": [
        {
          "output_type": "execute_result",
          "data": {
            "text/plain": [
              "Text(0, 0.5, 'Frequency')"
            ]
          },
          "metadata": {},
          "execution_count": 17
        },
        {
          "output_type": "display_data",
          "data": {
            "text/plain": [
              "<Figure size 432x288 with 1 Axes>"
            ],
            "image/png": "[encoded data removed]"
          },
          "metadata": {
            "needs_background": "light"
          }
        }
      ],
      "source": [
        "# bargraph displaying the imbalance\n",
        "count_classes = pd.value_counts(df_encode['term_deposit'], sort = True)\n",
        "count_classes.plot(kind = 'bar', rot=0, color = ['#4A4A4A','#ABABAB'])\n",
        "plt.title(\"term_deposit Distribution\")\n",
        "plt.xticks(range(2), df_encode.term_deposit.value_counts().keys())\n",
        "plt.xlabel(\"term_deposit\")\n",
        "plt.ylabel(\"Frequency\")"
      ]
    },
    {
      "cell_type": "code",
      "execution_count": 18,
      "metadata": {
        "id": "B-0_U_SOt0Mc"
      },
      "outputs": [],
      "source": [
        "from imblearn.combine import SMOTETomek\n",
        "from imblearn.under_sampling import NearMiss\n",
        "\n",
        "# Implementing Oversampling for Handling Imbalanced \n",
        "smk = SMOTETomek(random_state=42)\n",
        "\n",
        "X_res,y_res = smk.fit_resample(X,y)\n"
      ]
    },
    {
      "cell_type": "code",
      "source": [
        "y_res.value_counts()"
      ],
      "metadata": {
        "colab": {
          "base_uri": "https://localhost:8080/"
        },
        "id": "xvXDj0Wvv1X-",
        "outputId": "bc77a3f3-6bb3-4b45-f17d-8472400e2f29"
      },
      "execution_count": 19,
      "outputs": [
        {
          "output_type": "execute_result",
          "data": {
            "text/plain": [
              "0    38557\n",
              "1    38557\n",
              "Name: term_deposit, dtype: int64"
            ]
          },
          "metadata": {},
          "execution_count": 19
        }
      ]
    },
    {
      "cell_type": "code",
      "execution_count": 20,
      "metadata": {
        "id": "hahqu1UWt0Mc"
      },
      "outputs": [],
      "source": [
        "# Implementing Oversampling for Handling Imbalanced \n",
        "smk = SMOTETomek(random_state=42)\n",
        "X_res_d,y_res_d=smk.fit_resample(X_d, y_d)"
      ]
    },
    {
      "cell_type": "code",
      "source": [
        "y_res_d.value_counts()"
      ],
      "metadata": {
        "colab": {
          "base_uri": "https://localhost:8080/"
        },
        "id": "qTOpaVc3v6JT",
        "outputId": "574ca425-c2bc-4e31-e5da-136d2bbd66a3"
      },
      "execution_count": 21,
      "outputs": [
        {
          "output_type": "execute_result",
          "data": {
            "text/plain": [
              "0    38619\n",
              "1    38619\n",
              "Name: term_deposit, dtype: int64"
            ]
          },
          "metadata": {},
          "execution_count": 21
        }
      ]
    },
    {
      "cell_type": "code",
      "source": [
        "# bargraph displaying the balanced data\n",
        "count_classes = y_res_d.value_counts()\n",
        "count_classes.plot(kind = 'bar', rot=0, color = ['#4A4A4A','#ABABAB'])\n",
        "plt.title(\"term_deposit Distribution\")\n",
        "plt.xticks(range(2), df_encode.term_deposit.value_counts().keys())\n",
        "plt.xlabel(\"term_deposit\")\n",
        "plt.ylabel(\"Frequency\")"
      ],
      "metadata": {
        "colab": {
          "base_uri": "https://localhost:8080/",
          "height": 313
        },
        "id": "kbkwwXWO1IjO",
        "outputId": "cf56cb2f-6717-4393-f165-c70e5f4e656d"
      },
      "execution_count": 23,
      "outputs": [
        {
          "output_type": "execute_result",
          "data": {
            "text/plain": [
              "Text(0, 0.5, 'Frequency')"
            ]
          },
          "metadata": {},
          "execution_count": 23
        },
        {
          "output_type": "display_data",
          "data": {
            "text/plain": [
              "<Figure size 432x288 with 1 Axes>"
            ],
            "image/png": "[encoded data removed]"
          },
          "metadata": {
            "needs_background": "light"
          }
        }
      ]
    },
    {
      "cell_type": "markdown",
      "metadata": {
        "id": "V0pwZoyQdtno"
      },
      "source": [
        "<a id=\"model\"></a>\n",
        "## 6. **Model Building And Evaluation**"
      ]
    },
    {
      "cell_type": "code",
      "execution_count": 24,
      "metadata": {
        "id": "zj_-lH2ntejh"
      },
      "outputs": [],
      "source": [
        "# splitting data for training and testing\n",
        "\n",
        "X_train, X_test, y_train, y_test = train_test_split(X_res, y_res, test_size = 0.30, random_state = 42)\n",
        "\n"
      ]
    },
    {
      "cell_type": "code",
      "execution_count": 25,
      "metadata": {
        "id": "N0d139bUzCKH"
      },
      "outputs": [],
      "source": [
        "# splitting data for training and testing\n",
        "\n",
        "X_train_d, X_test_d, y_train_d, y_test_d = train_test_split(X_res_d, y_res_d, test_size = 0.30, random_state = 42)"
      ]
    },
    {
      "cell_type": "code",
      "source": [
        ""
      ],
      "metadata": {
        "id": "8e-80Fs3wxkS"
      },
      "execution_count": null,
      "outputs": []
    },
    {
      "cell_type": "markdown",
      "source": [
        "**Logistic Function**\n",
        "\n",
        "Logistic regression is named for the function used at the core of the method, the logistic function.\n",
        "\n",
        "The logistic function, also called the sigmoid function was developed by statisticians to describe properties of population growth in ecology, rising quickly and maxing out at the carrying capacity of the environment. It’s an S-shaped curve that can take any real-valued number and map it into a value between 0 and 1, but never exactly at those limits.\n",
        "\n",
        "1 / (1 + e^-value)\n",
        "\n",
        "Where e is the base of the natural logarithms (Euler’s number or the EXP() function in your spreadsheet) and value is the actual numerical value that you want to transform. Below is a plot of the numbers between -5 and 5 transformed into the range 0 and 1 using the logistic function.\n",
        "\n",
        "Logistic Function"
      ],
      "metadata": {
        "id": "i4NiDrVGBTtG"
      }
    },
    {
      "cell_type": "code",
      "source": [
        "from sklearn.linear_model import LogisticRegression\n",
        " \n",
        "\n",
        "lr = LogisticRegression().fit(X, y)\n",
        "\n",
        "lr_d = LogisticRegression().fit(X_d, y_d)\n",
        "                                             \n",
        "yt_preds = lr.predict(X_test)\n",
        "\n",
        "yt_preds_d = lr_d.predict(X_test_d)\n",
        "\n",
        "from sklearn.metrics import classification_report\n",
        "print(\"classification report for Label Encoded\") \n",
        "print(classification_report(y_test, yt_preds))\n",
        "\n",
        "\n",
        "from sklearn.metrics import classification_report\n",
        "print(\"classification report for get_dummies\") \n",
        "print(classification_report(y_test, yt_preds))"
      ],
      "metadata": {
        "id": "KvMtNA8LxVog",
        "colab": {
          "base_uri": "https://localhost:8080/"
        },
        "outputId": "ac460e27-57b3-422a-ed20-03151ec6284c"
      },
      "execution_count": 31,
      "outputs": [
        {
          "output_type": "stream",
          "name": "stdout",
          "text": [
            "classification report for Label Encoded\n",
            "              precision    recall  f1-score   support\n",
            "\n",
            "           0       0.57      0.99      0.72     11535\n",
            "           1       0.95      0.26      0.40     11600\n",
            "\n",
            "    accuracy                           0.62     23135\n",
            "   macro avg       0.76      0.62      0.56     23135\n",
            "weighted avg       0.76      0.62      0.56     23135\n",
            "\n",
            "classification report for get_dummies\n",
            "              precision    recall  f1-score   support\n",
            "\n",
            "           0       0.57      0.99      0.72     11535\n",
            "           1       0.95      0.26      0.40     11600\n",
            "\n",
            "    accuracy                           0.62     23135\n",
            "   macro avg       0.76      0.62      0.56     23135\n",
            "weighted avg       0.76      0.62      0.56     23135\n",
            "\n"
          ]
        }
      ]
    },
    {
      "cell_type": "code",
      "source": [
        "from sklearn.metrics import confusion_matrix\n",
        "cnf_matrix = confusion_matrix(y_test, yt_preds)\n",
        "np.set_printoptions(precision=2)\n",
        "cnf_matrix"
      ],
      "metadata": {
        "colab": {
          "base_uri": "https://localhost:8080/"
        },
        "id": "0JX6mbT65riD",
        "outputId": "838be124-c3ab-4845-9985-b8c27f32ac15"
      },
      "execution_count": 32,
      "outputs": [
        {
          "output_type": "execute_result",
          "data": {
            "text/plain": [
              "array([[11369,   166],\n",
              "       [ 8631,  2969]])"
            ]
          },
          "metadata": {},
          "execution_count": 32
        }
      ]
    },
    {
      "cell_type": "markdown",
      "metadata": {
        "id": "STHbppIG2gXN"
      },
      "source": [
        "**GradientBoostingClassifier**\n",
        "\n",
        "Gradient-boosted trees (GBTs) are a popular classification and regression method using ensembles of decision trees. A decision tree is a decision support tool that uses a tree-like model of decisions and their possible consequences, including chance event outcomes, resource costs, and utility.\n",
        "Gradient boosting is a machine learning technique used in regression and classification tasks, among others. It gives a prediction model in the form of an ensemble of weak prediction models, which are typically decision trees.When a decision tree is the weak learner, the resulting algorithm is called gradient-boosted trees."
      ]
    },
    {
      "cell_type": "code",
      "execution_count": 42,
      "metadata": {
        "id": "gAfE4w7e2fSi",
        "colab": {
          "base_uri": "https://localhost:8080/"
        },
        "outputId": "e7582373-5851-42ca-c7eb-ab59794eb7ea"
      },
      "outputs": [
        {
          "output_type": "stream",
          "name": "stdout",
          "text": [
            "classification report for Label Encoded\n",
            "              precision    recall  f1-score   support\n",
            "\n",
            "           0       0.94      0.95      0.95     11535\n",
            "           1       0.95      0.94      0.95     11600\n",
            "\n",
            "    accuracy                           0.95     23135\n",
            "   macro avg       0.95      0.95      0.95     23135\n",
            "weighted avg       0.95      0.95      0.95     23135\n",
            "\n",
            "classification report for get_dummies\n",
            "              precision    recall  f1-score   support\n",
            "\n",
            "           0       0.94      0.95      0.95     11569\n",
            "           1       0.95      0.94      0.95     11603\n",
            "\n",
            "    accuracy                           0.95     23172\n",
            "   macro avg       0.95      0.95      0.95     23172\n",
            "weighted avg       0.95      0.95      0.95     23172\n",
            "\n",
            "Confusion Matrix\n",
            "[[10977   592]\n",
            " [  648 10955]]\n"
          ]
        }
      ],
      "source": [
        "from sklearn.ensemble import GradientBoostingClassifier\n",
        "from sklearn.metrics import f1_score\n",
        "\n",
        "GBC = GradientBoostingClassifier(n_estimators = 200, learning_rate = 1.0, max_depth = 5)\n",
        "GBC.fit(X_train, y_train)\n",
        "\n",
        "GBC_d = GradientBoostingClassifier(n_estimators = 200, learning_rate = 1.0, max_depth = 5)\n",
        "GBC_d.fit(X_train_d, y_train_d)\n",
        "\n",
        "yt_preds = GBC.predict(X_test)\n",
        "\n",
        "yt_preds_d = GBC_d.predict(X_test_d)\n",
        "\n",
        "from sklearn.metrics import classification_report\n",
        "print(\"classification report for Label Encoded\") \n",
        "print(classification_report(y_test, yt_preds))\n",
        "\n",
        "\n",
        "from sklearn.metrics import classification_report\n",
        "print(\"classification report for get_dummies\") \n",
        "print(classification_report(y_test_d, yt_preds_d))\n",
        "\n",
        "print(\"Confusion Matrix\")\n",
        "print(confusion_matrix(y_test_d, yt_preds_d))"
      ]
    },
    {
      "cell_type": "code",
      "execution_count": 30,
      "metadata": {
        "id": "iucSawxQt0Me",
        "colab": {
          "base_uri": "https://localhost:8080/"
        },
        "outputId": "82b8f164-992a-4520-e7df-3cb1c566c614"
      },
      "outputs": [
        {
          "output_type": "execute_result",
          "data": {
            "text/plain": [
              "array([[10969,   600],\n",
              "       [  648, 10955]])"
            ]
          },
          "metadata": {},
          "execution_count": 30
        }
      ],
      "source": [
        "from sklearn.metrics import confusion_matrix\n",
        "cnf_matrix = confusion_matrix(y_test_d, yt_preds_d)\n",
        "np.set_printoptions(precision=2)\n",
        "cnf_matrix"
      ]
    },
    {
      "cell_type": "markdown",
      "metadata": {
        "id": "Jg29ccSblzgu"
      },
      "source": [
        "### **Random Forest Classifier**"
      ]
    },
    {
      "cell_type": "markdown",
      "metadata": {
        "id": "mlYUepEL4pby"
      },
      "source": [
        "Random forests or random decision forests is an ensemble learning method for classification, regression and other tasks that operates by constructing a multitude of decision trees at training time. For classification tasks, the output of the random forest is the class selected by most trees."
      ]
    },
    {
      "cell_type": "code",
      "execution_count": 33,
      "metadata": {
        "id": "JStbg26WlwMy",
        "colab": {
          "base_uri": "https://localhost:8080/"
        },
        "outputId": "e290bed2-d318-4806-8684-579a318e6cc2"
      },
      "outputs": [
        {
          "output_type": "stream",
          "name": "stdout",
          "text": [
            "classification report for Label Encoded\n",
            "              precision    recall  f1-score   support\n",
            "\n",
            "           0       0.89      0.86      0.87     11535\n",
            "           1       0.86      0.90      0.88     11600\n",
            "\n",
            "    accuracy                           0.88     23135\n",
            "   macro avg       0.88      0.88      0.88     23135\n",
            "weighted avg       0.88      0.88      0.88     23135\n",
            "\n",
            "classification report for get_dummies\n",
            "              precision    recall  f1-score   support\n",
            "\n",
            "           0       0.92      0.89      0.91     11569\n",
            "           1       0.90      0.93      0.91     11603\n",
            "\n",
            "    accuracy                           0.91     23172\n",
            "   macro avg       0.91      0.91      0.91     23172\n",
            "weighted avg       0.91      0.91      0.91     23172\n",
            "\n"
          ]
        }
      ],
      "source": [
        "from sklearn.ensemble import RandomForestClassifier\n",
        "from sklearn.metrics import f1_score\n",
        "\n",
        "rfc = RandomForestClassifier(n_estimators=100, max_depth=5,\n",
        "                                     random_state=0, class_weight=\"balanced\")\n",
        "\n",
        "#train the model \n",
        "rfc.fit(X_train ,y_train)\n",
        "\n",
        "\n",
        "rfc_d = RandomForestClassifier(n_estimators=100, max_depth=5,\n",
        "                                     random_state=0, class_weight=\"balanced\")\n",
        "\n",
        "#train the model \n",
        "rfc_d.fit(X_train_d ,y_train_d)\n",
        "\n",
        "yt_preds = rfc.predict(X_test)\n",
        "\n",
        "yt_preds_d = rfc_d.predict(X_test_d)\n",
        "\n",
        "\n",
        "from sklearn.metrics import classification_report\n",
        "print(\"classification report for Label Encoded\") \n",
        "print(classification_report(y_test, yt_preds))\n",
        "\n",
        "\n",
        "from sklearn.metrics import classification_report\n",
        "print(\"classification report for get_dummies\") \n",
        "print(classification_report(y_test_d, yt_preds_d))"
      ]
    },
    {
      "cell_type": "code",
      "execution_count": 34,
      "metadata": {
        "id": "KNulbaUKt0M4",
        "colab": {
          "base_uri": "https://localhost:8080/"
        },
        "outputId": "aadd616a-40cf-48f4-f8b4-eeeaf50d7489"
      },
      "outputs": [
        {
          "output_type": "execute_result",
          "data": {
            "text/plain": [
              "array([[ 9873,  1662],\n",
              "       [ 1204, 10396]])"
            ]
          },
          "metadata": {},
          "execution_count": 34
        }
      ],
      "source": [
        "from sklearn.metrics import confusion_matrix\n",
        "cnf_matrix = confusion_matrix(y_test, yt_preds)\n",
        "np.set_printoptions(precision=2)\n",
        "cnf_matrix"
      ]
    },
    {
      "cell_type": "markdown",
      "metadata": {
        "id": "RTg89JxJxXSS"
      },
      "source": [
        "### **Linear SVC Model**"
      ]
    },
    {
      "cell_type": "markdown",
      "metadata": {
        "id": "7_kVubyu4AS5"
      },
      "source": [
        "The objective of a Linear SVC (Support Vector Classifier) is to fit to the data you provide, returning a \"best fit\" hyperplane that divides, or categorizes, your data. From there, after getting the hyperplane, you can then feed some features to your classifier to see what the \"predicted\" class is."
      ]
    },
    {
      "cell_type": "code",
      "execution_count": 35,
      "metadata": {
        "id": "wHR3Q-J9uavS",
        "colab": {
          "base_uri": "https://localhost:8080/"
        },
        "outputId": "d163d49d-a444-4ab2-b4af-f495d831afcf"
      },
      "outputs": [
        {
          "output_type": "stream",
          "name": "stdout",
          "text": [
            "classification report for Label Encoded\n",
            "              precision    recall  f1-score   support\n",
            "\n",
            "           0       0.92      0.71      0.80     11535\n",
            "           1       0.76      0.94      0.84     11600\n",
            "\n",
            "    accuracy                           0.82     23135\n",
            "   macro avg       0.84      0.82      0.82     23135\n",
            "weighted avg       0.84      0.82      0.82     23135\n",
            "\n",
            "classification report for get_dummies\n",
            "              precision    recall  f1-score   support\n",
            "\n",
            "           0       0.93      0.94      0.94     11569\n",
            "           1       0.94      0.93      0.94     11603\n",
            "\n",
            "    accuracy                           0.94     23172\n",
            "   macro avg       0.94      0.94      0.94     23172\n",
            "weighted avg       0.94      0.94      0.94     23172\n",
            "\n"
          ]
        }
      ],
      "source": [
        "from sklearn.svm import LinearSVC\n",
        "linear_svc = LinearSVC(C = 1)\n",
        "\n",
        "#train the model \n",
        "linear_svc.fit(X_train, y_train)\n",
        "#Validate The Model\n",
        "\n",
        "linear_svc_d = LinearSVC(C = 1)\n",
        "\n",
        "#train the model \n",
        "linear_svc_d.fit(X_train_d, y_train_d)\n",
        "#Validate The Model\n",
        "\n",
        "yt_preds = linear_svc.predict(X_test)\n",
        "\n",
        "yt_preds_d = linear_svc_d.predict(X_test_d)\n",
        "\n",
        "\n",
        "from sklearn.metrics import classification_report\n",
        "print(\"classification report for Label Encoded\") \n",
        "print(classification_report(y_test, yt_preds))\n",
        "\n",
        "\n",
        "from sklearn.metrics import classification_report\n",
        "print(\"classification report for get_dummies\") \n",
        "print(classification_report(y_test_d, yt_preds_d))"
      ]
    },
    {
      "cell_type": "code",
      "execution_count": 36,
      "metadata": {
        "id": "5bT13yF4t0M7",
        "colab": {
          "base_uri": "https://localhost:8080/"
        },
        "outputId": "b1a9defb-9ff9-48f3-bb9d-9de60e31c36c"
      },
      "outputs": [
        {
          "output_type": "execute_result",
          "data": {
            "text/plain": [
              "array([[ 8137,  3398],\n",
              "       [  663, 10937]])"
            ]
          },
          "metadata": {},
          "execution_count": 36
        }
      ],
      "source": [
        "from sklearn.metrics import confusion_matrix\n",
        "cnf_matrix = confusion_matrix(y_test, yt_preds )\n",
        "np.set_printoptions(precision=2)\n",
        "cnf_matrix"
      ]
    },
    {
      "cell_type": "code",
      "source": [
        "# Dictionary of results\n",
        "from sklearn.metrics import f1_score\n",
        "results_dict = {'Label Encoding':\n",
        "                    {\n",
        "                        \"GradientBoostingClassifier\": f1_score(y_test, GBC.predict(X_test)),\n",
        "                        \"RandomForestClassifier\": f1_score(y_test, rfc.predict(X_test)),\n",
        "                        \"SupportVectorMachine\": f1_score(y_test,linear_svc.predict(X_test)),\n",
        "                        \"LogisticRegression\": f1_score(y_test, lr.predict(X_test))\n",
        "                        \n",
        "                    },\n",
        "                    'Get_Dummies Encoding':\n",
        "                    {\n",
        "                        \"GradientBoostingClassifier\": f1_score(y_test_d, GBC_d.predict(X_test_d)),\n",
        "                        \"RandomForestClassifier\": f1_score(y_test_d, rfc_d.predict(X_test_d)),\n",
        "                        \"SupportVectorMachine\": f1_score(y_test_d, linear_svc_d.predict(X_test_d)),\n",
        "                        \"LogisticRegression\": f1_score(y_test_d, lr_d.predict(X_test_d))\n",
        "                        \n",
        "                    }\n",
        "\n",
        "                }\n",
        "\n",
        "# Create dataframe from dictionary\n",
        "results = pd.DataFrame(results_dict)\n",
        "results.head()"
      ],
      "metadata": {
        "colab": {
          "base_uri": "https://localhost:8080/",
          "height": 175
        },
        "id": "4Qx68sOI7sW7",
        "outputId": "b1f48edc-9787-41c1-d8e2-8a7bc6cff986"
      },
      "execution_count": 37,
      "outputs": [
        {
          "output_type": "execute_result",
          "data": {
            "text/plain": [
              "                            Label Encoding  Get_Dummies Encoding\n",
              "GradientBoostingClassifier        0.945527              0.946109\n",
              "RandomForestClassifier            0.878857              0.910139\n",
              "SupportVectorMachine              0.843416              0.935669\n",
              "LogisticRegression                0.402986              0.576608"
            ],
            "text/html": [
              "\n",
              "  <div id=\"df-b1d6b550-51d3-42a2-ab11-71dc56f9e375\">\n",
              "    <div class=\"colab-df-container\">\n",
              "      <div>\n",
              "<style scoped>\n",
              "    .dataframe tbody tr th:only-of-type {\n",
              "        vertical-align: middle;\n",
              "    }\n",
              "\n",
              "    .dataframe tbody tr th {\n",
              "        vertical-align: top;\n",
              "    }\n",
              "\n",
              "    .dataframe thead th {\n",
              "        text-align: right;\n",
              "    }\n",
              "</style>\n",
              "<table border=\"1\" class=\"dataframe\">\n",
              "  <thead>\n",
              "    <tr style=\"text-align: right;\">\n",
              "      <th></th>\n",
              "      <th>Label Encoding</th>\n",
              "      <th>Get_Dummies Encoding</th>\n",
              "    </tr>\n",
              "  </thead>\n",
              "  <tbody>\n",
              "    <tr>\n",
              "      <th>GradientBoostingClassifier</th>\n",
              "      <td>0.945527</td>\n",
              "      <td>0.946109</td>\n",
              "    </tr>\n",
              "    <tr>\n",
              "      <th>RandomForestClassifier</th>\n",
              "      <td>0.878857</td>\n",
              "      <td>0.910139</td>\n",
              "    </tr>\n",
              "    <tr>\n",
              "      <th>SupportVectorMachine</th>\n",
              "      <td>0.843416</td>\n",
              "      <td>0.935669</td>\n",
              "    </tr>\n",
              "    <tr>\n",
              "      <th>LogisticRegression</th>\n",
              "      <td>0.402986</td>\n",
              "      <td>0.576608</td>\n",
              "    </tr>\n",
              "  </tbody>\n",
              "</table>\n",
              "</div>\n",
              "      <button class=\"colab-df-convert\" onclick=\"convertToInteractive('df-b1d6b550-51d3-42a2-ab11-71dc56f9e375')\"\n",
              "              title=\"Convert this dataframe to an interactive table.\"\n",
              "              style=\"display:none;\">\n",
              "        \n",
              "  <svg xmlns=\"http://www.w3.org/2000/svg\" height=\"24px\"viewBox=\"0 0 24 24\"\n",
              "       width=\"24px\">\n",
              "    <path d=\"M0 0h24v24H0V0z\" fill=\"none\"/>\n",
              "    <path d=\"M18.56 5.44l.94 2.06.94-2.06 2.06-.94-2.06-.94-.94-2.06-.94 2.06-2.06.94zm-11 1L8.5 8.5l.94-2.06 2.06-.94-2.06-.94L8.5 2.5l-.94 2.06-2.06.94zm10 10l.94 2.06.94-2.06 2.06-.94-2.06-.94-.94-2.06-.94 2.06-2.06.94z\"/><path d=\"M17.41 7.96l-1.37-1.37c-.4-.4-.92-.59-1.43-.59-.52 0-1.04.2-1.43.59L10.3 9.45l-7.72 7.72c-.78.78-.78 2.05 0 2.83L4 21.41c.39.39.9.59 1.41.59.51 0 1.02-.2 1.41-.59l7.78-7.78 2.81-2.81c.8-.78.8-2.07 0-2.86zM5.41 20L4 18.59l7.72-7.72 1.47 1.35L5.41 20z\"/>\n",
              "  </svg>\n",
              "      </button>\n",
              "      \n",
              "  <style>\n",
              "    .colab-df-container {\n",
              "      display:flex;\n",
              "      flex-wrap:wrap;\n",
              "      gap: 12px;\n",
              "    }\n",
              "\n",
              "    .colab-df-convert {\n",
              "      background-color: #E8F0FE;\n",
              "      border: none;\n",
              "      border-radius: 50%;\n",
              "      cursor: pointer;\n",
              "      display: none;\n",
              "      fill: #1967D2;\n",
              "      height: 32px;\n",
              "      padding: 0 0 0 0;\n",
              "      width: 32px;\n",
              "    }\n",
              "\n",
              "    .colab-df-convert:hover {\n",
              "      background-color: #E2EBFA;\n",
              "      box-shadow: 0px 1px 2px rgba(60, 64, 67, 0.3), 0px 1px 3px 1px rgba(60, 64, 67, 0.15);\n",
              "      fill: #174EA6;\n",
              "    }\n",
              "\n",
              "    [theme=dark] .colab-df-convert {\n",
              "      background-color: #3B4455;\n",
              "      fill: #D2E3FC;\n",
              "    }\n",
              "\n",
              "    [theme=dark] .colab-df-convert:hover {\n",
              "      background-color: #434B5C;\n",
              "      box-shadow: 0px 1px 3px 1px rgba(0, 0, 0, 0.15);\n",
              "      filter: drop-shadow(0px 1px 2px rgba(0, 0, 0, 0.3));\n",
              "      fill: #FFFFFF;\n",
              "    }\n",
              "  </style>\n",
              "\n",
              "      <script>\n",
              "        const buttonEl =\n",
              "          document.querySelector('#df-b1d6b550-51d3-42a2-ab11-71dc56f9e375 button.colab-df-convert');\n",
              "        buttonEl.style.display =\n",
              "          google.colab.kernel.accessAllowed ? 'block' : 'none';\n",
              "\n",
              "        async function convertToInteractive(key) {\n",
              "          const element = document.querySelector('#df-b1d6b550-51d3-42a2-ab11-71dc56f9e375');\n",
              "          const dataTable =\n",
              "            await google.colab.kernel.invokeFunction('convertToInteractive',\n",
              "                                                     [key], {});\n",
              "          if (!dataTable) return;\n",
              "\n",
              "          const docLinkHtml = 'Like what you see? Visit the ' +\n",
              "            '<a target=\"_blank\" href=https://colab.research.google.com/notebooks/data_table.ipynb>data table notebook</a>'\n",
              "            + ' to learn more about interactive tables.';\n",
              "          element.innerHTML = '';\n",
              "          dataTable['output_type'] = 'display_data';\n",
              "          await google.colab.output.renderOutput(dataTable, element);\n",
              "          const docLink = document.createElement('div');\n",
              "          docLink.innerHTML = docLinkHtml;\n",
              "          element.appendChild(docLink);\n",
              "        }\n",
              "      </script>\n",
              "    </div>\n",
              "  </div>\n",
              "  "
            ]
          },
          "metadata": {},
          "execution_count": 37
        }
      ]
    },
    {
      "cell_type": "markdown",
      "metadata": {
        "id": "sVG7jkSIeCZF"
      },
      "source": [
        "<a id=\"conclusion\"></a>\n",
        "## 8. **Conclusion**"
      ]
    },
    {
      "cell_type": "code",
      "execution_count": null,
      "metadata": {
        "id": "CeJPJHyUeDYC"
      },
      "outputs": [],
      "source": [
        ""
      ]
    },
    {
      "cell_type": "markdown",
      "metadata": {
        "id": "u3oI_1ISeELl"
      },
      "source": [
        "<a id=\"references\"></a>\n",
        "## 9. **References**"
      ]
    },
    {
      "cell_type": "markdown",
      "source": [
        "1. https://www.kaggle.com/code/residentmario/oversampling-with-smote-and-adasyn/notebook\n",
        "\n",
        "2. https://www.analyticsvidhya.com/blog/2021/06/5-techniques-to-handle-imbalanced-data-for-a-classification-problem/#:~:text=Imbalanced%20data%20refers%20to%20those,understand%20it%20with%20an%20example."
      ],
      "metadata": {
        "id": "HbmVNlRIwWDB"
      }
    }
  ],
  "metadata": {
    "colab": {
      "name": "Data.ipynb",
      "provenance": [],
      "include_colab_link": true
    },
    "kernelspec": {
      "display_name": "Python 3",
      "language": "python",
      "name": "python3"
    },
    "language_info": {
      "codemirror_mode": {
        "name": "ipython",
        "version": 3
      },
      "file_extension": ".py",
      "mimetype": "text/x-python",
      "name": "python",
      "nbconvert_exporter": "python",
      "pygments_lexer": "ipython3",
      "version": "3.8.8"
    }
  },
  "nbformat": 4,
  "nbformat_minor": 0
}